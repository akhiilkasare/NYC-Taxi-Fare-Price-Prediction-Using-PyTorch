{
  "nbformat": 4,
  "nbformat_minor": 0,
  "metadata": {
    "kernelspec": {
      "display_name": "Python 3",
      "language": "python",
      "name": "python3"
    },
    "language_info": {
      "codemirror_mode": {
        "name": "ipython",
        "version": 3
      },
      "file_extension": ".py",
      "mimetype": "text/x-python",
      "name": "python",
      "nbconvert_exporter": "python",
      "pygments_lexer": "ipython3",
      "version": "3.7.3"
    },
    "colab": {
      "name": "NYC Taxi Fares Prediction Using Pytorch Regression Problem.ipynb",
      "provenance": [],
      "include_colab_link": true
    },
    "accelerator": "GPU"
  },
  "cells": [
    {
      "cell_type": "markdown",
      "metadata": {
        "id": "view-in-github",
        "colab_type": "text"
      },
      "source": [
        "<a href=\"https://colab.research.google.com/github/akhiilkasare/NYC-Taxi-Fare-Price-Prediction-Using-PyTorch/blob/main/NYC_Taxi_Fares_Prediction_Using_Pytorch_Regression_Problem.ipynb\" target=\"_parent\"><img src=\"https://colab.research.google.com/assets/colab-badge.svg\" alt=\"Open In Colab\"/></a>"
      ]
    },
    {
      "cell_type": "code",
      "metadata": {
        "id": "h_kMoy9W042d"
      },
      "source": [
        "import torch \n",
        "import torch.nn as nn\n",
        "import pandas as pd\n",
        "import numpy as np\n",
        "import matplotlib.pyplot as plt\n",
        "%matplotlib inline"
      ],
      "execution_count": null,
      "outputs": []
    },
    {
      "cell_type": "code",
      "metadata": {
        "id": "zMtHFECZ2U4f",
        "colab": {
          "base_uri": "https://localhost:8080/",
          "height": 34
        },
        "outputId": "4bf04ffb-29fe-4cae-c9dd-37cfe40dea29"
      },
      "source": [
        "from google.colab import drive\n",
        "drive.mount('/content/drive')"
      ],
      "execution_count": null,
      "outputs": [
        {
          "output_type": "stream",
          "text": [
            "Drive already mounted at /content/drive; to attempt to forcibly remount, call drive.mount(\"/content/drive\", force_remount=True).\n"
          ],
          "name": "stdout"
        }
      ]
    },
    {
      "cell_type": "code",
      "metadata": {
        "id": "SyCMlhfF1RmH"
      },
      "source": [
        ""
      ],
      "execution_count": null,
      "outputs": []
    },
    {
      "cell_type": "code",
      "metadata": {
        "id": "a-I9Vb0L042r"
      },
      "source": [
        "df = pd.read_csv('/content/drive/My Drive/nyc-taxi-fare-price-pytorch/NYCTaxiFares.csv')"
      ],
      "execution_count": null,
      "outputs": []
    },
    {
      "cell_type": "code",
      "metadata": {
        "id": "9mOofKzQ0423",
        "colab": {
          "base_uri": "https://localhost:8080/",
          "height": 206
        },
        "outputId": "c3bab19d-6f82-4404-c6a4-b7856155595b"
      },
      "source": [
        "df.head()"
      ],
      "execution_count": null,
      "outputs": [
        {
          "output_type": "execute_result",
          "data": {
            "text/html": [
              "<div>\n",
              "<style scoped>\n",
              "    .dataframe tbody tr th:only-of-type {\n",
              "        vertical-align: middle;\n",
              "    }\n",
              "\n",
              "    .dataframe tbody tr th {\n",
              "        vertical-align: top;\n",
              "    }\n",
              "\n",
              "    .dataframe thead th {\n",
              "        text-align: right;\n",
              "    }\n",
              "</style>\n",
              "<table border=\"1\" class=\"dataframe\">\n",
              "  <thead>\n",
              "    <tr style=\"text-align: right;\">\n",
              "      <th></th>\n",
              "      <th>pickup_datetime</th>\n",
              "      <th>fare_amount</th>\n",
              "      <th>fare_class</th>\n",
              "      <th>pickup_longitude</th>\n",
              "      <th>pickup_latitude</th>\n",
              "      <th>dropoff_longitude</th>\n",
              "      <th>dropoff_latitude</th>\n",
              "      <th>passenger_count</th>\n",
              "    </tr>\n",
              "  </thead>\n",
              "  <tbody>\n",
              "    <tr>\n",
              "      <th>0</th>\n",
              "      <td>2010-04-19 08:17:56 UTC</td>\n",
              "      <td>6.5</td>\n",
              "      <td>0</td>\n",
              "      <td>-73.992365</td>\n",
              "      <td>40.730521</td>\n",
              "      <td>-73.975499</td>\n",
              "      <td>40.744746</td>\n",
              "      <td>1</td>\n",
              "    </tr>\n",
              "    <tr>\n",
              "      <th>1</th>\n",
              "      <td>2010-04-17 15:43:53 UTC</td>\n",
              "      <td>6.9</td>\n",
              "      <td>0</td>\n",
              "      <td>-73.990078</td>\n",
              "      <td>40.740558</td>\n",
              "      <td>-73.974232</td>\n",
              "      <td>40.744114</td>\n",
              "      <td>1</td>\n",
              "    </tr>\n",
              "    <tr>\n",
              "      <th>2</th>\n",
              "      <td>2010-04-17 11:23:26 UTC</td>\n",
              "      <td>10.1</td>\n",
              "      <td>1</td>\n",
              "      <td>-73.994149</td>\n",
              "      <td>40.751118</td>\n",
              "      <td>-73.960064</td>\n",
              "      <td>40.766235</td>\n",
              "      <td>2</td>\n",
              "    </tr>\n",
              "    <tr>\n",
              "      <th>3</th>\n",
              "      <td>2010-04-11 21:25:03 UTC</td>\n",
              "      <td>8.9</td>\n",
              "      <td>0</td>\n",
              "      <td>-73.990485</td>\n",
              "      <td>40.756422</td>\n",
              "      <td>-73.971205</td>\n",
              "      <td>40.748192</td>\n",
              "      <td>1</td>\n",
              "    </tr>\n",
              "    <tr>\n",
              "      <th>4</th>\n",
              "      <td>2010-04-17 02:19:01 UTC</td>\n",
              "      <td>19.7</td>\n",
              "      <td>1</td>\n",
              "      <td>-73.990976</td>\n",
              "      <td>40.734202</td>\n",
              "      <td>-73.905956</td>\n",
              "      <td>40.743115</td>\n",
              "      <td>1</td>\n",
              "    </tr>\n",
              "  </tbody>\n",
              "</table>\n",
              "</div>"
            ],
            "text/plain": [
              "           pickup_datetime  fare_amount  ...  dropoff_latitude  passenger_count\n",
              "0  2010-04-19 08:17:56 UTC          6.5  ...         40.744746                1\n",
              "1  2010-04-17 15:43:53 UTC          6.9  ...         40.744114                1\n",
              "2  2010-04-17 11:23:26 UTC         10.1  ...         40.766235                2\n",
              "3  2010-04-11 21:25:03 UTC          8.9  ...         40.748192                1\n",
              "4  2010-04-17 02:19:01 UTC         19.7  ...         40.743115                1\n",
              "\n",
              "[5 rows x 8 columns]"
            ]
          },
          "metadata": {
            "tags": []
          },
          "execution_count": 7
        }
      ]
    },
    {
      "cell_type": "code",
      "metadata": {
        "id": "DDHJ8AEw043D",
        "colab": {
          "base_uri": "https://localhost:8080/",
          "height": 300
        },
        "outputId": "d947013d-c292-43be-8494-e207073e97a6"
      },
      "source": [
        "df.describe()"
      ],
      "execution_count": null,
      "outputs": [
        {
          "output_type": "execute_result",
          "data": {
            "text/html": [
              "<div>\n",
              "<style scoped>\n",
              "    .dataframe tbody tr th:only-of-type {\n",
              "        vertical-align: middle;\n",
              "    }\n",
              "\n",
              "    .dataframe tbody tr th {\n",
              "        vertical-align: top;\n",
              "    }\n",
              "\n",
              "    .dataframe thead th {\n",
              "        text-align: right;\n",
              "    }\n",
              "</style>\n",
              "<table border=\"1\" class=\"dataframe\">\n",
              "  <thead>\n",
              "    <tr style=\"text-align: right;\">\n",
              "      <th></th>\n",
              "      <th>fare_amount</th>\n",
              "      <th>fare_class</th>\n",
              "      <th>pickup_longitude</th>\n",
              "      <th>pickup_latitude</th>\n",
              "      <th>dropoff_longitude</th>\n",
              "      <th>dropoff_latitude</th>\n",
              "      <th>passenger_count</th>\n",
              "    </tr>\n",
              "  </thead>\n",
              "  <tbody>\n",
              "    <tr>\n",
              "      <th>count</th>\n",
              "      <td>120000.000000</td>\n",
              "      <td>120000.000000</td>\n",
              "      <td>120000.000000</td>\n",
              "      <td>120000.000000</td>\n",
              "      <td>120000.000000</td>\n",
              "      <td>120000.000000</td>\n",
              "      <td>120000.000000</td>\n",
              "    </tr>\n",
              "    <tr>\n",
              "      <th>mean</th>\n",
              "      <td>10.040326</td>\n",
              "      <td>0.333333</td>\n",
              "      <td>-73.976626</td>\n",
              "      <td>40.751443</td>\n",
              "      <td>-73.974501</td>\n",
              "      <td>40.751695</td>\n",
              "      <td>1.347167</td>\n",
              "    </tr>\n",
              "    <tr>\n",
              "      <th>std</th>\n",
              "      <td>7.500134</td>\n",
              "      <td>0.471406</td>\n",
              "      <td>0.031497</td>\n",
              "      <td>0.025821</td>\n",
              "      <td>0.032419</td>\n",
              "      <td>0.030279</td>\n",
              "      <td>0.759263</td>\n",
              "    </tr>\n",
              "    <tr>\n",
              "      <th>min</th>\n",
              "      <td>2.500000</td>\n",
              "      <td>0.000000</td>\n",
              "      <td>-74.465447</td>\n",
              "      <td>40.121653</td>\n",
              "      <td>-74.443323</td>\n",
              "      <td>40.164927</td>\n",
              "      <td>1.000000</td>\n",
              "    </tr>\n",
              "    <tr>\n",
              "      <th>25%</th>\n",
              "      <td>5.700000</td>\n",
              "      <td>0.000000</td>\n",
              "      <td>-73.992386</td>\n",
              "      <td>40.736594</td>\n",
              "      <td>-73.991478</td>\n",
              "      <td>40.735914</td>\n",
              "      <td>1.000000</td>\n",
              "    </tr>\n",
              "    <tr>\n",
              "      <th>50%</th>\n",
              "      <td>7.700000</td>\n",
              "      <td>0.000000</td>\n",
              "      <td>-73.982084</td>\n",
              "      <td>40.753661</td>\n",
              "      <td>-73.980411</td>\n",
              "      <td>40.754441</td>\n",
              "      <td>1.000000</td>\n",
              "    </tr>\n",
              "    <tr>\n",
              "      <th>75%</th>\n",
              "      <td>11.300000</td>\n",
              "      <td>1.000000</td>\n",
              "      <td>-73.968710</td>\n",
              "      <td>40.768020</td>\n",
              "      <td>-73.965500</td>\n",
              "      <td>40.768880</td>\n",
              "      <td>1.000000</td>\n",
              "    </tr>\n",
              "    <tr>\n",
              "      <th>max</th>\n",
              "      <td>49.900000</td>\n",
              "      <td>1.000000</td>\n",
              "      <td>-73.311845</td>\n",
              "      <td>40.981292</td>\n",
              "      <td>-73.496140</td>\n",
              "      <td>40.993498</td>\n",
              "      <td>5.000000</td>\n",
              "    </tr>\n",
              "  </tbody>\n",
              "</table>\n",
              "</div>"
            ],
            "text/plain": [
              "         fare_amount     fare_class  ...  dropoff_latitude  passenger_count\n",
              "count  120000.000000  120000.000000  ...     120000.000000    120000.000000\n",
              "mean       10.040326       0.333333  ...         40.751695         1.347167\n",
              "std         7.500134       0.471406  ...          0.030279         0.759263\n",
              "min         2.500000       0.000000  ...         40.164927         1.000000\n",
              "25%         5.700000       0.000000  ...         40.735914         1.000000\n",
              "50%         7.700000       0.000000  ...         40.754441         1.000000\n",
              "75%        11.300000       1.000000  ...         40.768880         1.000000\n",
              "max        49.900000       1.000000  ...         40.993498         5.000000\n",
              "\n",
              "[8 rows x 7 columns]"
            ]
          },
          "metadata": {
            "tags": []
          },
          "execution_count": 8
        }
      ]
    },
    {
      "cell_type": "markdown",
      "metadata": {
        "id": "uoYc9ZFZ043K"
      },
      "source": [
        "### Converting the latitude and longitude in kms using havershine distance formula"
      ]
    },
    {
      "cell_type": "code",
      "metadata": {
        "id": "0uTzGisn043N"
      },
      "source": [
        "def haversine_distance(df, lat1, long1, lat2, long2):\n",
        "    \"\"\"\n",
        "    Calculates the haversine distance between 2 sets of GPS coordinates in df\n",
        "    \"\"\"\n",
        "    r = 6371  # average radius of Earth in kilometers\n",
        "       \n",
        "    phi1 = np.radians(df[lat1])  # converting the longitude and latidtude into numpy radians\n",
        "    phi2 = np.radians(df[lat2])\n",
        "    \n",
        "    delta_phi = np.radians(df[lat2]-df[lat1])\n",
        "    delta_lambda = np.radians(df[long2]-df[long1])\n",
        "     \n",
        "    a = np.sin(delta_phi/2)**2 + np.cos(phi1) * np.cos(phi2) * np.sin(delta_lambda/2)**2\n",
        "    c = 2 * np.arctan2(np.sqrt(a), np.sqrt(1-a))\n",
        "    d = (r * c) # in kilometers\n",
        "\n",
        "    return d"
      ],
      "execution_count": null,
      "outputs": []
    },
    {
      "cell_type": "code",
      "metadata": {
        "id": "ndjylfZl043U"
      },
      "source": [
        "df['distance_km'] = haversine_distance(df, 'pickup_latitude', 'pickup_longitude','dropoff_latitude','dropoff_longitude')"
      ],
      "execution_count": null,
      "outputs": []
    },
    {
      "cell_type": "code",
      "metadata": {
        "id": "q_2itjMp043d",
        "colab": {
          "base_uri": "https://localhost:8080/",
          "height": 86
        },
        "outputId": "2f841274-502b-4626-c060-d7b6030a1aa7"
      },
      "source": [
        "df.columns"
      ],
      "execution_count": null,
      "outputs": [
        {
          "output_type": "execute_result",
          "data": {
            "text/plain": [
              "Index(['pickup_datetime', 'fare_amount', 'fare_class', 'pickup_longitude',\n",
              "       'pickup_latitude', 'dropoff_longitude', 'dropoff_latitude',\n",
              "       'passenger_count', 'distance_km'],\n",
              "      dtype='object')"
            ]
          },
          "metadata": {
            "tags": []
          },
          "execution_count": 11
        }
      ]
    },
    {
      "cell_type": "code",
      "metadata": {
        "id": "l-Vxf8_0043k",
        "colab": {
          "base_uri": "https://localhost:8080/",
          "height": 206
        },
        "outputId": "c4c70ebc-f8ea-406b-91d3-27c3512de2f9"
      },
      "source": [
        "df.head()"
      ],
      "execution_count": null,
      "outputs": [
        {
          "output_type": "execute_result",
          "data": {
            "text/html": [
              "<div>\n",
              "<style scoped>\n",
              "    .dataframe tbody tr th:only-of-type {\n",
              "        vertical-align: middle;\n",
              "    }\n",
              "\n",
              "    .dataframe tbody tr th {\n",
              "        vertical-align: top;\n",
              "    }\n",
              "\n",
              "    .dataframe thead th {\n",
              "        text-align: right;\n",
              "    }\n",
              "</style>\n",
              "<table border=\"1\" class=\"dataframe\">\n",
              "  <thead>\n",
              "    <tr style=\"text-align: right;\">\n",
              "      <th></th>\n",
              "      <th>pickup_datetime</th>\n",
              "      <th>fare_amount</th>\n",
              "      <th>fare_class</th>\n",
              "      <th>pickup_longitude</th>\n",
              "      <th>pickup_latitude</th>\n",
              "      <th>dropoff_longitude</th>\n",
              "      <th>dropoff_latitude</th>\n",
              "      <th>passenger_count</th>\n",
              "      <th>distance_km</th>\n",
              "    </tr>\n",
              "  </thead>\n",
              "  <tbody>\n",
              "    <tr>\n",
              "      <th>0</th>\n",
              "      <td>2010-04-19 08:17:56 UTC</td>\n",
              "      <td>6.5</td>\n",
              "      <td>0</td>\n",
              "      <td>-73.992365</td>\n",
              "      <td>40.730521</td>\n",
              "      <td>-73.975499</td>\n",
              "      <td>40.744746</td>\n",
              "      <td>1</td>\n",
              "      <td>2.126312</td>\n",
              "    </tr>\n",
              "    <tr>\n",
              "      <th>1</th>\n",
              "      <td>2010-04-17 15:43:53 UTC</td>\n",
              "      <td>6.9</td>\n",
              "      <td>0</td>\n",
              "      <td>-73.990078</td>\n",
              "      <td>40.740558</td>\n",
              "      <td>-73.974232</td>\n",
              "      <td>40.744114</td>\n",
              "      <td>1</td>\n",
              "      <td>1.392307</td>\n",
              "    </tr>\n",
              "    <tr>\n",
              "      <th>2</th>\n",
              "      <td>2010-04-17 11:23:26 UTC</td>\n",
              "      <td>10.1</td>\n",
              "      <td>1</td>\n",
              "      <td>-73.994149</td>\n",
              "      <td>40.751118</td>\n",
              "      <td>-73.960064</td>\n",
              "      <td>40.766235</td>\n",
              "      <td>2</td>\n",
              "      <td>3.326763</td>\n",
              "    </tr>\n",
              "    <tr>\n",
              "      <th>3</th>\n",
              "      <td>2010-04-11 21:25:03 UTC</td>\n",
              "      <td>8.9</td>\n",
              "      <td>0</td>\n",
              "      <td>-73.990485</td>\n",
              "      <td>40.756422</td>\n",
              "      <td>-73.971205</td>\n",
              "      <td>40.748192</td>\n",
              "      <td>1</td>\n",
              "      <td>1.864129</td>\n",
              "    </tr>\n",
              "    <tr>\n",
              "      <th>4</th>\n",
              "      <td>2010-04-17 02:19:01 UTC</td>\n",
              "      <td>19.7</td>\n",
              "      <td>1</td>\n",
              "      <td>-73.990976</td>\n",
              "      <td>40.734202</td>\n",
              "      <td>-73.905956</td>\n",
              "      <td>40.743115</td>\n",
              "      <td>1</td>\n",
              "      <td>7.231321</td>\n",
              "    </tr>\n",
              "  </tbody>\n",
              "</table>\n",
              "</div>"
            ],
            "text/plain": [
              "           pickup_datetime  fare_amount  ...  passenger_count  distance_km\n",
              "0  2010-04-19 08:17:56 UTC          6.5  ...                1     2.126312\n",
              "1  2010-04-17 15:43:53 UTC          6.9  ...                1     1.392307\n",
              "2  2010-04-17 11:23:26 UTC         10.1  ...                2     3.326763\n",
              "3  2010-04-11 21:25:03 UTC          8.9  ...                1     1.864129\n",
              "4  2010-04-17 02:19:01 UTC         19.7  ...                1     7.231321\n",
              "\n",
              "[5 rows x 9 columns]"
            ]
          },
          "metadata": {
            "tags": []
          },
          "execution_count": 12
        }
      ]
    },
    {
      "cell_type": "code",
      "metadata": {
        "id": "n9eqQ5rL043q",
        "colab": {
          "base_uri": "https://localhost:8080/",
          "height": 295
        },
        "outputId": "76e49fd2-6571-463e-ba52-75133e00565a"
      },
      "source": [
        "df.info()"
      ],
      "execution_count": null,
      "outputs": [
        {
          "output_type": "stream",
          "text": [
            "<class 'pandas.core.frame.DataFrame'>\n",
            "RangeIndex: 120000 entries, 0 to 119999\n",
            "Data columns (total 9 columns):\n",
            " #   Column             Non-Null Count   Dtype  \n",
            "---  ------             --------------   -----  \n",
            " 0   pickup_datetime    120000 non-null  object \n",
            " 1   fare_amount        120000 non-null  float64\n",
            " 2   fare_class         120000 non-null  int64  \n",
            " 3   pickup_longitude   120000 non-null  float64\n",
            " 4   pickup_latitude    120000 non-null  float64\n",
            " 5   dropoff_longitude  120000 non-null  float64\n",
            " 6   dropoff_latitude   120000 non-null  float64\n",
            " 7   passenger_count    120000 non-null  int64  \n",
            " 8   distance_km        120000 non-null  float64\n",
            "dtypes: float64(6), int64(2), object(1)\n",
            "memory usage: 8.2+ MB\n"
          ],
          "name": "stdout"
        }
      ]
    },
    {
      "cell_type": "markdown",
      "metadata": {
        "id": "uvFmkwkA043z"
      },
      "source": [
        "### Converting the pickup_datetime object column into date_time column"
      ]
    },
    {
      "cell_type": "code",
      "metadata": {
        "id": "iNL9qDVh0431"
      },
      "source": [
        "df['pickup_datetime'] = pd.to_datetime(df['pickup_datetime'])"
      ],
      "execution_count": null,
      "outputs": []
    },
    {
      "cell_type": "code",
      "metadata": {
        "id": "Ud8qD7940438",
        "colab": {
          "base_uri": "https://localhost:8080/",
          "height": 295
        },
        "outputId": "52abf100-3f27-4f92-97f5-49e832a369b1"
      },
      "source": [
        "df.info()"
      ],
      "execution_count": null,
      "outputs": [
        {
          "output_type": "stream",
          "text": [
            "<class 'pandas.core.frame.DataFrame'>\n",
            "RangeIndex: 120000 entries, 0 to 119999\n",
            "Data columns (total 9 columns):\n",
            " #   Column             Non-Null Count   Dtype              \n",
            "---  ------             --------------   -----              \n",
            " 0   pickup_datetime    120000 non-null  datetime64[ns, UTC]\n",
            " 1   fare_amount        120000 non-null  float64            \n",
            " 2   fare_class         120000 non-null  int64              \n",
            " 3   pickup_longitude   120000 non-null  float64            \n",
            " 4   pickup_latitude    120000 non-null  float64            \n",
            " 5   dropoff_longitude  120000 non-null  float64            \n",
            " 6   dropoff_latitude   120000 non-null  float64            \n",
            " 7   passenger_count    120000 non-null  int64              \n",
            " 8   distance_km        120000 non-null  float64            \n",
            "dtypes: datetime64[ns, UTC](1), float64(6), int64(2)\n",
            "memory usage: 8.2 MB\n"
          ],
          "name": "stdout"
        }
      ]
    },
    {
      "cell_type": "code",
      "metadata": {
        "id": "3D7Xr7y0044I",
        "colab": {
          "base_uri": "https://localhost:8080/",
          "height": 206
        },
        "outputId": "bb58a8f6-8af6-43d3-84c0-0ef37583bdd6"
      },
      "source": [
        "df.head()"
      ],
      "execution_count": null,
      "outputs": [
        {
          "output_type": "execute_result",
          "data": {
            "text/html": [
              "<div>\n",
              "<style scoped>\n",
              "    .dataframe tbody tr th:only-of-type {\n",
              "        vertical-align: middle;\n",
              "    }\n",
              "\n",
              "    .dataframe tbody tr th {\n",
              "        vertical-align: top;\n",
              "    }\n",
              "\n",
              "    .dataframe thead th {\n",
              "        text-align: right;\n",
              "    }\n",
              "</style>\n",
              "<table border=\"1\" class=\"dataframe\">\n",
              "  <thead>\n",
              "    <tr style=\"text-align: right;\">\n",
              "      <th></th>\n",
              "      <th>pickup_datetime</th>\n",
              "      <th>fare_amount</th>\n",
              "      <th>fare_class</th>\n",
              "      <th>pickup_longitude</th>\n",
              "      <th>pickup_latitude</th>\n",
              "      <th>dropoff_longitude</th>\n",
              "      <th>dropoff_latitude</th>\n",
              "      <th>passenger_count</th>\n",
              "      <th>distance_km</th>\n",
              "    </tr>\n",
              "  </thead>\n",
              "  <tbody>\n",
              "    <tr>\n",
              "      <th>0</th>\n",
              "      <td>2010-04-19 08:17:56+00:00</td>\n",
              "      <td>6.5</td>\n",
              "      <td>0</td>\n",
              "      <td>-73.992365</td>\n",
              "      <td>40.730521</td>\n",
              "      <td>-73.975499</td>\n",
              "      <td>40.744746</td>\n",
              "      <td>1</td>\n",
              "      <td>2.126312</td>\n",
              "    </tr>\n",
              "    <tr>\n",
              "      <th>1</th>\n",
              "      <td>2010-04-17 15:43:53+00:00</td>\n",
              "      <td>6.9</td>\n",
              "      <td>0</td>\n",
              "      <td>-73.990078</td>\n",
              "      <td>40.740558</td>\n",
              "      <td>-73.974232</td>\n",
              "      <td>40.744114</td>\n",
              "      <td>1</td>\n",
              "      <td>1.392307</td>\n",
              "    </tr>\n",
              "    <tr>\n",
              "      <th>2</th>\n",
              "      <td>2010-04-17 11:23:26+00:00</td>\n",
              "      <td>10.1</td>\n",
              "      <td>1</td>\n",
              "      <td>-73.994149</td>\n",
              "      <td>40.751118</td>\n",
              "      <td>-73.960064</td>\n",
              "      <td>40.766235</td>\n",
              "      <td>2</td>\n",
              "      <td>3.326763</td>\n",
              "    </tr>\n",
              "    <tr>\n",
              "      <th>3</th>\n",
              "      <td>2010-04-11 21:25:03+00:00</td>\n",
              "      <td>8.9</td>\n",
              "      <td>0</td>\n",
              "      <td>-73.990485</td>\n",
              "      <td>40.756422</td>\n",
              "      <td>-73.971205</td>\n",
              "      <td>40.748192</td>\n",
              "      <td>1</td>\n",
              "      <td>1.864129</td>\n",
              "    </tr>\n",
              "    <tr>\n",
              "      <th>4</th>\n",
              "      <td>2010-04-17 02:19:01+00:00</td>\n",
              "      <td>19.7</td>\n",
              "      <td>1</td>\n",
              "      <td>-73.990976</td>\n",
              "      <td>40.734202</td>\n",
              "      <td>-73.905956</td>\n",
              "      <td>40.743115</td>\n",
              "      <td>1</td>\n",
              "      <td>7.231321</td>\n",
              "    </tr>\n",
              "  </tbody>\n",
              "</table>\n",
              "</div>"
            ],
            "text/plain": [
              "            pickup_datetime  fare_amount  ...  passenger_count  distance_km\n",
              "0 2010-04-19 08:17:56+00:00          6.5  ...                1     2.126312\n",
              "1 2010-04-17 15:43:53+00:00          6.9  ...                1     1.392307\n",
              "2 2010-04-17 11:23:26+00:00         10.1  ...                2     3.326763\n",
              "3 2010-04-11 21:25:03+00:00          8.9  ...                1     1.864129\n",
              "4 2010-04-17 02:19:01+00:00         19.7  ...                1     7.231321\n",
              "\n",
              "[5 rows x 9 columns]"
            ]
          },
          "metadata": {
            "tags": []
          },
          "execution_count": 16
        }
      ]
    },
    {
      "cell_type": "code",
      "metadata": {
        "id": "wgdd6gq4044T"
      },
      "source": [
        "## Adjusting 4 hours difference than the actual time\n",
        "\n",
        "df['edtdate'] = df['pickup_datetime'] - pd.Timedelta(hours=4)"
      ],
      "execution_count": null,
      "outputs": []
    },
    {
      "cell_type": "code",
      "metadata": {
        "id": "tUbQ6yHn044b",
        "colab": {
          "base_uri": "https://localhost:8080/",
          "height": 206
        },
        "outputId": "a63ab491-1ebf-4f8e-d8c7-3852a54985bf"
      },
      "source": [
        "df.head()"
      ],
      "execution_count": null,
      "outputs": [
        {
          "output_type": "execute_result",
          "data": {
            "text/html": [
              "<div>\n",
              "<style scoped>\n",
              "    .dataframe tbody tr th:only-of-type {\n",
              "        vertical-align: middle;\n",
              "    }\n",
              "\n",
              "    .dataframe tbody tr th {\n",
              "        vertical-align: top;\n",
              "    }\n",
              "\n",
              "    .dataframe thead th {\n",
              "        text-align: right;\n",
              "    }\n",
              "</style>\n",
              "<table border=\"1\" class=\"dataframe\">\n",
              "  <thead>\n",
              "    <tr style=\"text-align: right;\">\n",
              "      <th></th>\n",
              "      <th>pickup_datetime</th>\n",
              "      <th>fare_amount</th>\n",
              "      <th>fare_class</th>\n",
              "      <th>pickup_longitude</th>\n",
              "      <th>pickup_latitude</th>\n",
              "      <th>dropoff_longitude</th>\n",
              "      <th>dropoff_latitude</th>\n",
              "      <th>passenger_count</th>\n",
              "      <th>distance_km</th>\n",
              "      <th>edtdate</th>\n",
              "    </tr>\n",
              "  </thead>\n",
              "  <tbody>\n",
              "    <tr>\n",
              "      <th>0</th>\n",
              "      <td>2010-04-19 08:17:56+00:00</td>\n",
              "      <td>6.5</td>\n",
              "      <td>0</td>\n",
              "      <td>-73.992365</td>\n",
              "      <td>40.730521</td>\n",
              "      <td>-73.975499</td>\n",
              "      <td>40.744746</td>\n",
              "      <td>1</td>\n",
              "      <td>2.126312</td>\n",
              "      <td>2010-04-19 04:17:56+00:00</td>\n",
              "    </tr>\n",
              "    <tr>\n",
              "      <th>1</th>\n",
              "      <td>2010-04-17 15:43:53+00:00</td>\n",
              "      <td>6.9</td>\n",
              "      <td>0</td>\n",
              "      <td>-73.990078</td>\n",
              "      <td>40.740558</td>\n",
              "      <td>-73.974232</td>\n",
              "      <td>40.744114</td>\n",
              "      <td>1</td>\n",
              "      <td>1.392307</td>\n",
              "      <td>2010-04-17 11:43:53+00:00</td>\n",
              "    </tr>\n",
              "    <tr>\n",
              "      <th>2</th>\n",
              "      <td>2010-04-17 11:23:26+00:00</td>\n",
              "      <td>10.1</td>\n",
              "      <td>1</td>\n",
              "      <td>-73.994149</td>\n",
              "      <td>40.751118</td>\n",
              "      <td>-73.960064</td>\n",
              "      <td>40.766235</td>\n",
              "      <td>2</td>\n",
              "      <td>3.326763</td>\n",
              "      <td>2010-04-17 07:23:26+00:00</td>\n",
              "    </tr>\n",
              "    <tr>\n",
              "      <th>3</th>\n",
              "      <td>2010-04-11 21:25:03+00:00</td>\n",
              "      <td>8.9</td>\n",
              "      <td>0</td>\n",
              "      <td>-73.990485</td>\n",
              "      <td>40.756422</td>\n",
              "      <td>-73.971205</td>\n",
              "      <td>40.748192</td>\n",
              "      <td>1</td>\n",
              "      <td>1.864129</td>\n",
              "      <td>2010-04-11 17:25:03+00:00</td>\n",
              "    </tr>\n",
              "    <tr>\n",
              "      <th>4</th>\n",
              "      <td>2010-04-17 02:19:01+00:00</td>\n",
              "      <td>19.7</td>\n",
              "      <td>1</td>\n",
              "      <td>-73.990976</td>\n",
              "      <td>40.734202</td>\n",
              "      <td>-73.905956</td>\n",
              "      <td>40.743115</td>\n",
              "      <td>1</td>\n",
              "      <td>7.231321</td>\n",
              "      <td>2010-04-16 22:19:01+00:00</td>\n",
              "    </tr>\n",
              "  </tbody>\n",
              "</table>\n",
              "</div>"
            ],
            "text/plain": [
              "            pickup_datetime  fare_amount  ...  distance_km                   edtdate\n",
              "0 2010-04-19 08:17:56+00:00          6.5  ...     2.126312 2010-04-19 04:17:56+00:00\n",
              "1 2010-04-17 15:43:53+00:00          6.9  ...     1.392307 2010-04-17 11:43:53+00:00\n",
              "2 2010-04-17 11:23:26+00:00         10.1  ...     3.326763 2010-04-17 07:23:26+00:00\n",
              "3 2010-04-11 21:25:03+00:00          8.9  ...     1.864129 2010-04-11 17:25:03+00:00\n",
              "4 2010-04-17 02:19:01+00:00         19.7  ...     7.231321 2010-04-16 22:19:01+00:00\n",
              "\n",
              "[5 rows x 10 columns]"
            ]
          },
          "metadata": {
            "tags": []
          },
          "execution_count": 18
        }
      ]
    },
    {
      "cell_type": "code",
      "metadata": {
        "id": "pYAJHOog044h"
      },
      "source": [
        "df['Hour'] = df['edtdate'].dt.hour"
      ],
      "execution_count": null,
      "outputs": []
    },
    {
      "cell_type": "code",
      "metadata": {
        "id": "ojpZYfJx044p"
      },
      "source": [
        "df['am_or_pm'] = np.where(df['Hour']<12, 'am', 'pm')"
      ],
      "execution_count": null,
      "outputs": []
    },
    {
      "cell_type": "code",
      "metadata": {
        "id": "CRA70D8x044u"
      },
      "source": [
        "df['weekday'] = df['edtdate'].dt.strftime(\"%a\")"
      ],
      "execution_count": null,
      "outputs": []
    },
    {
      "cell_type": "code",
      "metadata": {
        "id": "JUMG1_Fy044y",
        "colab": {
          "base_uri": "https://localhost:8080/",
          "height": 293
        },
        "outputId": "ba828a99-eccc-4ce7-dc31-01704ff32118"
      },
      "source": [
        "df.head()"
      ],
      "execution_count": null,
      "outputs": [
        {
          "output_type": "execute_result",
          "data": {
            "text/html": [
              "<div>\n",
              "<style scoped>\n",
              "    .dataframe tbody tr th:only-of-type {\n",
              "        vertical-align: middle;\n",
              "    }\n",
              "\n",
              "    .dataframe tbody tr th {\n",
              "        vertical-align: top;\n",
              "    }\n",
              "\n",
              "    .dataframe thead th {\n",
              "        text-align: right;\n",
              "    }\n",
              "</style>\n",
              "<table border=\"1\" class=\"dataframe\">\n",
              "  <thead>\n",
              "    <tr style=\"text-align: right;\">\n",
              "      <th></th>\n",
              "      <th>pickup_datetime</th>\n",
              "      <th>fare_amount</th>\n",
              "      <th>fare_class</th>\n",
              "      <th>pickup_longitude</th>\n",
              "      <th>pickup_latitude</th>\n",
              "      <th>dropoff_longitude</th>\n",
              "      <th>dropoff_latitude</th>\n",
              "      <th>passenger_count</th>\n",
              "      <th>distance_km</th>\n",
              "      <th>edtdate</th>\n",
              "      <th>Hour</th>\n",
              "      <th>am_or_pm</th>\n",
              "      <th>weekday</th>\n",
              "    </tr>\n",
              "  </thead>\n",
              "  <tbody>\n",
              "    <tr>\n",
              "      <th>0</th>\n",
              "      <td>2010-04-19 08:17:56+00:00</td>\n",
              "      <td>6.5</td>\n",
              "      <td>0</td>\n",
              "      <td>-73.992365</td>\n",
              "      <td>40.730521</td>\n",
              "      <td>-73.975499</td>\n",
              "      <td>40.744746</td>\n",
              "      <td>1</td>\n",
              "      <td>2.126312</td>\n",
              "      <td>2010-04-19 04:17:56+00:00</td>\n",
              "      <td>4</td>\n",
              "      <td>am</td>\n",
              "      <td>Mon</td>\n",
              "    </tr>\n",
              "    <tr>\n",
              "      <th>1</th>\n",
              "      <td>2010-04-17 15:43:53+00:00</td>\n",
              "      <td>6.9</td>\n",
              "      <td>0</td>\n",
              "      <td>-73.990078</td>\n",
              "      <td>40.740558</td>\n",
              "      <td>-73.974232</td>\n",
              "      <td>40.744114</td>\n",
              "      <td>1</td>\n",
              "      <td>1.392307</td>\n",
              "      <td>2010-04-17 11:43:53+00:00</td>\n",
              "      <td>11</td>\n",
              "      <td>am</td>\n",
              "      <td>Sat</td>\n",
              "    </tr>\n",
              "    <tr>\n",
              "      <th>2</th>\n",
              "      <td>2010-04-17 11:23:26+00:00</td>\n",
              "      <td>10.1</td>\n",
              "      <td>1</td>\n",
              "      <td>-73.994149</td>\n",
              "      <td>40.751118</td>\n",
              "      <td>-73.960064</td>\n",
              "      <td>40.766235</td>\n",
              "      <td>2</td>\n",
              "      <td>3.326763</td>\n",
              "      <td>2010-04-17 07:23:26+00:00</td>\n",
              "      <td>7</td>\n",
              "      <td>am</td>\n",
              "      <td>Sat</td>\n",
              "    </tr>\n",
              "    <tr>\n",
              "      <th>3</th>\n",
              "      <td>2010-04-11 21:25:03+00:00</td>\n",
              "      <td>8.9</td>\n",
              "      <td>0</td>\n",
              "      <td>-73.990485</td>\n",
              "      <td>40.756422</td>\n",
              "      <td>-73.971205</td>\n",
              "      <td>40.748192</td>\n",
              "      <td>1</td>\n",
              "      <td>1.864129</td>\n",
              "      <td>2010-04-11 17:25:03+00:00</td>\n",
              "      <td>17</td>\n",
              "      <td>pm</td>\n",
              "      <td>Sun</td>\n",
              "    </tr>\n",
              "    <tr>\n",
              "      <th>4</th>\n",
              "      <td>2010-04-17 02:19:01+00:00</td>\n",
              "      <td>19.7</td>\n",
              "      <td>1</td>\n",
              "      <td>-73.990976</td>\n",
              "      <td>40.734202</td>\n",
              "      <td>-73.905956</td>\n",
              "      <td>40.743115</td>\n",
              "      <td>1</td>\n",
              "      <td>7.231321</td>\n",
              "      <td>2010-04-16 22:19:01+00:00</td>\n",
              "      <td>22</td>\n",
              "      <td>pm</td>\n",
              "      <td>Fri</td>\n",
              "    </tr>\n",
              "  </tbody>\n",
              "</table>\n",
              "</div>"
            ],
            "text/plain": [
              "            pickup_datetime  fare_amount  fare_class  ...  Hour  am_or_pm  weekday\n",
              "0 2010-04-19 08:17:56+00:00          6.5           0  ...     4        am      Mon\n",
              "1 2010-04-17 15:43:53+00:00          6.9           0  ...    11        am      Sat\n",
              "2 2010-04-17 11:23:26+00:00         10.1           1  ...     7        am      Sat\n",
              "3 2010-04-11 21:25:03+00:00          8.9           0  ...    17        pm      Sun\n",
              "4 2010-04-17 02:19:01+00:00         19.7           1  ...    22        pm      Fri\n",
              "\n",
              "[5 rows x 13 columns]"
            ]
          },
          "metadata": {
            "tags": []
          },
          "execution_count": 22
        }
      ]
    },
    {
      "cell_type": "code",
      "metadata": {
        "id": "Y88Pc5fj0444",
        "colab": {
          "base_uri": "https://localhost:8080/",
          "height": 104
        },
        "outputId": "06541763-87ad-4d7a-9221-e053a073b247"
      },
      "source": [
        "df.columns"
      ],
      "execution_count": null,
      "outputs": [
        {
          "output_type": "execute_result",
          "data": {
            "text/plain": [
              "Index(['pickup_datetime', 'fare_amount', 'fare_class', 'pickup_longitude',\n",
              "       'pickup_latitude', 'dropoff_longitude', 'dropoff_latitude',\n",
              "       'passenger_count', 'distance_km', 'edtdate', 'Hour', 'am_or_pm',\n",
              "       'weekday'],\n",
              "      dtype='object')"
            ]
          },
          "metadata": {
            "tags": []
          },
          "execution_count": 23
        }
      ]
    },
    {
      "cell_type": "code",
      "metadata": {
        "id": "z68gX6bY0448"
      },
      "source": [
        "cat_cols = ['Hour', 'am_or_pm', 'weekday']\n",
        "cont_cols = ['pickup_longitude',\n",
        "       'pickup_latitude', 'dropoff_longitude', 'dropoff_latitude',\n",
        "       'passenger_count', 'distance_km']"
      ],
      "execution_count": null,
      "outputs": []
    },
    {
      "cell_type": "code",
      "metadata": {
        "id": "QfRrrV1F045B"
      },
      "source": [
        "y_col = ['fare_amount']"
      ],
      "execution_count": null,
      "outputs": []
    },
    {
      "cell_type": "code",
      "metadata": {
        "id": "tDjo785r045K"
      },
      "source": [
        "for cat in cat_cols:\n",
        "    df[cat] = df[cat].astype('category')"
      ],
      "execution_count": null,
      "outputs": []
    },
    {
      "cell_type": "code",
      "metadata": {
        "id": "g53GDkBa045O",
        "colab": {
          "base_uri": "https://localhost:8080/",
          "height": 260
        },
        "outputId": "6c027017-d66a-4171-a0fc-33b756e8c703"
      },
      "source": [
        "df.dtypes"
      ],
      "execution_count": null,
      "outputs": [
        {
          "output_type": "execute_result",
          "data": {
            "text/plain": [
              "pickup_datetime      datetime64[ns, UTC]\n",
              "fare_amount                      float64\n",
              "fare_class                         int64\n",
              "pickup_longitude                 float64\n",
              "pickup_latitude                  float64\n",
              "dropoff_longitude                float64\n",
              "dropoff_latitude                 float64\n",
              "passenger_count                    int64\n",
              "distance_km                      float64\n",
              "edtdate              datetime64[ns, UTC]\n",
              "Hour                            category\n",
              "am_or_pm                        category\n",
              "weekday                         category\n",
              "dtype: object"
            ]
          },
          "metadata": {
            "tags": []
          },
          "execution_count": 27
        }
      ]
    },
    {
      "cell_type": "code",
      "metadata": {
        "id": "6wvCY9vY045b",
        "colab": {
          "base_uri": "https://localhost:8080/",
          "height": 139
        },
        "outputId": "a994d813-f58d-48d3-b2ef-ece75e79a237"
      },
      "source": [
        "df.Hour.head()"
      ],
      "execution_count": null,
      "outputs": [
        {
          "output_type": "execute_result",
          "data": {
            "text/plain": [
              "0     4\n",
              "1    11\n",
              "2     7\n",
              "3    17\n",
              "4    22\n",
              "Name: Hour, dtype: category\n",
              "Categories (24, int64): [0, 1, 2, 3, ..., 20, 21, 22, 23]"
            ]
          },
          "metadata": {
            "tags": []
          },
          "execution_count": 28
        }
      ]
    },
    {
      "cell_type": "code",
      "metadata": {
        "id": "EdBSAU7h045j"
      },
      "source": [
        "hr = df['Hour'].cat.codes.values\n",
        "am_pm = df['am_or_pm'].cat.codes.values\n",
        "wkdy = df['weekday'].cat.codes.values"
      ],
      "execution_count": null,
      "outputs": []
    },
    {
      "cell_type": "code",
      "metadata": {
        "id": "HzK-84nA045w",
        "colab": {
          "base_uri": "https://localhost:8080/",
          "height": 34
        },
        "outputId": "e5190524-e530-4a33-bbf5-8a011677c2d0"
      },
      "source": [
        "hr"
      ],
      "execution_count": null,
      "outputs": [
        {
          "output_type": "execute_result",
          "data": {
            "text/plain": [
              "array([ 4, 11,  7, ..., 14,  4, 12], dtype=int8)"
            ]
          },
          "metadata": {
            "tags": []
          },
          "execution_count": 30
        }
      ]
    },
    {
      "cell_type": "code",
      "metadata": {
        "id": "cezFY-jF0459",
        "colab": {
          "base_uri": "https://localhost:8080/",
          "height": 139
        },
        "outputId": "9b13880c-7cb0-4c93-d247-4db4c85d4493"
      },
      "source": [
        "cats = np.stack([hr,am_pm,wkdy], axis=1)\n",
        "cats"
      ],
      "execution_count": null,
      "outputs": [
        {
          "output_type": "execute_result",
          "data": {
            "text/plain": [
              "array([[ 4,  0,  1],\n",
              "       [11,  0,  2],\n",
              "       [ 7,  0,  2],\n",
              "       ...,\n",
              "       [14,  1,  3],\n",
              "       [ 4,  0,  5],\n",
              "       [12,  1,  2]], dtype=int8)"
            ]
          },
          "metadata": {
            "tags": []
          },
          "execution_count": 31
        }
      ]
    },
    {
      "cell_type": "code",
      "metadata": {
        "id": "7HExhgrB046C"
      },
      "source": [
        "# cats = np.stack([df[col].cat.codes.values for col in cat_cols], 1)"
      ],
      "execution_count": null,
      "outputs": []
    },
    {
      "cell_type": "code",
      "metadata": {
        "id": "ajssuSqr046N"
      },
      "source": [
        "cats = torch.tensor(cats, dtype=torch.int64)"
      ],
      "execution_count": null,
      "outputs": []
    },
    {
      "cell_type": "code",
      "metadata": {
        "id": "wFNviR8l046V"
      },
      "source": [
        "### Stacking the continous columns\n",
        "\n",
        "conts = np.stack([df[col].values for col in cont_cols], axis=1)"
      ],
      "execution_count": null,
      "outputs": []
    },
    {
      "cell_type": "code",
      "metadata": {
        "id": "N6Eb905o046c",
        "colab": {
          "base_uri": "https://localhost:8080/",
          "height": 243
        },
        "outputId": "5c482ad9-4279-43d3-8da3-f598d9659da8"
      },
      "source": [
        "conts"
      ],
      "execution_count": null,
      "outputs": [
        {
          "output_type": "execute_result",
          "data": {
            "text/plain": [
              "array([[-73.992365  ,  40.730521  , -73.975499  ,  40.744746  ,\n",
              "          1.        ,   2.12631159],\n",
              "       [-73.990078  ,  40.740558  , -73.974232  ,  40.744114  ,\n",
              "          1.        ,   1.39230687],\n",
              "       [-73.994149  ,  40.751118  , -73.960064  ,  40.766235  ,\n",
              "          2.        ,   3.32676344],\n",
              "       ...,\n",
              "       [-73.988574  ,  40.749772  , -74.011541  ,  40.707799  ,\n",
              "          3.        ,   5.05252282],\n",
              "       [-74.004449  ,  40.724529  , -73.992697  ,  40.730765  ,\n",
              "          1.        ,   1.20892296],\n",
              "       [-73.955415  ,  40.77192   , -73.967623  ,  40.763015  ,\n",
              "          3.        ,   1.42739869]])"
            ]
          },
          "metadata": {
            "tags": []
          },
          "execution_count": 35
        }
      ]
    },
    {
      "cell_type": "code",
      "metadata": {
        "id": "0WYFUEtN046f",
        "colab": {
          "base_uri": "https://localhost:8080/",
          "height": 139
        },
        "outputId": "935cd0ce-8818-4bdc-9933-beba94a83a3d"
      },
      "source": [
        "### Converting it into tensors\n",
        "\n",
        "conts = torch.tensor(conts, dtype=torch.float)\n",
        "conts"
      ],
      "execution_count": null,
      "outputs": [
        {
          "output_type": "execute_result",
          "data": {
            "text/plain": [
              "tensor([[-73.9924,  40.7305, -73.9755,  40.7447,   1.0000,   2.1263],\n",
              "        [-73.9901,  40.7406, -73.9742,  40.7441,   1.0000,   1.3923],\n",
              "        [-73.9941,  40.7511, -73.9601,  40.7662,   2.0000,   3.3268],\n",
              "        ...,\n",
              "        [-73.9886,  40.7498, -74.0115,  40.7078,   3.0000,   5.0525],\n",
              "        [-74.0044,  40.7245, -73.9927,  40.7308,   1.0000,   1.2089],\n",
              "        [-73.9554,  40.7719, -73.9676,  40.7630,   3.0000,   1.4274]])"
            ]
          },
          "metadata": {
            "tags": []
          },
          "execution_count": 36
        }
      ]
    },
    {
      "cell_type": "code",
      "metadata": {
        "id": "HEhFIwl6046j"
      },
      "source": [
        "### Converting the label column into tensor\n",
        "\n",
        "y = torch.tensor(df[y_col].values, dtype=torch.float).reshape(-1,1)"
      ],
      "execution_count": null,
      "outputs": []
    },
    {
      "cell_type": "code",
      "metadata": {
        "scrolled": true,
        "id": "QM56skqD046m",
        "colab": {
          "base_uri": "https://localhost:8080/",
          "height": 34
        },
        "outputId": "a0f80c91-0723-4ed1-a7c9-14435f94ce20"
      },
      "source": [
        "conts.shape"
      ],
      "execution_count": null,
      "outputs": [
        {
          "output_type": "execute_result",
          "data": {
            "text/plain": [
              "torch.Size([120000, 6])"
            ]
          },
          "metadata": {
            "tags": []
          },
          "execution_count": 38
        }
      ]
    },
    {
      "cell_type": "code",
      "metadata": {
        "id": "TtNVvdKl046q",
        "colab": {
          "base_uri": "https://localhost:8080/",
          "height": 34
        },
        "outputId": "e1a3f404-f5d3-41c9-c6c2-53627d757719"
      },
      "source": [
        "y.shape"
      ],
      "execution_count": null,
      "outputs": [
        {
          "output_type": "execute_result",
          "data": {
            "text/plain": [
              "torch.Size([120000, 1])"
            ]
          },
          "metadata": {
            "tags": []
          },
          "execution_count": 39
        }
      ]
    },
    {
      "cell_type": "code",
      "metadata": {
        "id": "hUs_eNeA0461",
        "colab": {
          "base_uri": "https://localhost:8080/",
          "height": 34
        },
        "outputId": "f23eaa7e-808a-49e5-a2f8-095b020465ae"
      },
      "source": [
        "### Defining embedding sizes\n",
        "\n",
        "cat_sizes = [len(df[col].cat.categories) for col in cat_cols]\n",
        "cat_sizes"
      ],
      "execution_count": null,
      "outputs": [
        {
          "output_type": "execute_result",
          "data": {
            "text/plain": [
              "[24, 2, 7]"
            ]
          },
          "metadata": {
            "tags": []
          },
          "execution_count": 40
        }
      ]
    },
    {
      "cell_type": "markdown",
      "metadata": {
        "id": "_UQUpgEE0469"
      },
      "source": [
        "* 24 - 24 hours in a day\n",
        "* 2 - am or pm\n",
        "* 7 - 7 days a week"
      ]
    },
    {
      "cell_type": "code",
      "metadata": {
        "id": "9y5YXA3y046_",
        "colab": {
          "base_uri": "https://localhost:8080/",
          "height": 34
        },
        "outputId": "e8a9c233-4515-4916-ab0c-bee0df3936e0"
      },
      "source": [
        "emb_sizes = [(size, min(50,(size+1)//2)) for size in cat_sizes]\n",
        "emb_sizes"
      ],
      "execution_count": null,
      "outputs": [
        {
          "output_type": "execute_result",
          "data": {
            "text/plain": [
              "[(24, 12), (2, 1), (7, 4)]"
            ]
          },
          "metadata": {
            "tags": []
          },
          "execution_count": 41
        }
      ]
    },
    {
      "cell_type": "code",
      "metadata": {
        "id": "QBgem3ya047H",
        "colab": {
          "base_uri": "https://localhost:8080/",
          "height": 104
        },
        "outputId": "0106995f-48cd-4594-9338-dffcc3a94cad"
      },
      "source": [
        "### Creating the embedding layer\n",
        "\n",
        "selfembeds = nn.ModuleList([nn.Embedding(ni, nf) for ni,nf in emb_sizes])\n",
        "selfembeds"
      ],
      "execution_count": null,
      "outputs": [
        {
          "output_type": "execute_result",
          "data": {
            "text/plain": [
              "ModuleList(\n",
              "  (0): Embedding(24, 12)\n",
              "  (1): Embedding(2, 1)\n",
              "  (2): Embedding(7, 4)\n",
              ")"
            ]
          },
          "metadata": {
            "tags": []
          },
          "execution_count": 42
        }
      ]
    },
    {
      "cell_type": "code",
      "metadata": {
        "id": "_PF9jFXU047N"
      },
      "source": [
        "class TabularModel(nn.Module):\n",
        "    \n",
        "    def __init__(self, emb_sizes, n_cont, out_szs, layers, p=0.5):\n",
        "        super().__init__()\n",
        "        \n",
        "        self.embeds = nn.ModuleList([nn.Embedding(ni, nf) for ni,nf in emb_sizes])\n",
        "        self.emb_drop = nn.Dropout(p)\n",
        "        self.bn_cont = nn.BatchNorm1d(n_cont)\n",
        "        \n",
        "        layer_list = []\n",
        "        n_emb = sum([nf for ni,nf in emb_sizes])\n",
        "        n_in = n_emb + n_cont\n",
        "        \n",
        "        for i in layers:\n",
        "            layer_list.append(nn.Linear(n_in, i))\n",
        "            layer_list.append(nn.ReLU(inplace=True))\n",
        "            layer_list.append(nn.BatchNorm1d(i))\n",
        "            layer_list.append(nn.Dropout(p))\n",
        "            n_in = i\n",
        "            \n",
        "        layer_list.append(nn.Linear(layers[-1], out_szs))\n",
        "        \n",
        "        self.layers = nn.Sequential(*layer_list)\n",
        "        \n",
        "    def forward(self, x_cat, x_cont):\n",
        "        embeddings = []\n",
        "        \n",
        "        for i,e in enumerate(self.embeds):\n",
        "            embeddings.append(e(x_cat[:,i]))\n",
        "            \n",
        "        x = torch.cat(embeddings, 1)\n",
        "        x = self.emb_drop(x)\n",
        "        \n",
        "        x_cont = self.bn_cont(x_cont)\n",
        "        x = torch.cat([x,x_cont], 1)\n",
        "        x = self.layers(x)\n",
        "        \n",
        "        return x\n",
        "        \n",
        "        "
      ],
      "execution_count": null,
      "outputs": []
    },
    {
      "cell_type": "code",
      "metadata": {
        "id": "ieCTz1MB047R"
      },
      "source": [
        "torch.manual_seed(33)\n",
        "model = TabularModel(emb_sizes, conts.shape[1], 1,[200,100], p=0.4)"
      ],
      "execution_count": null,
      "outputs": []
    },
    {
      "cell_type": "code",
      "metadata": {
        "id": "SAaUgWit047S",
        "colab": {
          "base_uri": "https://localhost:8080/",
          "height": 364
        },
        "outputId": "ce929510-ae1e-4d0c-f8aa-bb2ed580c5e8"
      },
      "source": [
        "model"
      ],
      "execution_count": null,
      "outputs": [
        {
          "output_type": "execute_result",
          "data": {
            "text/plain": [
              "TabularModel(\n",
              "  (embeds): ModuleList(\n",
              "    (0): Embedding(24, 12)\n",
              "    (1): Embedding(2, 1)\n",
              "    (2): Embedding(7, 4)\n",
              "  )\n",
              "  (emb_drop): Dropout(p=0.4, inplace=False)\n",
              "  (bn_cont): BatchNorm1d(6, eps=1e-05, momentum=0.1, affine=True, track_running_stats=True)\n",
              "  (layers): Sequential(\n",
              "    (0): Linear(in_features=23, out_features=200, bias=True)\n",
              "    (1): ReLU(inplace=True)\n",
              "    (2): BatchNorm1d(200, eps=1e-05, momentum=0.1, affine=True, track_running_stats=True)\n",
              "    (3): Dropout(p=0.4, inplace=False)\n",
              "    (4): Linear(in_features=200, out_features=100, bias=True)\n",
              "    (5): ReLU(inplace=True)\n",
              "    (6): BatchNorm1d(100, eps=1e-05, momentum=0.1, affine=True, track_running_stats=True)\n",
              "    (7): Dropout(p=0.4, inplace=False)\n",
              "    (8): Linear(in_features=100, out_features=1, bias=True)\n",
              "  )\n",
              ")"
            ]
          },
          "metadata": {
            "tags": []
          },
          "execution_count": 45
        }
      ]
    },
    {
      "cell_type": "code",
      "metadata": {
        "id": "iiTMnztb047X"
      },
      "source": [
        "criterion = nn.MSELoss()\n",
        "optimizer = torch.optim.Adam(model.parameters(), lr=0.01)"
      ],
      "execution_count": null,
      "outputs": []
    },
    {
      "cell_type": "code",
      "metadata": {
        "id": "Z69rlvXV047Y"
      },
      "source": [
        "batch_size=60000\n",
        "test_size = int(batch_size*0.2)"
      ],
      "execution_count": null,
      "outputs": []
    },
    {
      "cell_type": "code",
      "metadata": {
        "id": "KrJhUk9s047e"
      },
      "source": [
        "cat_train = cats[:batch_size-test_size]\n",
        "cat_test = cats[batch_size-test_size:batch_size]\n",
        "con_train = conts[:batch_size-test_size]\n",
        "con_test = conts[batch_size-test_size:batch_size]"
      ],
      "execution_count": null,
      "outputs": []
    },
    {
      "cell_type": "code",
      "metadata": {
        "id": "aWAmwr35047h"
      },
      "source": [
        "y_train=y[:batch_size-test_size]\n",
        "y_test = y[batch_size-test_size:batch_size]"
      ],
      "execution_count": null,
      "outputs": []
    },
    {
      "cell_type": "code",
      "metadata": {
        "id": "pgwr2ov6047m",
        "colab": {
          "base_uri": "https://localhost:8080/",
          "height": 34
        },
        "outputId": "20188d2e-dac1-4b78-8af2-0ef7a20b89e2"
      },
      "source": [
        "len(cat_train)"
      ],
      "execution_count": null,
      "outputs": [
        {
          "output_type": "execute_result",
          "data": {
            "text/plain": [
              "48000"
            ]
          },
          "metadata": {
            "tags": []
          },
          "execution_count": 50
        }
      ]
    },
    {
      "cell_type": "code",
      "metadata": {
        "id": "y59q6piX047r",
        "colab": {
          "base_uri": "https://localhost:8080/",
          "height": 34
        },
        "outputId": "1d89f1ee-b61d-4643-ebab-13512209bffc"
      },
      "source": [
        "len(con_train)"
      ],
      "execution_count": null,
      "outputs": [
        {
          "output_type": "execute_result",
          "data": {
            "text/plain": [
              "48000"
            ]
          },
          "metadata": {
            "tags": []
          },
          "execution_count": 51
        }
      ]
    },
    {
      "cell_type": "code",
      "metadata": {
        "id": "1r3Bt_x4047z",
        "colab": {
          "base_uri": "https://localhost:8080/",
          "height": 1000
        },
        "outputId": "d0499277-cf3b-4596-f0e7-a82f26d68c56"
      },
      "source": [
        "import time\n",
        "\n",
        "start_time = time.time()\n",
        "\n",
        "final_losses = []\n",
        "\n",
        "for epochs in range(1000):\n",
        "    optimizer.zero_grad()\n",
        "    y_pred = model(cat_train, con_train)\n",
        "    loss = torch.sqrt(criterion(y_pred, y_train))\n",
        "    final_losses.append(loss)\n",
        "    loss.backward()\n",
        "    optimizer.step()\n",
        "    print(f\"Epoch {epochs+1}, loss: {loss.item()}\")\n",
        "    \n",
        "duration = time.time() - start_time\n",
        "print(f\"Training took {duration/60} minutes\")"
      ],
      "execution_count": null,
      "outputs": [
        {
          "output_type": "stream",
          "text": [
            "Epoch 1, loss: 12.586901664733887\n",
            "Epoch 2, loss: 11.779983520507812\n",
            "Epoch 3, loss: 11.313923835754395\n",
            "Epoch 4, loss: 10.983816146850586\n",
            "Epoch 5, loss: 10.703396797180176\n",
            "Epoch 6, loss: 10.475826263427734\n",
            "Epoch 7, loss: 10.292169570922852\n",
            "Epoch 8, loss: 10.125777244567871\n",
            "Epoch 9, loss: 9.995330810546875\n",
            "Epoch 10, loss: 9.870637893676758\n",
            "Epoch 11, loss: 9.732337951660156\n",
            "Epoch 12, loss: 9.59315013885498\n",
            "Epoch 13, loss: 9.451120376586914\n",
            "Epoch 14, loss: 9.301545143127441\n",
            "Epoch 15, loss: 9.142586708068848\n",
            "Epoch 16, loss: 8.982436180114746\n",
            "Epoch 17, loss: 8.803691864013672\n",
            "Epoch 18, loss: 8.60965633392334\n",
            "Epoch 19, loss: 8.390485763549805\n",
            "Epoch 20, loss: 8.155844688415527\n",
            "Epoch 21, loss: 7.924241542816162\n",
            "Epoch 22, loss: 7.657634735107422\n",
            "Epoch 23, loss: 7.380258083343506\n",
            "Epoch 24, loss: 7.088366508483887\n",
            "Epoch 25, loss: 6.781723499298096\n",
            "Epoch 26, loss: 6.444967269897461\n",
            "Epoch 27, loss: 6.107254981994629\n",
            "Epoch 28, loss: 5.75056266784668\n",
            "Epoch 29, loss: 5.407918453216553\n",
            "Epoch 30, loss: 5.045563697814941\n",
            "Epoch 31, loss: 4.709118366241455\n",
            "Epoch 32, loss: 4.3908185958862305\n",
            "Epoch 33, loss: 4.124713897705078\n",
            "Epoch 34, loss: 3.9554224014282227\n",
            "Epoch 35, loss: 3.862576961517334\n",
            "Epoch 36, loss: 3.8398962020874023\n",
            "Epoch 37, loss: 3.932689666748047\n",
            "Epoch 38, loss: 4.026157855987549\n",
            "Epoch 39, loss: 4.109221458435059\n",
            "Epoch 40, loss: 4.161866188049316\n",
            "Epoch 41, loss: 4.175336837768555\n",
            "Epoch 42, loss: 4.147305488586426\n",
            "Epoch 43, loss: 4.094810485839844\n",
            "Epoch 44, loss: 4.00180721282959\n",
            "Epoch 45, loss: 3.8672783374786377\n",
            "Epoch 46, loss: 3.799952745437622\n",
            "Epoch 47, loss: 3.7094666957855225\n",
            "Epoch 48, loss: 3.629279375076294\n",
            "Epoch 49, loss: 3.579045534133911\n",
            "Epoch 50, loss: 3.5911202430725098\n",
            "Epoch 51, loss: 3.5818800926208496\n",
            "Epoch 52, loss: 3.579557418823242\n",
            "Epoch 53, loss: 3.599682092666626\n",
            "Epoch 54, loss: 3.5921132564544678\n",
            "Epoch 55, loss: 3.5948173999786377\n",
            "Epoch 56, loss: 3.6056392192840576\n",
            "Epoch 57, loss: 3.6002438068389893\n",
            "Epoch 58, loss: 3.594212055206299\n",
            "Epoch 59, loss: 3.5369951725006104\n",
            "Epoch 60, loss: 3.5531203746795654\n",
            "Epoch 61, loss: 3.5009491443634033\n",
            "Epoch 62, loss: 3.4806270599365234\n",
            "Epoch 63, loss: 3.474881887435913\n",
            "Epoch 64, loss: 3.472352981567383\n",
            "Epoch 65, loss: 3.4337353706359863\n",
            "Epoch 66, loss: 3.437770128250122\n",
            "Epoch 67, loss: 3.457688331604004\n",
            "Epoch 68, loss: 3.452615261077881\n",
            "Epoch 69, loss: 3.4557743072509766\n",
            "Epoch 70, loss: 3.4428250789642334\n",
            "Epoch 71, loss: 3.4250574111938477\n",
            "Epoch 72, loss: 3.4176971912384033\n",
            "Epoch 73, loss: 3.413209915161133\n",
            "Epoch 74, loss: 3.406447172164917\n",
            "Epoch 75, loss: 3.402514696121216\n",
            "Epoch 76, loss: 3.3925745487213135\n",
            "Epoch 77, loss: 3.398292064666748\n",
            "Epoch 78, loss: 3.3653194904327393\n",
            "Epoch 79, loss: 3.3714213371276855\n",
            "Epoch 80, loss: 3.379729986190796\n",
            "Epoch 81, loss: 3.3642563819885254\n",
            "Epoch 82, loss: 3.372701406478882\n",
            "Epoch 83, loss: 3.358704090118408\n",
            "Epoch 84, loss: 3.3594348430633545\n",
            "Epoch 85, loss: 3.35837721824646\n",
            "Epoch 86, loss: 3.3600354194641113\n",
            "Epoch 87, loss: 3.352008819580078\n",
            "Epoch 88, loss: 3.3434908390045166\n",
            "Epoch 89, loss: 3.3390493392944336\n",
            "Epoch 90, loss: 3.3384299278259277\n",
            "Epoch 91, loss: 3.339806318283081\n",
            "Epoch 92, loss: 3.341791868209839\n",
            "Epoch 93, loss: 3.3322160243988037\n",
            "Epoch 94, loss: 3.328524589538574\n",
            "Epoch 95, loss: 3.3224477767944336\n",
            "Epoch 96, loss: 3.3244588375091553\n",
            "Epoch 97, loss: 3.3343842029571533\n",
            "Epoch 98, loss: 3.317011594772339\n",
            "Epoch 99, loss: 3.32293438911438\n",
            "Epoch 100, loss: 3.3007113933563232\n",
            "Epoch 101, loss: 3.3239803314208984\n",
            "Epoch 102, loss: 3.32696533203125\n",
            "Epoch 103, loss: 3.3036365509033203\n",
            "Epoch 104, loss: 3.314136028289795\n",
            "Epoch 105, loss: 3.3104166984558105\n",
            "Epoch 106, loss: 3.3074288368225098\n",
            "Epoch 107, loss: 3.318608045578003\n",
            "Epoch 108, loss: 3.2961435317993164\n",
            "Epoch 109, loss: 3.3124210834503174\n",
            "Epoch 110, loss: 3.306981086730957\n",
            "Epoch 111, loss: 3.3137917518615723\n",
            "Epoch 112, loss: 3.2869203090667725\n",
            "Epoch 113, loss: 3.2808949947357178\n",
            "Epoch 114, loss: 3.297191619873047\n",
            "Epoch 115, loss: 3.2854385375976562\n",
            "Epoch 116, loss: 3.2904741764068604\n",
            "Epoch 117, loss: 3.29532527923584\n",
            "Epoch 118, loss: 3.300208330154419\n",
            "Epoch 119, loss: 3.2945327758789062\n",
            "Epoch 120, loss: 3.2889022827148438\n",
            "Epoch 121, loss: 3.2850325107574463\n",
            "Epoch 122, loss: 3.287095546722412\n",
            "Epoch 123, loss: 3.2932345867156982\n",
            "Epoch 124, loss: 3.299858331680298\n",
            "Epoch 125, loss: 3.271967887878418\n",
            "Epoch 126, loss: 3.2849464416503906\n",
            "Epoch 127, loss: 3.266309976577759\n",
            "Epoch 128, loss: 3.27787709236145\n",
            "Epoch 129, loss: 3.2588233947753906\n",
            "Epoch 130, loss: 3.262105941772461\n",
            "Epoch 131, loss: 3.2812113761901855\n",
            "Epoch 132, loss: 3.270425796508789\n",
            "Epoch 133, loss: 3.264742612838745\n",
            "Epoch 134, loss: 3.279581069946289\n",
            "Epoch 135, loss: 3.263181447982788\n",
            "Epoch 136, loss: 3.275951623916626\n",
            "Epoch 137, loss: 3.2351503372192383\n",
            "Epoch 138, loss: 3.2682454586029053\n",
            "Epoch 139, loss: 3.2682862281799316\n",
            "Epoch 140, loss: 3.266108274459839\n",
            "Epoch 141, loss: 3.254856824874878\n",
            "Epoch 142, loss: 3.2551872730255127\n",
            "Epoch 143, loss: 3.2703847885131836\n",
            "Epoch 144, loss: 3.2605438232421875\n",
            "Epoch 145, loss: 3.2516822814941406\n",
            "Epoch 146, loss: 3.2506396770477295\n",
            "Epoch 147, loss: 3.2508633136749268\n",
            "Epoch 148, loss: 3.2386982440948486\n",
            "Epoch 149, loss: 3.2601473331451416\n",
            "Epoch 150, loss: 3.2585384845733643\n",
            "Epoch 151, loss: 3.2410879135131836\n",
            "Epoch 152, loss: 3.2562801837921143\n",
            "Epoch 153, loss: 3.246654748916626\n",
            "Epoch 154, loss: 3.2428317070007324\n",
            "Epoch 155, loss: 3.2539820671081543\n",
            "Epoch 156, loss: 3.251518726348877\n",
            "Epoch 157, loss: 3.2470712661743164\n",
            "Epoch 158, loss: 3.2426323890686035\n",
            "Epoch 159, loss: 3.2461607456207275\n",
            "Epoch 160, loss: 3.2558858394622803\n",
            "Epoch 161, loss: 3.246110439300537\n",
            "Epoch 162, loss: 3.245722770690918\n",
            "Epoch 163, loss: 3.2452011108398438\n",
            "Epoch 164, loss: 3.2512569427490234\n",
            "Epoch 165, loss: 3.2532401084899902\n",
            "Epoch 166, loss: 3.243459939956665\n",
            "Epoch 167, loss: 3.2458107471466064\n",
            "Epoch 168, loss: 3.2136011123657227\n",
            "Epoch 169, loss: 3.241286277770996\n",
            "Epoch 170, loss: 3.2428600788116455\n",
            "Epoch 171, loss: 3.246370553970337\n",
            "Epoch 172, loss: 3.2439417839050293\n",
            "Epoch 173, loss: 3.2464852333068848\n",
            "Epoch 174, loss: 3.2302558422088623\n",
            "Epoch 175, loss: 3.2422990798950195\n",
            "Epoch 176, loss: 3.2240562438964844\n",
            "Epoch 177, loss: 3.2307846546173096\n",
            "Epoch 178, loss: 3.2273919582366943\n",
            "Epoch 179, loss: 3.2396531105041504\n",
            "Epoch 180, loss: 3.21374773979187\n",
            "Epoch 181, loss: 3.21884822845459\n",
            "Epoch 182, loss: 3.2502315044403076\n",
            "Epoch 183, loss: 3.220752477645874\n",
            "Epoch 184, loss: 3.24133563041687\n",
            "Epoch 185, loss: 3.2284064292907715\n",
            "Epoch 186, loss: 3.231245517730713\n",
            "Epoch 187, loss: 3.221557855606079\n",
            "Epoch 188, loss: 3.2172958850860596\n",
            "Epoch 189, loss: 3.2153687477111816\n",
            "Epoch 190, loss: 3.2371537685394287\n",
            "Epoch 191, loss: 3.213165521621704\n",
            "Epoch 192, loss: 3.221492052078247\n",
            "Epoch 193, loss: 3.22566294670105\n",
            "Epoch 194, loss: 3.211117744445801\n",
            "Epoch 195, loss: 3.2286152839660645\n",
            "Epoch 196, loss: 3.2241897583007812\n",
            "Epoch 197, loss: 3.203935146331787\n",
            "Epoch 198, loss: 3.218480110168457\n",
            "Epoch 199, loss: 3.220128059387207\n",
            "Epoch 200, loss: 3.2178750038146973\n",
            "Epoch 201, loss: 3.2170541286468506\n",
            "Epoch 202, loss: 3.206113576889038\n",
            "Epoch 203, loss: 3.2123517990112305\n",
            "Epoch 204, loss: 3.208406925201416\n",
            "Epoch 205, loss: 3.2193706035614014\n",
            "Epoch 206, loss: 3.223464250564575\n",
            "Epoch 207, loss: 3.203718900680542\n",
            "Epoch 208, loss: 3.233464002609253\n",
            "Epoch 209, loss: 3.1904900074005127\n",
            "Epoch 210, loss: 3.231393575668335\n",
            "Epoch 211, loss: 3.2085368633270264\n",
            "Epoch 212, loss: 3.22342586517334\n",
            "Epoch 213, loss: 3.214677572250366\n",
            "Epoch 214, loss: 3.1892573833465576\n",
            "Epoch 215, loss: 3.2253711223602295\n",
            "Epoch 216, loss: 3.2117369174957275\n",
            "Epoch 217, loss: 3.1910905838012695\n",
            "Epoch 218, loss: 3.194216728210449\n",
            "Epoch 219, loss: 3.215956687927246\n",
            "Epoch 220, loss: 3.1875338554382324\n",
            "Epoch 221, loss: 3.2154695987701416\n",
            "Epoch 222, loss: 3.206681251525879\n",
            "Epoch 223, loss: 3.1989972591400146\n",
            "Epoch 224, loss: 3.1882433891296387\n",
            "Epoch 225, loss: 3.2070040702819824\n",
            "Epoch 226, loss: 3.213329553604126\n",
            "Epoch 227, loss: 3.209611415863037\n",
            "Epoch 228, loss: 3.200921058654785\n",
            "Epoch 229, loss: 3.220146417617798\n",
            "Epoch 230, loss: 3.1957333087921143\n",
            "Epoch 231, loss: 3.198575496673584\n",
            "Epoch 232, loss: 3.2035839557647705\n",
            "Epoch 233, loss: 3.1785898208618164\n",
            "Epoch 234, loss: 3.1936912536621094\n",
            "Epoch 235, loss: 3.1873559951782227\n",
            "Epoch 236, loss: 3.1990737915039062\n",
            "Epoch 237, loss: 3.1898446083068848\n",
            "Epoch 238, loss: 3.1939940452575684\n",
            "Epoch 239, loss: 3.1883325576782227\n",
            "Epoch 240, loss: 3.197568655014038\n",
            "Epoch 241, loss: 3.1821248531341553\n",
            "Epoch 242, loss: 3.1999237537384033\n",
            "Epoch 243, loss: 3.2034599781036377\n",
            "Epoch 244, loss: 3.203805923461914\n",
            "Epoch 245, loss: 3.18599009513855\n",
            "Epoch 246, loss: 3.2093842029571533\n",
            "Epoch 247, loss: 3.204103708267212\n",
            "Epoch 248, loss: 3.1835813522338867\n",
            "Epoch 249, loss: 3.2023065090179443\n",
            "Epoch 250, loss: 3.193981170654297\n",
            "Epoch 251, loss: 3.188361644744873\n",
            "Epoch 252, loss: 3.1918087005615234\n",
            "Epoch 253, loss: 3.197916269302368\n",
            "Epoch 254, loss: 3.191018581390381\n",
            "Epoch 255, loss: 3.1880950927734375\n",
            "Epoch 256, loss: 3.1814725399017334\n",
            "Epoch 257, loss: 3.1834113597869873\n",
            "Epoch 258, loss: 3.1790199279785156\n",
            "Epoch 259, loss: 3.1911072731018066\n",
            "Epoch 260, loss: 3.1806135177612305\n",
            "Epoch 261, loss: 3.175342559814453\n",
            "Epoch 262, loss: 3.198408842086792\n",
            "Epoch 263, loss: 3.179694175720215\n",
            "Epoch 264, loss: 3.1825220584869385\n",
            "Epoch 265, loss: 3.1800308227539062\n",
            "Epoch 266, loss: 3.185502767562866\n",
            "Epoch 267, loss: 3.166309356689453\n",
            "Epoch 268, loss: 3.1813645362854004\n",
            "Epoch 269, loss: 3.185976982116699\n",
            "Epoch 270, loss: 3.161572217941284\n",
            "Epoch 271, loss: 3.1949667930603027\n",
            "Epoch 272, loss: 3.1845524311065674\n",
            "Epoch 273, loss: 3.168691873550415\n",
            "Epoch 274, loss: 3.174987316131592\n",
            "Epoch 275, loss: 3.17081618309021\n",
            "Epoch 276, loss: 3.164928913116455\n",
            "Epoch 277, loss: 3.179534435272217\n",
            "Epoch 278, loss: 3.1821248531341553\n",
            "Epoch 279, loss: 3.1985442638397217\n",
            "Epoch 280, loss: 3.1965842247009277\n",
            "Epoch 281, loss: 3.169093608856201\n",
            "Epoch 282, loss: 3.1766324043273926\n",
            "Epoch 283, loss: 3.1807949542999268\n",
            "Epoch 284, loss: 3.179143190383911\n",
            "Epoch 285, loss: 3.1719374656677246\n",
            "Epoch 286, loss: 3.162532091140747\n",
            "Epoch 287, loss: 3.1735639572143555\n",
            "Epoch 288, loss: 3.1764140129089355\n",
            "Epoch 289, loss: 3.1893246173858643\n",
            "Epoch 290, loss: 3.170074939727783\n",
            "Epoch 291, loss: 3.1711273193359375\n",
            "Epoch 292, loss: 3.1664681434631348\n",
            "Epoch 293, loss: 3.1918070316314697\n",
            "Epoch 294, loss: 3.184892177581787\n",
            "Epoch 295, loss: 3.1790246963500977\n",
            "Epoch 296, loss: 3.183403730392456\n",
            "Epoch 297, loss: 3.1719858646392822\n",
            "Epoch 298, loss: 3.172461748123169\n",
            "Epoch 299, loss: 3.179550886154175\n",
            "Epoch 300, loss: 3.165957450866699\n",
            "Epoch 301, loss: 3.1561062335968018\n",
            "Epoch 302, loss: 3.166304349899292\n",
            "Epoch 303, loss: 3.165396213531494\n",
            "Epoch 304, loss: 3.1627089977264404\n",
            "Epoch 305, loss: 3.163163900375366\n",
            "Epoch 306, loss: 3.156278610229492\n",
            "Epoch 307, loss: 3.161184310913086\n",
            "Epoch 308, loss: 3.1688194274902344\n",
            "Epoch 309, loss: 3.1650381088256836\n",
            "Epoch 310, loss: 3.156851053237915\n",
            "Epoch 311, loss: 3.1545591354370117\n",
            "Epoch 312, loss: 3.1490871906280518\n",
            "Epoch 313, loss: 3.161680221557617\n",
            "Epoch 314, loss: 3.1733367443084717\n",
            "Epoch 315, loss: 3.167536497116089\n",
            "Epoch 316, loss: 3.1744749546051025\n",
            "Epoch 317, loss: 3.188192129135132\n",
            "Epoch 318, loss: 3.1829750537872314\n",
            "Epoch 319, loss: 3.17380428314209\n",
            "Epoch 320, loss: 3.1720173358917236\n",
            "Epoch 321, loss: 3.160231590270996\n",
            "Epoch 322, loss: 3.1702561378479004\n",
            "Epoch 323, loss: 3.167717933654785\n",
            "Epoch 324, loss: 3.1436784267425537\n",
            "Epoch 325, loss: 3.1563754081726074\n",
            "Epoch 326, loss: 3.152245044708252\n",
            "Epoch 327, loss: 3.1668143272399902\n",
            "Epoch 328, loss: 3.1630048751831055\n",
            "Epoch 329, loss: 3.157670259475708\n",
            "Epoch 330, loss: 3.145597457885742\n",
            "Epoch 331, loss: 3.161013603210449\n",
            "Epoch 332, loss: 3.1557350158691406\n",
            "Epoch 333, loss: 3.153778076171875\n",
            "Epoch 334, loss: 3.150200605392456\n",
            "Epoch 335, loss: 3.1576948165893555\n",
            "Epoch 336, loss: 3.151160717010498\n",
            "Epoch 337, loss: 3.1673200130462646\n",
            "Epoch 338, loss: 3.15932035446167\n",
            "Epoch 339, loss: 3.1386051177978516\n",
            "Epoch 340, loss: 3.15244197845459\n",
            "Epoch 341, loss: 3.148552656173706\n",
            "Epoch 342, loss: 3.1607749462127686\n",
            "Epoch 343, loss: 3.154834508895874\n",
            "Epoch 344, loss: 3.1578409671783447\n",
            "Epoch 345, loss: 3.1325156688690186\n",
            "Epoch 346, loss: 3.1605637073516846\n",
            "Epoch 347, loss: 3.136091709136963\n",
            "Epoch 348, loss: 3.153771162033081\n",
            "Epoch 349, loss: 3.14591383934021\n",
            "Epoch 350, loss: 3.1578369140625\n",
            "Epoch 351, loss: 3.1458487510681152\n",
            "Epoch 352, loss: 3.1564338207244873\n",
            "Epoch 353, loss: 3.150710344314575\n",
            "Epoch 354, loss: 3.1135191917419434\n",
            "Epoch 355, loss: 3.144505500793457\n",
            "Epoch 356, loss: 3.1492867469787598\n",
            "Epoch 357, loss: 3.1350574493408203\n",
            "Epoch 358, loss: 3.16017746925354\n",
            "Epoch 359, loss: 3.1448259353637695\n",
            "Epoch 360, loss: 3.1442034244537354\n",
            "Epoch 361, loss: 3.1410393714904785\n",
            "Epoch 362, loss: 3.132291555404663\n",
            "Epoch 363, loss: 3.155474901199341\n",
            "Epoch 364, loss: 3.133910894393921\n",
            "Epoch 365, loss: 3.1479601860046387\n",
            "Epoch 366, loss: 3.1556787490844727\n",
            "Epoch 367, loss: 3.132608652114868\n",
            "Epoch 368, loss: 3.1297121047973633\n",
            "Epoch 369, loss: 3.132268190383911\n",
            "Epoch 370, loss: 3.1772234439849854\n",
            "Epoch 371, loss: 3.1493616104125977\n",
            "Epoch 372, loss: 3.1462149620056152\n",
            "Epoch 373, loss: 3.1342437267303467\n",
            "Epoch 374, loss: 3.1599977016448975\n",
            "Epoch 375, loss: 3.1422042846679688\n",
            "Epoch 376, loss: 3.148473024368286\n",
            "Epoch 377, loss: 3.1552672386169434\n",
            "Epoch 378, loss: 3.134582757949829\n",
            "Epoch 379, loss: 3.146416425704956\n",
            "Epoch 380, loss: 3.134608745574951\n",
            "Epoch 381, loss: 3.141930103302002\n",
            "Epoch 382, loss: 3.1267385482788086\n",
            "Epoch 383, loss: 3.151817798614502\n",
            "Epoch 384, loss: 3.1450915336608887\n",
            "Epoch 385, loss: 3.157618999481201\n",
            "Epoch 386, loss: 3.1272552013397217\n",
            "Epoch 387, loss: 3.1323094367980957\n",
            "Epoch 388, loss: 3.1530301570892334\n",
            "Epoch 389, loss: 3.1368134021759033\n",
            "Epoch 390, loss: 3.1218228340148926\n",
            "Epoch 391, loss: 3.143003463745117\n",
            "Epoch 392, loss: 3.1215081214904785\n",
            "Epoch 393, loss: 3.1431798934936523\n",
            "Epoch 394, loss: 3.126718521118164\n",
            "Epoch 395, loss: 3.1577470302581787\n",
            "Epoch 396, loss: 3.1397247314453125\n",
            "Epoch 397, loss: 3.130312919616699\n",
            "Epoch 398, loss: 3.111279010772705\n",
            "Epoch 399, loss: 3.151709794998169\n",
            "Epoch 400, loss: 3.1286656856536865\n",
            "Epoch 401, loss: 3.126002073287964\n",
            "Epoch 402, loss: 3.1105735301971436\n",
            "Epoch 403, loss: 3.131767988204956\n",
            "Epoch 404, loss: 3.120828866958618\n",
            "Epoch 405, loss: 3.136688709259033\n",
            "Epoch 406, loss: 3.1481666564941406\n",
            "Epoch 407, loss: 3.1462812423706055\n",
            "Epoch 408, loss: 3.125765562057495\n",
            "Epoch 409, loss: 3.1428604125976562\n",
            "Epoch 410, loss: 3.1211812496185303\n",
            "Epoch 411, loss: 3.1200599670410156\n",
            "Epoch 412, loss: 3.1362662315368652\n",
            "Epoch 413, loss: 3.1375787258148193\n",
            "Epoch 414, loss: 3.1199612617492676\n",
            "Epoch 415, loss: 3.125854730606079\n",
            "Epoch 416, loss: 3.150529623031616\n",
            "Epoch 417, loss: 3.1355602741241455\n",
            "Epoch 418, loss: 3.1435482501983643\n",
            "Epoch 419, loss: 3.1241912841796875\n",
            "Epoch 420, loss: 3.123257875442505\n",
            "Epoch 421, loss: 3.111365556716919\n",
            "Epoch 422, loss: 3.148402452468872\n",
            "Epoch 423, loss: 3.1235649585723877\n",
            "Epoch 424, loss: 3.1204543113708496\n",
            "Epoch 425, loss: 3.125244140625\n",
            "Epoch 426, loss: 3.1405060291290283\n",
            "Epoch 427, loss: 3.1285579204559326\n",
            "Epoch 428, loss: 3.1415207386016846\n",
            "Epoch 429, loss: 3.1315035820007324\n",
            "Epoch 430, loss: 3.1057116985321045\n",
            "Epoch 431, loss: 3.120182752609253\n",
            "Epoch 432, loss: 3.1047708988189697\n",
            "Epoch 433, loss: 3.1169583797454834\n",
            "Epoch 434, loss: 3.112982988357544\n",
            "Epoch 435, loss: 3.1308600902557373\n",
            "Epoch 436, loss: 3.117980718612671\n",
            "Epoch 437, loss: 3.1298961639404297\n",
            "Epoch 438, loss: 3.109377145767212\n",
            "Epoch 439, loss: 3.118332624435425\n",
            "Epoch 440, loss: 3.1309735774993896\n",
            "Epoch 441, loss: 3.1101057529449463\n",
            "Epoch 442, loss: 3.121335744857788\n",
            "Epoch 443, loss: 3.112342119216919\n",
            "Epoch 444, loss: 3.1105918884277344\n",
            "Epoch 445, loss: 3.113631010055542\n",
            "Epoch 446, loss: 3.127385377883911\n",
            "Epoch 447, loss: 3.1270315647125244\n",
            "Epoch 448, loss: 3.1182491779327393\n",
            "Epoch 449, loss: 3.117891550064087\n",
            "Epoch 450, loss: 3.0980820655822754\n",
            "Epoch 451, loss: 3.1246654987335205\n",
            "Epoch 452, loss: 3.114785671234131\n",
            "Epoch 453, loss: 3.112248659133911\n",
            "Epoch 454, loss: 3.111283302307129\n",
            "Epoch 455, loss: 3.1194355487823486\n",
            "Epoch 456, loss: 3.0981221199035645\n",
            "Epoch 457, loss: 3.111576795578003\n",
            "Epoch 458, loss: 3.133854866027832\n",
            "Epoch 459, loss: 3.117680549621582\n",
            "Epoch 460, loss: 3.1214592456817627\n",
            "Epoch 461, loss: 3.1287763118743896\n",
            "Epoch 462, loss: 3.1026759147644043\n",
            "Epoch 463, loss: 3.1187827587127686\n",
            "Epoch 464, loss: 3.099750518798828\n",
            "Epoch 465, loss: 3.096994161605835\n",
            "Epoch 466, loss: 3.11796498298645\n",
            "Epoch 467, loss: 3.1118927001953125\n",
            "Epoch 468, loss: 3.104954957962036\n",
            "Epoch 469, loss: 3.1116220951080322\n",
            "Epoch 470, loss: 3.1112189292907715\n",
            "Epoch 471, loss: 3.125657081604004\n",
            "Epoch 472, loss: 3.0993459224700928\n",
            "Epoch 473, loss: 3.1157875061035156\n",
            "Epoch 474, loss: 3.1032814979553223\n",
            "Epoch 475, loss: 3.120425224304199\n",
            "Epoch 476, loss: 3.0950732231140137\n",
            "Epoch 477, loss: 3.0956640243530273\n",
            "Epoch 478, loss: 3.1187572479248047\n",
            "Epoch 479, loss: 3.1077096462249756\n",
            "Epoch 480, loss: 3.1104800701141357\n",
            "Epoch 481, loss: 3.1114001274108887\n",
            "Epoch 482, loss: 3.108269453048706\n",
            "Epoch 483, loss: 3.09401798248291\n",
            "Epoch 484, loss: 3.1174843311309814\n",
            "Epoch 485, loss: 3.118377923965454\n",
            "Epoch 486, loss: 3.117898464202881\n",
            "Epoch 487, loss: 3.1212563514709473\n",
            "Epoch 488, loss: 3.1049845218658447\n",
            "Epoch 489, loss: 3.095846652984619\n",
            "Epoch 490, loss: 3.126539945602417\n",
            "Epoch 491, loss: 3.0995845794677734\n",
            "Epoch 492, loss: 3.104478597640991\n",
            "Epoch 493, loss: 3.094850778579712\n",
            "Epoch 494, loss: 3.119426727294922\n",
            "Epoch 495, loss: 3.105339527130127\n",
            "Epoch 496, loss: 3.1060314178466797\n",
            "Epoch 497, loss: 3.1140754222869873\n",
            "Epoch 498, loss: 3.0997886657714844\n",
            "Epoch 499, loss: 3.103541374206543\n",
            "Epoch 500, loss: 3.131082057952881\n",
            "Epoch 501, loss: 3.109858989715576\n",
            "Epoch 502, loss: 3.095642328262329\n",
            "Epoch 503, loss: 3.106820821762085\n",
            "Epoch 504, loss: 3.113255262374878\n",
            "Epoch 505, loss: 3.1088626384735107\n",
            "Epoch 506, loss: 3.0992329120635986\n",
            "Epoch 507, loss: 3.1127917766571045\n",
            "Epoch 508, loss: 3.0920419692993164\n",
            "Epoch 509, loss: 3.1048901081085205\n",
            "Epoch 510, loss: 3.1050033569335938\n",
            "Epoch 511, loss: 3.082594156265259\n",
            "Epoch 512, loss: 3.0976712703704834\n",
            "Epoch 513, loss: 3.096177101135254\n",
            "Epoch 514, loss: 3.101468324661255\n",
            "Epoch 515, loss: 3.080888271331787\n",
            "Epoch 516, loss: 3.084322214126587\n",
            "Epoch 517, loss: 3.1186583042144775\n",
            "Epoch 518, loss: 3.106846809387207\n",
            "Epoch 519, loss: 3.112891674041748\n",
            "Epoch 520, loss: 3.104149341583252\n",
            "Epoch 521, loss: 3.0963566303253174\n",
            "Epoch 522, loss: 3.10554575920105\n",
            "Epoch 523, loss: 3.1054091453552246\n",
            "Epoch 524, loss: 3.086733102798462\n",
            "Epoch 525, loss: 3.1118688583374023\n",
            "Epoch 526, loss: 3.0887057781219482\n",
            "Epoch 527, loss: 3.0821053981781006\n",
            "Epoch 528, loss: 3.095932722091675\n",
            "Epoch 529, loss: 3.091362476348877\n",
            "Epoch 530, loss: 3.1031413078308105\n",
            "Epoch 531, loss: 3.098217248916626\n",
            "Epoch 532, loss: 3.085085153579712\n",
            "Epoch 533, loss: 3.1085221767425537\n",
            "Epoch 534, loss: 3.0842745304107666\n",
            "Epoch 535, loss: 3.10601544380188\n",
            "Epoch 536, loss: 3.1011033058166504\n",
            "Epoch 537, loss: 3.1054844856262207\n",
            "Epoch 538, loss: 3.0936293601989746\n",
            "Epoch 539, loss: 3.102963924407959\n",
            "Epoch 540, loss: 3.084195375442505\n",
            "Epoch 541, loss: 3.1049485206604004\n",
            "Epoch 542, loss: 3.099544048309326\n",
            "Epoch 543, loss: 3.1049888134002686\n",
            "Epoch 544, loss: 3.087284803390503\n",
            "Epoch 545, loss: 3.082094430923462\n",
            "Epoch 546, loss: 3.085986614227295\n",
            "Epoch 547, loss: 3.0854532718658447\n",
            "Epoch 548, loss: 3.0974698066711426\n",
            "Epoch 549, loss: 3.089777946472168\n",
            "Epoch 550, loss: 3.0978963375091553\n",
            "Epoch 551, loss: 3.0872528553009033\n",
            "Epoch 552, loss: 3.1150097846984863\n",
            "Epoch 553, loss: 3.080860137939453\n",
            "Epoch 554, loss: 3.083174705505371\n",
            "Epoch 555, loss: 3.0939724445343018\n",
            "Epoch 556, loss: 3.104377031326294\n",
            "Epoch 557, loss: 3.0904409885406494\n",
            "Epoch 558, loss: 3.109833002090454\n",
            "Epoch 559, loss: 3.0814993381500244\n",
            "Epoch 560, loss: 3.0840229988098145\n",
            "Epoch 561, loss: 3.089320659637451\n",
            "Epoch 562, loss: 3.0774707794189453\n",
            "Epoch 563, loss: 3.0873730182647705\n",
            "Epoch 564, loss: 3.1068763732910156\n",
            "Epoch 565, loss: 3.0907325744628906\n",
            "Epoch 566, loss: 3.095726490020752\n",
            "Epoch 567, loss: 3.0940303802490234\n",
            "Epoch 568, loss: 3.0829885005950928\n",
            "Epoch 569, loss: 3.107658863067627\n",
            "Epoch 570, loss: 3.10502552986145\n",
            "Epoch 571, loss: 3.077244281768799\n",
            "Epoch 572, loss: 3.1095399856567383\n",
            "Epoch 573, loss: 3.098642110824585\n",
            "Epoch 574, loss: 3.070138454437256\n",
            "Epoch 575, loss: 3.0769689083099365\n",
            "Epoch 576, loss: 3.085496664047241\n",
            "Epoch 577, loss: 3.093858242034912\n",
            "Epoch 578, loss: 3.092296838760376\n",
            "Epoch 579, loss: 3.092151165008545\n",
            "Epoch 580, loss: 3.098010540008545\n",
            "Epoch 581, loss: 3.1133623123168945\n",
            "Epoch 582, loss: 3.0942859649658203\n",
            "Epoch 583, loss: 3.0791773796081543\n",
            "Epoch 584, loss: 3.0647799968719482\n",
            "Epoch 585, loss: 3.089698314666748\n",
            "Epoch 586, loss: 3.061002492904663\n",
            "Epoch 587, loss: 3.104118824005127\n",
            "Epoch 588, loss: 3.073305368423462\n",
            "Epoch 589, loss: 3.0710465908050537\n",
            "Epoch 590, loss: 3.097874402999878\n",
            "Epoch 591, loss: 3.0799269676208496\n",
            "Epoch 592, loss: 3.0872256755828857\n",
            "Epoch 593, loss: 3.079622983932495\n",
            "Epoch 594, loss: 3.0844321250915527\n",
            "Epoch 595, loss: 3.0721049308776855\n",
            "Epoch 596, loss: 3.1013901233673096\n",
            "Epoch 597, loss: 3.0903258323669434\n",
            "Epoch 598, loss: 3.0723774433135986\n",
            "Epoch 599, loss: 3.0825345516204834\n",
            "Epoch 600, loss: 3.0868029594421387\n",
            "Epoch 601, loss: 3.0779576301574707\n",
            "Epoch 602, loss: 3.0768563747406006\n",
            "Epoch 603, loss: 3.076059341430664\n",
            "Epoch 604, loss: 3.099417209625244\n",
            "Epoch 605, loss: 3.0880532264709473\n",
            "Epoch 606, loss: 3.0876386165618896\n",
            "Epoch 607, loss: 3.0682897567749023\n",
            "Epoch 608, loss: 3.0936670303344727\n",
            "Epoch 609, loss: 3.0763802528381348\n",
            "Epoch 610, loss: 3.0614993572235107\n",
            "Epoch 611, loss: 3.082810640335083\n",
            "Epoch 612, loss: 3.0825507640838623\n",
            "Epoch 613, loss: 3.084538221359253\n",
            "Epoch 614, loss: 3.0542166233062744\n",
            "Epoch 615, loss: 3.0706820487976074\n",
            "Epoch 616, loss: 3.0838239192962646\n",
            "Epoch 617, loss: 3.0767905712127686\n",
            "Epoch 618, loss: 3.0894386768341064\n",
            "Epoch 619, loss: 3.0946760177612305\n",
            "Epoch 620, loss: 3.0744879245758057\n",
            "Epoch 621, loss: 3.104595422744751\n",
            "Epoch 622, loss: 3.0770180225372314\n",
            "Epoch 623, loss: 3.082693576812744\n",
            "Epoch 624, loss: 3.0837905406951904\n",
            "Epoch 625, loss: 3.071704864501953\n",
            "Epoch 626, loss: 3.086901903152466\n",
            "Epoch 627, loss: 3.085301399230957\n",
            "Epoch 628, loss: 3.062969446182251\n",
            "Epoch 629, loss: 3.0961451530456543\n",
            "Epoch 630, loss: 3.084503173828125\n",
            "Epoch 631, loss: 3.0932199954986572\n",
            "Epoch 632, loss: 3.0882370471954346\n",
            "Epoch 633, loss: 3.0617518424987793\n",
            "Epoch 634, loss: 3.078730344772339\n",
            "Epoch 635, loss: 3.0940401554107666\n",
            "Epoch 636, loss: 3.0998077392578125\n",
            "Epoch 637, loss: 3.0754129886627197\n",
            "Epoch 638, loss: 3.107090473175049\n",
            "Epoch 639, loss: 3.0751805305480957\n",
            "Epoch 640, loss: 3.0905208587646484\n",
            "Epoch 641, loss: 3.0838050842285156\n",
            "Epoch 642, loss: 3.0944297313690186\n",
            "Epoch 643, loss: 3.094726800918579\n",
            "Epoch 644, loss: 3.0690464973449707\n",
            "Epoch 645, loss: 3.089357852935791\n",
            "Epoch 646, loss: 3.086655855178833\n",
            "Epoch 647, loss: 3.070835828781128\n",
            "Epoch 648, loss: 3.090139627456665\n",
            "Epoch 649, loss: 3.0629353523254395\n",
            "Epoch 650, loss: 3.0798773765563965\n",
            "Epoch 651, loss: 3.0615100860595703\n",
            "Epoch 652, loss: 3.0775463581085205\n",
            "Epoch 653, loss: 3.074246406555176\n",
            "Epoch 654, loss: 3.073485851287842\n",
            "Epoch 655, loss: 3.0919318199157715\n",
            "Epoch 656, loss: 3.07393479347229\n",
            "Epoch 657, loss: 3.0766208171844482\n",
            "Epoch 658, loss: 3.068540573120117\n",
            "Epoch 659, loss: 3.0802674293518066\n",
            "Epoch 660, loss: 3.076143264770508\n",
            "Epoch 661, loss: 3.0825812816619873\n",
            "Epoch 662, loss: 3.0868704319000244\n",
            "Epoch 663, loss: 3.078214168548584\n",
            "Epoch 664, loss: 3.0904150009155273\n",
            "Epoch 665, loss: 3.0783238410949707\n",
            "Epoch 666, loss: 3.05435848236084\n",
            "Epoch 667, loss: 3.084965229034424\n",
            "Epoch 668, loss: 3.0695860385894775\n",
            "Epoch 669, loss: 3.086054563522339\n",
            "Epoch 670, loss: 3.0852367877960205\n",
            "Epoch 671, loss: 3.093376874923706\n",
            "Epoch 672, loss: 3.0713412761688232\n",
            "Epoch 673, loss: 3.0703659057617188\n",
            "Epoch 674, loss: 3.0592784881591797\n",
            "Epoch 675, loss: 3.0717506408691406\n",
            "Epoch 676, loss: 3.0791666507720947\n",
            "Epoch 677, loss: 3.049832344055176\n",
            "Epoch 678, loss: 3.0742690563201904\n",
            "Epoch 679, loss: 3.0705313682556152\n",
            "Epoch 680, loss: 3.067882537841797\n",
            "Epoch 681, loss: 3.0647270679473877\n",
            "Epoch 682, loss: 3.0965576171875\n",
            "Epoch 683, loss: 3.0459113121032715\n",
            "Epoch 684, loss: 3.069424629211426\n",
            "Epoch 685, loss: 3.0808191299438477\n",
            "Epoch 686, loss: 3.0499210357666016\n",
            "Epoch 687, loss: 3.07611083984375\n",
            "Epoch 688, loss: 3.0934441089630127\n",
            "Epoch 689, loss: 3.0691559314727783\n",
            "Epoch 690, loss: 3.0725255012512207\n",
            "Epoch 691, loss: 3.075972318649292\n",
            "Epoch 692, loss: 3.0662193298339844\n",
            "Epoch 693, loss: 3.064553737640381\n",
            "Epoch 694, loss: 3.100769281387329\n",
            "Epoch 695, loss: 3.097113847732544\n",
            "Epoch 696, loss: 3.067974090576172\n",
            "Epoch 697, loss: 3.0708506107330322\n",
            "Epoch 698, loss: 3.0667972564697266\n",
            "Epoch 699, loss: 3.0716521739959717\n",
            "Epoch 700, loss: 3.0807693004608154\n",
            "Epoch 701, loss: 3.0732405185699463\n",
            "Epoch 702, loss: 3.059474229812622\n",
            "Epoch 703, loss: 3.0955617427825928\n",
            "Epoch 704, loss: 3.0659737586975098\n",
            "Epoch 705, loss: 3.086031675338745\n",
            "Epoch 706, loss: 3.080065965652466\n",
            "Epoch 707, loss: 3.0730197429656982\n",
            "Epoch 708, loss: 3.0804355144500732\n",
            "Epoch 709, loss: 3.0588457584381104\n",
            "Epoch 710, loss: 3.070265531539917\n",
            "Epoch 711, loss: 3.050001621246338\n",
            "Epoch 712, loss: 3.079063653945923\n",
            "Epoch 713, loss: 3.071364402770996\n",
            "Epoch 714, loss: 3.0739238262176514\n",
            "Epoch 715, loss: 3.074895143508911\n",
            "Epoch 716, loss: 3.069183826446533\n",
            "Epoch 717, loss: 3.0765957832336426\n",
            "Epoch 718, loss: 3.0585126876831055\n",
            "Epoch 719, loss: 3.06632137298584\n",
            "Epoch 720, loss: 3.0641043186187744\n",
            "Epoch 721, loss: 3.079505443572998\n",
            "Epoch 722, loss: 3.067570209503174\n",
            "Epoch 723, loss: 3.0783252716064453\n",
            "Epoch 724, loss: 3.0756468772888184\n",
            "Epoch 725, loss: 3.052608013153076\n",
            "Epoch 726, loss: 3.061614751815796\n",
            "Epoch 727, loss: 3.053618907928467\n",
            "Epoch 728, loss: 3.074446201324463\n",
            "Epoch 729, loss: 3.081841468811035\n",
            "Epoch 730, loss: 3.085576057434082\n",
            "Epoch 731, loss: 3.051647901535034\n",
            "Epoch 732, loss: 3.079017400741577\n",
            "Epoch 733, loss: 3.076685905456543\n",
            "Epoch 734, loss: 3.0569026470184326\n",
            "Epoch 735, loss: 3.070589780807495\n",
            "Epoch 736, loss: 3.0529792308807373\n",
            "Epoch 737, loss: 3.0873777866363525\n",
            "Epoch 738, loss: 3.067042112350464\n",
            "Epoch 739, loss: 3.065173864364624\n",
            "Epoch 740, loss: 3.0752246379852295\n",
            "Epoch 741, loss: 3.073005437850952\n",
            "Epoch 742, loss: 3.0640289783477783\n",
            "Epoch 743, loss: 3.066025495529175\n",
            "Epoch 744, loss: 3.066241502761841\n",
            "Epoch 745, loss: 3.0545811653137207\n",
            "Epoch 746, loss: 3.08634090423584\n",
            "Epoch 747, loss: 3.0600836277008057\n",
            "Epoch 748, loss: 3.068552017211914\n",
            "Epoch 749, loss: 3.0695228576660156\n",
            "Epoch 750, loss: 3.067662477493286\n",
            "Epoch 751, loss: 3.0705578327178955\n",
            "Epoch 752, loss: 3.081639051437378\n",
            "Epoch 753, loss: 3.0485923290252686\n",
            "Epoch 754, loss: 3.07505464553833\n",
            "Epoch 755, loss: 3.0723655223846436\n",
            "Epoch 756, loss: 3.0722079277038574\n",
            "Epoch 757, loss: 3.052440881729126\n",
            "Epoch 758, loss: 3.0673625469207764\n",
            "Epoch 759, loss: 3.0498924255371094\n",
            "Epoch 760, loss: 3.0589404106140137\n",
            "Epoch 761, loss: 3.0832529067993164\n",
            "Epoch 762, loss: 3.052769899368286\n",
            "Epoch 763, loss: 3.072336196899414\n",
            "Epoch 764, loss: 3.0618112087249756\n",
            "Epoch 765, loss: 3.0630176067352295\n",
            "Epoch 766, loss: 3.0551538467407227\n",
            "Epoch 767, loss: 3.0631699562072754\n",
            "Epoch 768, loss: 3.053449869155884\n",
            "Epoch 769, loss: 3.06769061088562\n",
            "Epoch 770, loss: 3.064500331878662\n",
            "Epoch 771, loss: 3.060100555419922\n",
            "Epoch 772, loss: 3.053093194961548\n",
            "Epoch 773, loss: 3.0686094760894775\n",
            "Epoch 774, loss: 3.0556857585906982\n",
            "Epoch 775, loss: 3.0591771602630615\n",
            "Epoch 776, loss: 3.060990333557129\n",
            "Epoch 777, loss: 3.067983865737915\n",
            "Epoch 778, loss: 3.0820465087890625\n",
            "Epoch 779, loss: 3.07295560836792\n",
            "Epoch 780, loss: 3.064419746398926\n",
            "Epoch 781, loss: 3.0426535606384277\n",
            "Epoch 782, loss: 3.057030439376831\n",
            "Epoch 783, loss: 3.0808000564575195\n",
            "Epoch 784, loss: 3.0715694427490234\n",
            "Epoch 785, loss: 3.0519254207611084\n",
            "Epoch 786, loss: 3.0464396476745605\n",
            "Epoch 787, loss: 3.0704333782196045\n",
            "Epoch 788, loss: 3.066805601119995\n",
            "Epoch 789, loss: 3.051560401916504\n",
            "Epoch 790, loss: 3.0542550086975098\n",
            "Epoch 791, loss: 3.043118953704834\n",
            "Epoch 792, loss: 3.0694446563720703\n",
            "Epoch 793, loss: 3.0533032417297363\n",
            "Epoch 794, loss: 3.050657272338867\n",
            "Epoch 795, loss: 3.057652235031128\n",
            "Epoch 796, loss: 3.076724052429199\n",
            "Epoch 797, loss: 3.0763182640075684\n",
            "Epoch 798, loss: 3.061095714569092\n",
            "Epoch 799, loss: 3.0665218830108643\n",
            "Epoch 800, loss: 3.046550750732422\n",
            "Epoch 801, loss: 3.0442798137664795\n",
            "Epoch 802, loss: 3.0395965576171875\n",
            "Epoch 803, loss: 3.0702786445617676\n",
            "Epoch 804, loss: 3.0532901287078857\n",
            "Epoch 805, loss: 3.0558969974517822\n",
            "Epoch 806, loss: 3.054121494293213\n",
            "Epoch 807, loss: 3.0628662109375\n",
            "Epoch 808, loss: 3.0519375801086426\n",
            "Epoch 809, loss: 3.063823699951172\n",
            "Epoch 810, loss: 3.0685598850250244\n",
            "Epoch 811, loss: 3.046290636062622\n",
            "Epoch 812, loss: 3.0500710010528564\n",
            "Epoch 813, loss: 3.047593355178833\n",
            "Epoch 814, loss: 3.040278911590576\n",
            "Epoch 815, loss: 3.0764124393463135\n",
            "Epoch 816, loss: 3.065347671508789\n",
            "Epoch 817, loss: 3.0566139221191406\n",
            "Epoch 818, loss: 3.0589189529418945\n",
            "Epoch 819, loss: 3.0763204097747803\n",
            "Epoch 820, loss: 3.0524234771728516\n",
            "Epoch 821, loss: 3.0477635860443115\n",
            "Epoch 822, loss: 3.0556654930114746\n",
            "Epoch 823, loss: 3.043128728866577\n",
            "Epoch 824, loss: 3.0620620250701904\n",
            "Epoch 825, loss: 3.06166934967041\n",
            "Epoch 826, loss: 3.062868356704712\n",
            "Epoch 827, loss: 3.071303129196167\n",
            "Epoch 828, loss: 3.0635721683502197\n",
            "Epoch 829, loss: 3.056769847869873\n",
            "Epoch 830, loss: 3.070096969604492\n",
            "Epoch 831, loss: 3.0610406398773193\n",
            "Epoch 832, loss: 3.0604305267333984\n",
            "Epoch 833, loss: 3.0627505779266357\n",
            "Epoch 834, loss: 3.0644986629486084\n",
            "Epoch 835, loss: 3.0557973384857178\n",
            "Epoch 836, loss: 3.0759756565093994\n",
            "Epoch 837, loss: 3.056058168411255\n",
            "Epoch 838, loss: 3.047551393508911\n",
            "Epoch 839, loss: 3.0536673069000244\n",
            "Epoch 840, loss: 3.052353620529175\n",
            "Epoch 841, loss: 3.0686349868774414\n",
            "Epoch 842, loss: 3.0621590614318848\n",
            "Epoch 843, loss: 3.04939603805542\n",
            "Epoch 844, loss: 3.0591824054718018\n",
            "Epoch 845, loss: 3.0629775524139404\n",
            "Epoch 846, loss: 3.0556318759918213\n",
            "Epoch 847, loss: 3.0491788387298584\n",
            "Epoch 848, loss: 3.0519466400146484\n",
            "Epoch 849, loss: 3.0538644790649414\n",
            "Epoch 850, loss: 3.051764965057373\n",
            "Epoch 851, loss: 3.062753677368164\n",
            "Epoch 852, loss: 3.066856622695923\n",
            "Epoch 853, loss: 3.0554871559143066\n",
            "Epoch 854, loss: 3.0515542030334473\n",
            "Epoch 855, loss: 3.0298449993133545\n",
            "Epoch 856, loss: 3.067262887954712\n",
            "Epoch 857, loss: 3.060756206512451\n",
            "Epoch 858, loss: 3.049156904220581\n",
            "Epoch 859, loss: 3.0589168071746826\n",
            "Epoch 860, loss: 3.061265707015991\n",
            "Epoch 861, loss: 3.052001476287842\n",
            "Epoch 862, loss: 3.062026262283325\n",
            "Epoch 863, loss: 3.0548624992370605\n",
            "Epoch 864, loss: 3.048163890838623\n",
            "Epoch 865, loss: 3.0585758686065674\n",
            "Epoch 866, loss: 3.0489001274108887\n",
            "Epoch 867, loss: 3.0305843353271484\n",
            "Epoch 868, loss: 3.05417537689209\n",
            "Epoch 869, loss: 3.0469374656677246\n",
            "Epoch 870, loss: 3.049344301223755\n",
            "Epoch 871, loss: 3.053929090499878\n",
            "Epoch 872, loss: 3.0467472076416016\n",
            "Epoch 873, loss: 3.045578718185425\n",
            "Epoch 874, loss: 3.0372188091278076\n",
            "Epoch 875, loss: 3.04636812210083\n",
            "Epoch 876, loss: 3.043539047241211\n",
            "Epoch 877, loss: 3.047136068344116\n",
            "Epoch 878, loss: 3.049363851547241\n",
            "Epoch 879, loss: 3.0650269985198975\n",
            "Epoch 880, loss: 3.0638794898986816\n",
            "Epoch 881, loss: 3.0457277297973633\n",
            "Epoch 882, loss: 3.035336971282959\n",
            "Epoch 883, loss: 3.033386468887329\n",
            "Epoch 884, loss: 3.0623245239257812\n",
            "Epoch 885, loss: 3.052790641784668\n",
            "Epoch 886, loss: 3.0648205280303955\n",
            "Epoch 887, loss: 3.0610859394073486\n",
            "Epoch 888, loss: 3.04378604888916\n",
            "Epoch 889, loss: 3.056936264038086\n",
            "Epoch 890, loss: 3.0339365005493164\n",
            "Epoch 891, loss: 3.0512638092041016\n",
            "Epoch 892, loss: 3.060790777206421\n",
            "Epoch 893, loss: 3.048281669616699\n",
            "Epoch 894, loss: 3.0663321018218994\n",
            "Epoch 895, loss: 3.041897773742676\n",
            "Epoch 896, loss: 3.053410768508911\n",
            "Epoch 897, loss: 3.040215253829956\n",
            "Epoch 898, loss: 3.045067310333252\n",
            "Epoch 899, loss: 3.0545642375946045\n",
            "Epoch 900, loss: 3.0445518493652344\n",
            "Epoch 901, loss: 3.0615856647491455\n",
            "Epoch 902, loss: 3.052932024002075\n",
            "Epoch 903, loss: 3.0586092472076416\n",
            "Epoch 904, loss: 3.06923508644104\n",
            "Epoch 905, loss: 3.0573832988739014\n",
            "Epoch 906, loss: 3.0407960414886475\n",
            "Epoch 907, loss: 3.042983055114746\n",
            "Epoch 908, loss: 3.030766010284424\n",
            "Epoch 909, loss: 3.0476186275482178\n",
            "Epoch 910, loss: 3.0577809810638428\n",
            "Epoch 911, loss: 3.031491756439209\n",
            "Epoch 912, loss: 3.0443432331085205\n",
            "Epoch 913, loss: 3.057447910308838\n",
            "Epoch 914, loss: 3.0498080253601074\n",
            "Epoch 915, loss: 3.043423652648926\n",
            "Epoch 916, loss: 3.046143054962158\n",
            "Epoch 917, loss: 3.056143045425415\n",
            "Epoch 918, loss: 3.03827166557312\n",
            "Epoch 919, loss: 3.052772283554077\n",
            "Epoch 920, loss: 3.06099534034729\n",
            "Epoch 921, loss: 3.068551540374756\n",
            "Epoch 922, loss: 3.0391576290130615\n",
            "Epoch 923, loss: 3.0461363792419434\n",
            "Epoch 924, loss: 3.042515277862549\n",
            "Epoch 925, loss: 3.0442512035369873\n",
            "Epoch 926, loss: 3.0349643230438232\n",
            "Epoch 927, loss: 3.04742431640625\n",
            "Epoch 928, loss: 3.05721116065979\n",
            "Epoch 929, loss: 3.040208101272583\n",
            "Epoch 930, loss: 3.027233123779297\n",
            "Epoch 931, loss: 3.039062976837158\n",
            "Epoch 932, loss: 3.0406932830810547\n",
            "Epoch 933, loss: 3.0443615913391113\n",
            "Epoch 934, loss: 3.066533327102661\n",
            "Epoch 935, loss: 3.0305275917053223\n",
            "Epoch 936, loss: 3.047504425048828\n",
            "Epoch 937, loss: 3.042577028274536\n",
            "Epoch 938, loss: 3.036623001098633\n",
            "Epoch 939, loss: 3.0515968799591064\n",
            "Epoch 940, loss: 3.046501636505127\n",
            "Epoch 941, loss: 3.0492165088653564\n",
            "Epoch 942, loss: 3.0435914993286133\n",
            "Epoch 943, loss: 3.0506856441497803\n",
            "Epoch 944, loss: 3.0344340801239014\n",
            "Epoch 945, loss: 3.0466864109039307\n",
            "Epoch 946, loss: 3.0389652252197266\n",
            "Epoch 947, loss: 3.02262020111084\n",
            "Epoch 948, loss: 3.0452327728271484\n",
            "Epoch 949, loss: 3.0655510425567627\n",
            "Epoch 950, loss: 3.0457112789154053\n",
            "Epoch 951, loss: 3.04470157623291\n",
            "Epoch 952, loss: 3.0515925884246826\n",
            "Epoch 953, loss: 3.02414870262146\n",
            "Epoch 954, loss: 3.042396306991577\n",
            "Epoch 955, loss: 3.0533463954925537\n",
            "Epoch 956, loss: 3.036738872528076\n",
            "Epoch 957, loss: 3.0516645908355713\n",
            "Epoch 958, loss: 3.0353963375091553\n",
            "Epoch 959, loss: 3.0484135150909424\n",
            "Epoch 960, loss: 3.0365536212921143\n",
            "Epoch 961, loss: 3.051801919937134\n",
            "Epoch 962, loss: 3.0504980087280273\n",
            "Epoch 963, loss: 3.037508964538574\n",
            "Epoch 964, loss: 3.0471010208129883\n",
            "Epoch 965, loss: 3.055687427520752\n",
            "Epoch 966, loss: 3.0438218116760254\n",
            "Epoch 967, loss: 3.0550644397735596\n",
            "Epoch 968, loss: 3.065486192703247\n",
            "Epoch 969, loss: 3.047461748123169\n",
            "Epoch 970, loss: 3.0330865383148193\n",
            "Epoch 971, loss: 3.0517287254333496\n",
            "Epoch 972, loss: 3.03085994720459\n",
            "Epoch 973, loss: 3.0414421558380127\n",
            "Epoch 974, loss: 3.0356853008270264\n",
            "Epoch 975, loss: 3.033644437789917\n",
            "Epoch 976, loss: 3.026559352874756\n",
            "Epoch 977, loss: 3.0343735218048096\n",
            "Epoch 978, loss: 3.049281120300293\n",
            "Epoch 979, loss: 3.046673536300659\n",
            "Epoch 980, loss: 3.052394390106201\n",
            "Epoch 981, loss: 3.050133228302002\n",
            "Epoch 982, loss: 3.0211267471313477\n",
            "Epoch 983, loss: 3.0399651527404785\n",
            "Epoch 984, loss: 3.0361416339874268\n",
            "Epoch 985, loss: 3.037811517715454\n",
            "Epoch 986, loss: 3.031714916229248\n",
            "Epoch 987, loss: 3.0399625301361084\n",
            "Epoch 988, loss: 3.037881851196289\n",
            "Epoch 989, loss: 3.0433597564697266\n",
            "Epoch 990, loss: 3.0376272201538086\n",
            "Epoch 991, loss: 3.0432558059692383\n",
            "Epoch 992, loss: 3.0324926376342773\n",
            "Epoch 993, loss: 3.0472378730773926\n",
            "Epoch 994, loss: 3.0390095710754395\n",
            "Epoch 995, loss: 3.0399460792541504\n",
            "Epoch 996, loss: 3.051783323287964\n",
            "Epoch 997, loss: 3.0617096424102783\n",
            "Epoch 998, loss: 3.0476341247558594\n",
            "Epoch 999, loss: 3.0607292652130127\n",
            "Epoch 1000, loss: 3.0321784019470215\n",
            "Training took 17.199747788906098 minutes\n"
          ],
          "name": "stdout"
        }
      ]
    },
    {
      "cell_type": "code",
      "metadata": {
        "id": "PJTiQt3b0479",
        "colab": {
          "base_uri": "https://localhost:8080/",
          "height": 282
        },
        "outputId": "95655088-4647-4614-b1a3-91aad46e62c9"
      },
      "source": [
        "### PLotting the loss function\n",
        "\n",
        "plt.plot(range(1000), final_losses)"
      ],
      "execution_count": null,
      "outputs": [
        {
          "output_type": "execute_result",
          "data": {
            "text/plain": [
              "[<matplotlib.lines.Line2D at 0x7fb670db25c0>]"
            ]
          },
          "metadata": {
            "tags": []
          },
          "execution_count": 54
        },
        {
          "output_type": "display_data",
          "data": {
            "image/png": "[encoded data removed]",
            "text/plain": [
              "<Figure size 432x288 with 1 Axes>"
            ]
          },
          "metadata": {
            "tags": [],
            "needs_background": "light"
          }
        }
      ]
    },
    {
      "cell_type": "code",
      "metadata": {
        "id": "WjX63ejj048D"
      },
      "source": [
        "### Evaluating our model on the test set\n",
        "\n",
        "with torch.no_grad():\n",
        "    \n",
        "    y_val = model(cat_test, con_test)\n",
        "    \n",
        "    loss = torch.sqrt(criterion(y_val, y_test))"
      ],
      "execution_count": null,
      "outputs": []
    },
    {
      "cell_type": "code",
      "metadata": {
        "id": "EAlYODD_048H",
        "colab": {
          "base_uri": "https://localhost:8080/",
          "height": 364
        },
        "outputId": "2d2103e5-aa11-487c-e13e-86b31fdaade6"
      },
      "source": [
        "for i in range(20):\n",
        "    \n",
        "    diff = np.abs(y_val[i].item()-y_test[i].item())\n",
        "    print(f'PREDICTED VALUES : {y_val[i].item():8.4f} TRUE VALUES : {y_test[i].item():8.2f} DIFF : {diff:8.2f}')"
      ],
      "execution_count": null,
      "outputs": [
        {
          "output_type": "stream",
          "text": [
            "PREDICTED VALUES :   4.0635 TRUE VALUES :     2.90 DIFF :     1.16\n",
            "PREDICTED VALUES :  24.2182 TRUE VALUES :     5.70 DIFF :    18.52\n",
            "PREDICTED VALUES :   5.3872 TRUE VALUES :     7.70 DIFF :     2.31\n",
            "PREDICTED VALUES :  11.5688 TRUE VALUES :    12.50 DIFF :     0.93\n",
            "PREDICTED VALUES :   4.0781 TRUE VALUES :     4.10 DIFF :     0.02\n",
            "PREDICTED VALUES :   4.7976 TRUE VALUES :     5.30 DIFF :     0.50\n",
            "PREDICTED VALUES :   2.6458 TRUE VALUES :     3.70 DIFF :     1.05\n",
            "PREDICTED VALUES :  19.5448 TRUE VALUES :    14.50 DIFF :     5.04\n",
            "PREDICTED VALUES :   5.7740 TRUE VALUES :     5.70 DIFF :     0.07\n",
            "PREDICTED VALUES :  12.2214 TRUE VALUES :    10.10 DIFF :     2.12\n",
            "PREDICTED VALUES :   4.3655 TRUE VALUES :     4.50 DIFF :     0.13\n",
            "PREDICTED VALUES :   5.5553 TRUE VALUES :     6.10 DIFF :     0.54\n",
            "PREDICTED VALUES :   8.2402 TRUE VALUES :     6.90 DIFF :     1.34\n",
            "PREDICTED VALUES :  13.3195 TRUE VALUES :    14.10 DIFF :     0.78\n",
            "PREDICTED VALUES :   5.8202 TRUE VALUES :     4.50 DIFF :     1.32\n",
            "PREDICTED VALUES :  29.0333 TRUE VALUES :    34.10 DIFF :     5.07\n",
            "PREDICTED VALUES :   5.0276 TRUE VALUES :    12.50 DIFF :     7.47\n",
            "PREDICTED VALUES :   4.6824 TRUE VALUES :     4.10 DIFF :     0.58\n",
            "PREDICTED VALUES :   9.2528 TRUE VALUES :     8.50 DIFF :     0.75\n",
            "PREDICTED VALUES :   6.7832 TRUE VALUES :     5.30 DIFF :     1.48\n"
          ],
          "name": "stdout"
        }
      ]
    },
    {
      "cell_type": "code",
      "metadata": {
        "id": "P_d7-hLb7C9C"
      },
      "source": [
        ""
      ],
      "execution_count": null,
      "outputs": []
    }
  ]
}