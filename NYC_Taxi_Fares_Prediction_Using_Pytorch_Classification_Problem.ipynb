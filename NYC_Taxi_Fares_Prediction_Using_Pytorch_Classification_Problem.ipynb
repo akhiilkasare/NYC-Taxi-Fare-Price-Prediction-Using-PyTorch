{
  "nbformat": 4,
  "nbformat_minor": 0,
  "metadata": {
    "kernelspec": {
      "display_name": "Python 3",
      "language": "python",
      "name": "python3"
    },
    "language_info": {
      "codemirror_mode": {
        "name": "ipython",
        "version": 3
      },
      "file_extension": ".py",
      "mimetype": "text/x-python",
      "name": "python",
      "nbconvert_exporter": "python",
      "pygments_lexer": "ipython3",
      "version": "3.7.3"
    },
    "colab": {
      "name": " NYC Taxi Fares Prediction Using Pytorch Classification Problem.ipynb",
      "provenance": [],
      "collapsed_sections": [],
      "include_colab_link": true
    },
    "accelerator": "GPU"
  },
  "cells": [
    {
      "cell_type": "markdown",
      "metadata": {
        "id": "view-in-github",
        "colab_type": "text"
      },
      "source": [
        "<a href=\"https://colab.research.google.com/github/akhiilkasare/NYC-Taxi-Fare-Price-Prediction-Using-PyTorch/blob/main/NYC_Taxi_Fares_Prediction_Using_Pytorch_Classification_Problem.ipynb\" target=\"_parent\"><img src=\"https://colab.research.google.com/assets/colab-badge.svg\" alt=\"Open In Colab\"/></a>"
      ]
    },
    {
      "cell_type": "code",
      "metadata": {
        "id": "h_kMoy9W042d"
      },
      "source": [
        "import torch \n",
        "import torch.nn as nn\n",
        "import pandas as pd\n",
        "import numpy as np\n",
        "import matplotlib.pyplot as plt\n",
        "%matplotlib inline"
      ],
      "execution_count": null,
      "outputs": []
    },
    {
      "cell_type": "code",
      "metadata": {
        "id": "zMtHFECZ2U4f",
        "colab": {
          "base_uri": "https://localhost:8080/",
          "height": 34
        },
        "outputId": "089a015e-b79e-43b2-8993-8eb5657d88e7"
      },
      "source": [
        "from google.colab import drive\n",
        "drive.mount('/content/drive')"
      ],
      "execution_count": null,
      "outputs": [
        {
          "output_type": "stream",
          "text": [
            "Drive already mounted at /content/drive; to attempt to forcibly remount, call drive.mount(\"/content/drive\", force_remount=True).\n"
          ],
          "name": "stdout"
        }
      ]
    },
    {
      "cell_type": "code",
      "metadata": {
        "id": "SyCMlhfF1RmH"
      },
      "source": [
        ""
      ],
      "execution_count": null,
      "outputs": []
    },
    {
      "cell_type": "code",
      "metadata": {
        "id": "a-I9Vb0L042r"
      },
      "source": [
        "df = pd.read_csv('/content/drive/My Drive/nyc-taxi-fare-price-pytorch/NYCTaxiFares.csv')"
      ],
      "execution_count": null,
      "outputs": []
    },
    {
      "cell_type": "code",
      "metadata": {
        "id": "9mOofKzQ0423",
        "colab": {
          "base_uri": "https://localhost:8080/",
          "height": 293
        },
        "outputId": "84db4f2c-523d-4ab1-bf02-52c3d233b5a7"
      },
      "source": [
        "df.head()"
      ],
      "execution_count": null,
      "outputs": [
        {
          "output_type": "execute_result",
          "data": {
            "text/html": [
              "<div>\n",
              "<style scoped>\n",
              "    .dataframe tbody tr th:only-of-type {\n",
              "        vertical-align: middle;\n",
              "    }\n",
              "\n",
              "    .dataframe tbody tr th {\n",
              "        vertical-align: top;\n",
              "    }\n",
              "\n",
              "    .dataframe thead th {\n",
              "        text-align: right;\n",
              "    }\n",
              "</style>\n",
              "<table border=\"1\" class=\"dataframe\">\n",
              "  <thead>\n",
              "    <tr style=\"text-align: right;\">\n",
              "      <th></th>\n",
              "      <th>pickup_datetime</th>\n",
              "      <th>fare_amount</th>\n",
              "      <th>fare_class</th>\n",
              "      <th>pickup_longitude</th>\n",
              "      <th>pickup_latitude</th>\n",
              "      <th>dropoff_longitude</th>\n",
              "      <th>dropoff_latitude</th>\n",
              "      <th>passenger_count</th>\n",
              "    </tr>\n",
              "  </thead>\n",
              "  <tbody>\n",
              "    <tr>\n",
              "      <th>0</th>\n",
              "      <td>2010-04-19 08:17:56 UTC</td>\n",
              "      <td>6.5</td>\n",
              "      <td>0</td>\n",
              "      <td>-73.992365</td>\n",
              "      <td>40.730521</td>\n",
              "      <td>-73.975499</td>\n",
              "      <td>40.744746</td>\n",
              "      <td>1</td>\n",
              "    </tr>\n",
              "    <tr>\n",
              "      <th>1</th>\n",
              "      <td>2010-04-17 15:43:53 UTC</td>\n",
              "      <td>6.9</td>\n",
              "      <td>0</td>\n",
              "      <td>-73.990078</td>\n",
              "      <td>40.740558</td>\n",
              "      <td>-73.974232</td>\n",
              "      <td>40.744114</td>\n",
              "      <td>1</td>\n",
              "    </tr>\n",
              "    <tr>\n",
              "      <th>2</th>\n",
              "      <td>2010-04-17 11:23:26 UTC</td>\n",
              "      <td>10.1</td>\n",
              "      <td>1</td>\n",
              "      <td>-73.994149</td>\n",
              "      <td>40.751118</td>\n",
              "      <td>-73.960064</td>\n",
              "      <td>40.766235</td>\n",
              "      <td>2</td>\n",
              "    </tr>\n",
              "    <tr>\n",
              "      <th>3</th>\n",
              "      <td>2010-04-11 21:25:03 UTC</td>\n",
              "      <td>8.9</td>\n",
              "      <td>0</td>\n",
              "      <td>-73.990485</td>\n",
              "      <td>40.756422</td>\n",
              "      <td>-73.971205</td>\n",
              "      <td>40.748192</td>\n",
              "      <td>1</td>\n",
              "    </tr>\n",
              "    <tr>\n",
              "      <th>4</th>\n",
              "      <td>2010-04-17 02:19:01 UTC</td>\n",
              "      <td>19.7</td>\n",
              "      <td>1</td>\n",
              "      <td>-73.990976</td>\n",
              "      <td>40.734202</td>\n",
              "      <td>-73.905956</td>\n",
              "      <td>40.743115</td>\n",
              "      <td>1</td>\n",
              "    </tr>\n",
              "  </tbody>\n",
              "</table>\n",
              "</div>"
            ],
            "text/plain": [
              "           pickup_datetime  fare_amount  ...  dropoff_latitude  passenger_count\n",
              "0  2010-04-19 08:17:56 UTC          6.5  ...         40.744746                1\n",
              "1  2010-04-17 15:43:53 UTC          6.9  ...         40.744114                1\n",
              "2  2010-04-17 11:23:26 UTC         10.1  ...         40.766235                2\n",
              "3  2010-04-11 21:25:03 UTC          8.9  ...         40.748192                1\n",
              "4  2010-04-17 02:19:01 UTC         19.7  ...         40.743115                1\n",
              "\n",
              "[5 rows x 8 columns]"
            ]
          },
          "metadata": {
            "tags": []
          },
          "execution_count": 4
        }
      ]
    },
    {
      "cell_type": "code",
      "metadata": {
        "id": "DDHJ8AEw043D",
        "colab": {
          "base_uri": "https://localhost:8080/",
          "height": 300
        },
        "outputId": "3ffc3a35-6719-4d37-be23-d005de9ed374"
      },
      "source": [
        "df.describe()"
      ],
      "execution_count": null,
      "outputs": [
        {
          "output_type": "execute_result",
          "data": {
            "text/html": [
              "<div>\n",
              "<style scoped>\n",
              "    .dataframe tbody tr th:only-of-type {\n",
              "        vertical-align: middle;\n",
              "    }\n",
              "\n",
              "    .dataframe tbody tr th {\n",
              "        vertical-align: top;\n",
              "    }\n",
              "\n",
              "    .dataframe thead th {\n",
              "        text-align: right;\n",
              "    }\n",
              "</style>\n",
              "<table border=\"1\" class=\"dataframe\">\n",
              "  <thead>\n",
              "    <tr style=\"text-align: right;\">\n",
              "      <th></th>\n",
              "      <th>fare_amount</th>\n",
              "      <th>fare_class</th>\n",
              "      <th>pickup_longitude</th>\n",
              "      <th>pickup_latitude</th>\n",
              "      <th>dropoff_longitude</th>\n",
              "      <th>dropoff_latitude</th>\n",
              "      <th>passenger_count</th>\n",
              "    </tr>\n",
              "  </thead>\n",
              "  <tbody>\n",
              "    <tr>\n",
              "      <th>count</th>\n",
              "      <td>120000.000000</td>\n",
              "      <td>120000.000000</td>\n",
              "      <td>120000.000000</td>\n",
              "      <td>120000.000000</td>\n",
              "      <td>120000.000000</td>\n",
              "      <td>120000.000000</td>\n",
              "      <td>120000.000000</td>\n",
              "    </tr>\n",
              "    <tr>\n",
              "      <th>mean</th>\n",
              "      <td>10.040326</td>\n",
              "      <td>0.333333</td>\n",
              "      <td>-73.976626</td>\n",
              "      <td>40.751443</td>\n",
              "      <td>-73.974501</td>\n",
              "      <td>40.751695</td>\n",
              "      <td>1.347167</td>\n",
              "    </tr>\n",
              "    <tr>\n",
              "      <th>std</th>\n",
              "      <td>7.500134</td>\n",
              "      <td>0.471406</td>\n",
              "      <td>0.031497</td>\n",
              "      <td>0.025821</td>\n",
              "      <td>0.032419</td>\n",
              "      <td>0.030279</td>\n",
              "      <td>0.759263</td>\n",
              "    </tr>\n",
              "    <tr>\n",
              "      <th>min</th>\n",
              "      <td>2.500000</td>\n",
              "      <td>0.000000</td>\n",
              "      <td>-74.465447</td>\n",
              "      <td>40.121653</td>\n",
              "      <td>-74.443323</td>\n",
              "      <td>40.164927</td>\n",
              "      <td>1.000000</td>\n",
              "    </tr>\n",
              "    <tr>\n",
              "      <th>25%</th>\n",
              "      <td>5.700000</td>\n",
              "      <td>0.000000</td>\n",
              "      <td>-73.992386</td>\n",
              "      <td>40.736594</td>\n",
              "      <td>-73.991478</td>\n",
              "      <td>40.735914</td>\n",
              "      <td>1.000000</td>\n",
              "    </tr>\n",
              "    <tr>\n",
              "      <th>50%</th>\n",
              "      <td>7.700000</td>\n",
              "      <td>0.000000</td>\n",
              "      <td>-73.982084</td>\n",
              "      <td>40.753661</td>\n",
              "      <td>-73.980411</td>\n",
              "      <td>40.754441</td>\n",
              "      <td>1.000000</td>\n",
              "    </tr>\n",
              "    <tr>\n",
              "      <th>75%</th>\n",
              "      <td>11.300000</td>\n",
              "      <td>1.000000</td>\n",
              "      <td>-73.968710</td>\n",
              "      <td>40.768020</td>\n",
              "      <td>-73.965500</td>\n",
              "      <td>40.768880</td>\n",
              "      <td>1.000000</td>\n",
              "    </tr>\n",
              "    <tr>\n",
              "      <th>max</th>\n",
              "      <td>49.900000</td>\n",
              "      <td>1.000000</td>\n",
              "      <td>-73.311845</td>\n",
              "      <td>40.981292</td>\n",
              "      <td>-73.496140</td>\n",
              "      <td>40.993498</td>\n",
              "      <td>5.000000</td>\n",
              "    </tr>\n",
              "  </tbody>\n",
              "</table>\n",
              "</div>"
            ],
            "text/plain": [
              "         fare_amount     fare_class  ...  dropoff_latitude  passenger_count\n",
              "count  120000.000000  120000.000000  ...     120000.000000    120000.000000\n",
              "mean       10.040326       0.333333  ...         40.751695         1.347167\n",
              "std         7.500134       0.471406  ...          0.030279         0.759263\n",
              "min         2.500000       0.000000  ...         40.164927         1.000000\n",
              "25%         5.700000       0.000000  ...         40.735914         1.000000\n",
              "50%         7.700000       0.000000  ...         40.754441         1.000000\n",
              "75%        11.300000       1.000000  ...         40.768880         1.000000\n",
              "max        49.900000       1.000000  ...         40.993498         5.000000\n",
              "\n",
              "[8 rows x 7 columns]"
            ]
          },
          "metadata": {
            "tags": []
          },
          "execution_count": 5
        }
      ]
    },
    {
      "cell_type": "markdown",
      "metadata": {
        "id": "uoYc9ZFZ043K"
      },
      "source": [
        "### Converting the latitude and longitude in kms using havershine distance formula"
      ]
    },
    {
      "cell_type": "code",
      "metadata": {
        "id": "0uTzGisn043N"
      },
      "source": [
        "def haversine_distance(df, lat1, long1, lat2, long2):\n",
        "    \"\"\"\n",
        "    Calculates the haversine distance between 2 sets of GPS coordinates in df\n",
        "    \"\"\"\n",
        "    r = 6371  # average radius of Earth in kilometers\n",
        "       \n",
        "    phi1 = np.radians(df[lat1])  # converting the longitude and latidtude into numpy radians\n",
        "    phi2 = np.radians(df[lat2])\n",
        "    \n",
        "    delta_phi = np.radians(df[lat2]-df[lat1])\n",
        "    delta_lambda = np.radians(df[long2]-df[long1])\n",
        "     \n",
        "    a = np.sin(delta_phi/2)**2 + np.cos(phi1) * np.cos(phi2) * np.sin(delta_lambda/2)**2\n",
        "    c = 2 * np.arctan2(np.sqrt(a), np.sqrt(1-a))\n",
        "    d = (r * c) # in kilometers\n",
        "\n",
        "    return d"
      ],
      "execution_count": null,
      "outputs": []
    },
    {
      "cell_type": "code",
      "metadata": {
        "id": "ndjylfZl043U"
      },
      "source": [
        "df['distance_km'] = haversine_distance(df, 'pickup_latitude', 'pickup_longitude','dropoff_latitude','dropoff_longitude')"
      ],
      "execution_count": null,
      "outputs": []
    },
    {
      "cell_type": "code",
      "metadata": {
        "id": "q_2itjMp043d",
        "colab": {
          "base_uri": "https://localhost:8080/",
          "height": 86
        },
        "outputId": "07527d57-3d8e-410b-99eb-3972546c6bff"
      },
      "source": [
        "df.columns"
      ],
      "execution_count": null,
      "outputs": [
        {
          "output_type": "execute_result",
          "data": {
            "text/plain": [
              "Index(['pickup_datetime', 'fare_amount', 'fare_class', 'pickup_longitude',\n",
              "       'pickup_latitude', 'dropoff_longitude', 'dropoff_latitude',\n",
              "       'passenger_count', 'distance_km'],\n",
              "      dtype='object')"
            ]
          },
          "metadata": {
            "tags": []
          },
          "execution_count": 8
        }
      ]
    },
    {
      "cell_type": "code",
      "metadata": {
        "id": "l-Vxf8_0043k",
        "colab": {
          "base_uri": "https://localhost:8080/",
          "height": 313
        },
        "outputId": "1c8e3118-d824-4f69-95ed-21583b3c65f5"
      },
      "source": [
        "df.head()"
      ],
      "execution_count": null,
      "outputs": [
        {
          "output_type": "execute_result",
          "data": {
            "text/html": [
              "<div>\n",
              "<style scoped>\n",
              "    .dataframe tbody tr th:only-of-type {\n",
              "        vertical-align: middle;\n",
              "    }\n",
              "\n",
              "    .dataframe tbody tr th {\n",
              "        vertical-align: top;\n",
              "    }\n",
              "\n",
              "    .dataframe thead th {\n",
              "        text-align: right;\n",
              "    }\n",
              "</style>\n",
              "<table border=\"1\" class=\"dataframe\">\n",
              "  <thead>\n",
              "    <tr style=\"text-align: right;\">\n",
              "      <th></th>\n",
              "      <th>pickup_datetime</th>\n",
              "      <th>fare_amount</th>\n",
              "      <th>fare_class</th>\n",
              "      <th>pickup_longitude</th>\n",
              "      <th>pickup_latitude</th>\n",
              "      <th>dropoff_longitude</th>\n",
              "      <th>dropoff_latitude</th>\n",
              "      <th>passenger_count</th>\n",
              "      <th>distance_km</th>\n",
              "    </tr>\n",
              "  </thead>\n",
              "  <tbody>\n",
              "    <tr>\n",
              "      <th>0</th>\n",
              "      <td>2010-04-19 08:17:56 UTC</td>\n",
              "      <td>6.5</td>\n",
              "      <td>0</td>\n",
              "      <td>-73.992365</td>\n",
              "      <td>40.730521</td>\n",
              "      <td>-73.975499</td>\n",
              "      <td>40.744746</td>\n",
              "      <td>1</td>\n",
              "      <td>2.126312</td>\n",
              "    </tr>\n",
              "    <tr>\n",
              "      <th>1</th>\n",
              "      <td>2010-04-17 15:43:53 UTC</td>\n",
              "      <td>6.9</td>\n",
              "      <td>0</td>\n",
              "      <td>-73.990078</td>\n",
              "      <td>40.740558</td>\n",
              "      <td>-73.974232</td>\n",
              "      <td>40.744114</td>\n",
              "      <td>1</td>\n",
              "      <td>1.392307</td>\n",
              "    </tr>\n",
              "    <tr>\n",
              "      <th>2</th>\n",
              "      <td>2010-04-17 11:23:26 UTC</td>\n",
              "      <td>10.1</td>\n",
              "      <td>1</td>\n",
              "      <td>-73.994149</td>\n",
              "      <td>40.751118</td>\n",
              "      <td>-73.960064</td>\n",
              "      <td>40.766235</td>\n",
              "      <td>2</td>\n",
              "      <td>3.326763</td>\n",
              "    </tr>\n",
              "    <tr>\n",
              "      <th>3</th>\n",
              "      <td>2010-04-11 21:25:03 UTC</td>\n",
              "      <td>8.9</td>\n",
              "      <td>0</td>\n",
              "      <td>-73.990485</td>\n",
              "      <td>40.756422</td>\n",
              "      <td>-73.971205</td>\n",
              "      <td>40.748192</td>\n",
              "      <td>1</td>\n",
              "      <td>1.864129</td>\n",
              "    </tr>\n",
              "    <tr>\n",
              "      <th>4</th>\n",
              "      <td>2010-04-17 02:19:01 UTC</td>\n",
              "      <td>19.7</td>\n",
              "      <td>1</td>\n",
              "      <td>-73.990976</td>\n",
              "      <td>40.734202</td>\n",
              "      <td>-73.905956</td>\n",
              "      <td>40.743115</td>\n",
              "      <td>1</td>\n",
              "      <td>7.231321</td>\n",
              "    </tr>\n",
              "  </tbody>\n",
              "</table>\n",
              "</div>"
            ],
            "text/plain": [
              "           pickup_datetime  fare_amount  ...  passenger_count  distance_km\n",
              "0  2010-04-19 08:17:56 UTC          6.5  ...                1     2.126312\n",
              "1  2010-04-17 15:43:53 UTC          6.9  ...                1     1.392307\n",
              "2  2010-04-17 11:23:26 UTC         10.1  ...                2     3.326763\n",
              "3  2010-04-11 21:25:03 UTC          8.9  ...                1     1.864129\n",
              "4  2010-04-17 02:19:01 UTC         19.7  ...                1     7.231321\n",
              "\n",
              "[5 rows x 9 columns]"
            ]
          },
          "metadata": {
            "tags": []
          },
          "execution_count": 9
        }
      ]
    },
    {
      "cell_type": "code",
      "metadata": {
        "id": "n9eqQ5rL043q",
        "colab": {
          "base_uri": "https://localhost:8080/",
          "height": 295
        },
        "outputId": "433b24ac-29fd-4918-b5a2-f1b0da2ee272"
      },
      "source": [
        "df.info()"
      ],
      "execution_count": null,
      "outputs": [
        {
          "output_type": "stream",
          "text": [
            "<class 'pandas.core.frame.DataFrame'>\n",
            "RangeIndex: 120000 entries, 0 to 119999\n",
            "Data columns (total 9 columns):\n",
            " #   Column             Non-Null Count   Dtype  \n",
            "---  ------             --------------   -----  \n",
            " 0   pickup_datetime    120000 non-null  object \n",
            " 1   fare_amount        120000 non-null  float64\n",
            " 2   fare_class         120000 non-null  int64  \n",
            " 3   pickup_longitude   120000 non-null  float64\n",
            " 4   pickup_latitude    120000 non-null  float64\n",
            " 5   dropoff_longitude  120000 non-null  float64\n",
            " 6   dropoff_latitude   120000 non-null  float64\n",
            " 7   passenger_count    120000 non-null  int64  \n",
            " 8   distance_km        120000 non-null  float64\n",
            "dtypes: float64(6), int64(2), object(1)\n",
            "memory usage: 8.2+ MB\n"
          ],
          "name": "stdout"
        }
      ]
    },
    {
      "cell_type": "markdown",
      "metadata": {
        "id": "uvFmkwkA043z"
      },
      "source": [
        "### Converting the pickup_datetime object column into date_time column"
      ]
    },
    {
      "cell_type": "code",
      "metadata": {
        "id": "iNL9qDVh0431"
      },
      "source": [
        "df['pickup_datetime'] = pd.to_datetime(df['pickup_datetime'])"
      ],
      "execution_count": null,
      "outputs": []
    },
    {
      "cell_type": "code",
      "metadata": {
        "id": "Ud8qD7940438",
        "colab": {
          "base_uri": "https://localhost:8080/",
          "height": 295
        },
        "outputId": "7728dbb6-53c0-451a-c158-187e09ae0a60"
      },
      "source": [
        "df.info()"
      ],
      "execution_count": null,
      "outputs": [
        {
          "output_type": "stream",
          "text": [
            "<class 'pandas.core.frame.DataFrame'>\n",
            "RangeIndex: 120000 entries, 0 to 119999\n",
            "Data columns (total 9 columns):\n",
            " #   Column             Non-Null Count   Dtype              \n",
            "---  ------             --------------   -----              \n",
            " 0   pickup_datetime    120000 non-null  datetime64[ns, UTC]\n",
            " 1   fare_amount        120000 non-null  float64            \n",
            " 2   fare_class         120000 non-null  int64              \n",
            " 3   pickup_longitude   120000 non-null  float64            \n",
            " 4   pickup_latitude    120000 non-null  float64            \n",
            " 5   dropoff_longitude  120000 non-null  float64            \n",
            " 6   dropoff_latitude   120000 non-null  float64            \n",
            " 7   passenger_count    120000 non-null  int64              \n",
            " 8   distance_km        120000 non-null  float64            \n",
            "dtypes: datetime64[ns, UTC](1), float64(6), int64(2)\n",
            "memory usage: 8.2 MB\n"
          ],
          "name": "stdout"
        }
      ]
    },
    {
      "cell_type": "code",
      "metadata": {
        "id": "3D7Xr7y0044I",
        "colab": {
          "base_uri": "https://localhost:8080/",
          "height": 313
        },
        "outputId": "71d070d9-087b-4f3d-9303-6f2191e64490"
      },
      "source": [
        "df.head()"
      ],
      "execution_count": null,
      "outputs": [
        {
          "output_type": "execute_result",
          "data": {
            "text/html": [
              "<div>\n",
              "<style scoped>\n",
              "    .dataframe tbody tr th:only-of-type {\n",
              "        vertical-align: middle;\n",
              "    }\n",
              "\n",
              "    .dataframe tbody tr th {\n",
              "        vertical-align: top;\n",
              "    }\n",
              "\n",
              "    .dataframe thead th {\n",
              "        text-align: right;\n",
              "    }\n",
              "</style>\n",
              "<table border=\"1\" class=\"dataframe\">\n",
              "  <thead>\n",
              "    <tr style=\"text-align: right;\">\n",
              "      <th></th>\n",
              "      <th>pickup_datetime</th>\n",
              "      <th>fare_amount</th>\n",
              "      <th>fare_class</th>\n",
              "      <th>pickup_longitude</th>\n",
              "      <th>pickup_latitude</th>\n",
              "      <th>dropoff_longitude</th>\n",
              "      <th>dropoff_latitude</th>\n",
              "      <th>passenger_count</th>\n",
              "      <th>distance_km</th>\n",
              "    </tr>\n",
              "  </thead>\n",
              "  <tbody>\n",
              "    <tr>\n",
              "      <th>0</th>\n",
              "      <td>2010-04-19 08:17:56+00:00</td>\n",
              "      <td>6.5</td>\n",
              "      <td>0</td>\n",
              "      <td>-73.992365</td>\n",
              "      <td>40.730521</td>\n",
              "      <td>-73.975499</td>\n",
              "      <td>40.744746</td>\n",
              "      <td>1</td>\n",
              "      <td>2.126312</td>\n",
              "    </tr>\n",
              "    <tr>\n",
              "      <th>1</th>\n",
              "      <td>2010-04-17 15:43:53+00:00</td>\n",
              "      <td>6.9</td>\n",
              "      <td>0</td>\n",
              "      <td>-73.990078</td>\n",
              "      <td>40.740558</td>\n",
              "      <td>-73.974232</td>\n",
              "      <td>40.744114</td>\n",
              "      <td>1</td>\n",
              "      <td>1.392307</td>\n",
              "    </tr>\n",
              "    <tr>\n",
              "      <th>2</th>\n",
              "      <td>2010-04-17 11:23:26+00:00</td>\n",
              "      <td>10.1</td>\n",
              "      <td>1</td>\n",
              "      <td>-73.994149</td>\n",
              "      <td>40.751118</td>\n",
              "      <td>-73.960064</td>\n",
              "      <td>40.766235</td>\n",
              "      <td>2</td>\n",
              "      <td>3.326763</td>\n",
              "    </tr>\n",
              "    <tr>\n",
              "      <th>3</th>\n",
              "      <td>2010-04-11 21:25:03+00:00</td>\n",
              "      <td>8.9</td>\n",
              "      <td>0</td>\n",
              "      <td>-73.990485</td>\n",
              "      <td>40.756422</td>\n",
              "      <td>-73.971205</td>\n",
              "      <td>40.748192</td>\n",
              "      <td>1</td>\n",
              "      <td>1.864129</td>\n",
              "    </tr>\n",
              "    <tr>\n",
              "      <th>4</th>\n",
              "      <td>2010-04-17 02:19:01+00:00</td>\n",
              "      <td>19.7</td>\n",
              "      <td>1</td>\n",
              "      <td>-73.990976</td>\n",
              "      <td>40.734202</td>\n",
              "      <td>-73.905956</td>\n",
              "      <td>40.743115</td>\n",
              "      <td>1</td>\n",
              "      <td>7.231321</td>\n",
              "    </tr>\n",
              "  </tbody>\n",
              "</table>\n",
              "</div>"
            ],
            "text/plain": [
              "            pickup_datetime  fare_amount  ...  passenger_count  distance_km\n",
              "0 2010-04-19 08:17:56+00:00          6.5  ...                1     2.126312\n",
              "1 2010-04-17 15:43:53+00:00          6.9  ...                1     1.392307\n",
              "2 2010-04-17 11:23:26+00:00         10.1  ...                2     3.326763\n",
              "3 2010-04-11 21:25:03+00:00          8.9  ...                1     1.864129\n",
              "4 2010-04-17 02:19:01+00:00         19.7  ...                1     7.231321\n",
              "\n",
              "[5 rows x 9 columns]"
            ]
          },
          "metadata": {
            "tags": []
          },
          "execution_count": 13
        }
      ]
    },
    {
      "cell_type": "code",
      "metadata": {
        "id": "wgdd6gq4044T"
      },
      "source": [
        "## Adjusting 4 hours difference than the actual time\n",
        "\n",
        "df['edtdate'] = pd.to_datetime(df['pickup_datetime']) - pd.Timedelta(hours=4)"
      ],
      "execution_count": null,
      "outputs": []
    },
    {
      "cell_type": "code",
      "metadata": {
        "id": "tUbQ6yHn044b",
        "colab": {
          "base_uri": "https://localhost:8080/",
          "height": 313
        },
        "outputId": "0adb0855-02bf-41c8-a5bd-b6ec8535e015"
      },
      "source": [
        "df.head()"
      ],
      "execution_count": null,
      "outputs": [
        {
          "output_type": "execute_result",
          "data": {
            "text/html": [
              "<div>\n",
              "<style scoped>\n",
              "    .dataframe tbody tr th:only-of-type {\n",
              "        vertical-align: middle;\n",
              "    }\n",
              "\n",
              "    .dataframe tbody tr th {\n",
              "        vertical-align: top;\n",
              "    }\n",
              "\n",
              "    .dataframe thead th {\n",
              "        text-align: right;\n",
              "    }\n",
              "</style>\n",
              "<table border=\"1\" class=\"dataframe\">\n",
              "  <thead>\n",
              "    <tr style=\"text-align: right;\">\n",
              "      <th></th>\n",
              "      <th>pickup_datetime</th>\n",
              "      <th>fare_amount</th>\n",
              "      <th>fare_class</th>\n",
              "      <th>pickup_longitude</th>\n",
              "      <th>pickup_latitude</th>\n",
              "      <th>dropoff_longitude</th>\n",
              "      <th>dropoff_latitude</th>\n",
              "      <th>passenger_count</th>\n",
              "      <th>distance_km</th>\n",
              "      <th>edtdate</th>\n",
              "    </tr>\n",
              "  </thead>\n",
              "  <tbody>\n",
              "    <tr>\n",
              "      <th>0</th>\n",
              "      <td>2010-04-19 08:17:56+00:00</td>\n",
              "      <td>6.5</td>\n",
              "      <td>0</td>\n",
              "      <td>-73.992365</td>\n",
              "      <td>40.730521</td>\n",
              "      <td>-73.975499</td>\n",
              "      <td>40.744746</td>\n",
              "      <td>1</td>\n",
              "      <td>2.126312</td>\n",
              "      <td>2010-04-19 04:17:56+00:00</td>\n",
              "    </tr>\n",
              "    <tr>\n",
              "      <th>1</th>\n",
              "      <td>2010-04-17 15:43:53+00:00</td>\n",
              "      <td>6.9</td>\n",
              "      <td>0</td>\n",
              "      <td>-73.990078</td>\n",
              "      <td>40.740558</td>\n",
              "      <td>-73.974232</td>\n",
              "      <td>40.744114</td>\n",
              "      <td>1</td>\n",
              "      <td>1.392307</td>\n",
              "      <td>2010-04-17 11:43:53+00:00</td>\n",
              "    </tr>\n",
              "    <tr>\n",
              "      <th>2</th>\n",
              "      <td>2010-04-17 11:23:26+00:00</td>\n",
              "      <td>10.1</td>\n",
              "      <td>1</td>\n",
              "      <td>-73.994149</td>\n",
              "      <td>40.751118</td>\n",
              "      <td>-73.960064</td>\n",
              "      <td>40.766235</td>\n",
              "      <td>2</td>\n",
              "      <td>3.326763</td>\n",
              "      <td>2010-04-17 07:23:26+00:00</td>\n",
              "    </tr>\n",
              "    <tr>\n",
              "      <th>3</th>\n",
              "      <td>2010-04-11 21:25:03+00:00</td>\n",
              "      <td>8.9</td>\n",
              "      <td>0</td>\n",
              "      <td>-73.990485</td>\n",
              "      <td>40.756422</td>\n",
              "      <td>-73.971205</td>\n",
              "      <td>40.748192</td>\n",
              "      <td>1</td>\n",
              "      <td>1.864129</td>\n",
              "      <td>2010-04-11 17:25:03+00:00</td>\n",
              "    </tr>\n",
              "    <tr>\n",
              "      <th>4</th>\n",
              "      <td>2010-04-17 02:19:01+00:00</td>\n",
              "      <td>19.7</td>\n",
              "      <td>1</td>\n",
              "      <td>-73.990976</td>\n",
              "      <td>40.734202</td>\n",
              "      <td>-73.905956</td>\n",
              "      <td>40.743115</td>\n",
              "      <td>1</td>\n",
              "      <td>7.231321</td>\n",
              "      <td>2010-04-16 22:19:01+00:00</td>\n",
              "    </tr>\n",
              "  </tbody>\n",
              "</table>\n",
              "</div>"
            ],
            "text/plain": [
              "            pickup_datetime  fare_amount  ...  distance_km                   edtdate\n",
              "0 2010-04-19 08:17:56+00:00          6.5  ...     2.126312 2010-04-19 04:17:56+00:00\n",
              "1 2010-04-17 15:43:53+00:00          6.9  ...     1.392307 2010-04-17 11:43:53+00:00\n",
              "2 2010-04-17 11:23:26+00:00         10.1  ...     3.326763 2010-04-17 07:23:26+00:00\n",
              "3 2010-04-11 21:25:03+00:00          8.9  ...     1.864129 2010-04-11 17:25:03+00:00\n",
              "4 2010-04-17 02:19:01+00:00         19.7  ...     7.231321 2010-04-16 22:19:01+00:00\n",
              "\n",
              "[5 rows x 10 columns]"
            ]
          },
          "metadata": {
            "tags": []
          },
          "execution_count": 16
        }
      ]
    },
    {
      "cell_type": "code",
      "metadata": {
        "id": "pYAJHOog044h"
      },
      "source": [
        "df['Hour'] = df['edtdate'].dt.hour"
      ],
      "execution_count": null,
      "outputs": []
    },
    {
      "cell_type": "code",
      "metadata": {
        "id": "ojpZYfJx044p"
      },
      "source": [
        "df['am_or_pm'] = np.where(df['Hour']<12, 'am', 'pm')"
      ],
      "execution_count": null,
      "outputs": []
    },
    {
      "cell_type": "code",
      "metadata": {
        "id": "CRA70D8x044u"
      },
      "source": [
        "df['weekday'] = df['edtdate'].dt.strftime(\"%a\")"
      ],
      "execution_count": null,
      "outputs": []
    },
    {
      "cell_type": "code",
      "metadata": {
        "id": "Y88Pc5fj0444",
        "colab": {
          "base_uri": "https://localhost:8080/",
          "height": 104
        },
        "outputId": "a8845d5a-a584-4c56-f2b5-8e7a29aaa3d6"
      },
      "source": [
        "df.columns"
      ],
      "execution_count": null,
      "outputs": [
        {
          "output_type": "execute_result",
          "data": {
            "text/plain": [
              "Index(['pickup_datetime', 'fare_amount', 'fare_class', 'pickup_longitude',\n",
              "       'pickup_latitude', 'dropoff_longitude', 'dropoff_latitude',\n",
              "       'passenger_count', 'distance_km', 'edtdate', 'Hour', 'am_or_pm',\n",
              "       'weekday'],\n",
              "      dtype='object')"
            ]
          },
          "metadata": {
            "tags": []
          },
          "execution_count": 20
        }
      ]
    },
    {
      "cell_type": "code",
      "metadata": {
        "id": "z68gX6bY0448"
      },
      "source": [
        "cat_cols = ['Hour', 'am_or_pm', 'weekday']\n",
        "cont_cols = ['pickup_longitude',\n",
        "       'pickup_latitude', 'dropoff_longitude', 'dropoff_latitude',\n",
        "       'passenger_count', 'distance_km']"
      ],
      "execution_count": null,
      "outputs": []
    },
    {
      "cell_type": "code",
      "metadata": {
        "id": "QfRrrV1F045B"
      },
      "source": [
        "y_col = ['fare_class']"
      ],
      "execution_count": null,
      "outputs": []
    },
    {
      "cell_type": "code",
      "metadata": {
        "id": "tDjo785r045K"
      },
      "source": [
        "for cat in cat_cols:\n",
        "    df[cat] = df[cat].astype('category')"
      ],
      "execution_count": null,
      "outputs": []
    },
    {
      "cell_type": "code",
      "metadata": {
        "id": "g53GDkBa045O",
        "colab": {
          "base_uri": "https://localhost:8080/",
          "height": 260
        },
        "outputId": "2f613e8b-20e7-48d2-c7c1-498c3b92f450"
      },
      "source": [
        "df.dtypes"
      ],
      "execution_count": null,
      "outputs": [
        {
          "output_type": "execute_result",
          "data": {
            "text/plain": [
              "pickup_datetime      datetime64[ns, UTC]\n",
              "fare_amount                      float64\n",
              "fare_class                         int64\n",
              "pickup_longitude                 float64\n",
              "pickup_latitude                  float64\n",
              "dropoff_longitude                float64\n",
              "dropoff_latitude                 float64\n",
              "passenger_count                    int64\n",
              "distance_km                      float64\n",
              "edtdate              datetime64[ns, UTC]\n",
              "Hour                            category\n",
              "am_or_pm                        category\n",
              "weekday                         category\n",
              "dtype: object"
            ]
          },
          "metadata": {
            "tags": []
          },
          "execution_count": 24
        }
      ]
    },
    {
      "cell_type": "code",
      "metadata": {
        "id": "6wvCY9vY045b",
        "colab": {
          "base_uri": "https://localhost:8080/",
          "height": 139
        },
        "outputId": "153d2666-2fe5-476e-b77f-6059c1600030"
      },
      "source": [
        "df.Hour.head()"
      ],
      "execution_count": null,
      "outputs": [
        {
          "output_type": "execute_result",
          "data": {
            "text/plain": [
              "0     4\n",
              "1    11\n",
              "2     7\n",
              "3    17\n",
              "4    22\n",
              "Name: Hour, dtype: category\n",
              "Categories (24, int64): [0, 1, 2, 3, ..., 20, 21, 22, 23]"
            ]
          },
          "metadata": {
            "tags": []
          },
          "execution_count": 25
        }
      ]
    },
    {
      "cell_type": "code",
      "metadata": {
        "id": "EdBSAU7h045j"
      },
      "source": [
        "hr = df['Hour'].cat.codes.values\n",
        "am_pm = df['am_or_pm'].cat.codes.values\n",
        "wkdy = df['weekday'].cat.codes.values"
      ],
      "execution_count": null,
      "outputs": []
    },
    {
      "cell_type": "code",
      "metadata": {
        "id": "HzK-84nA045w",
        "colab": {
          "base_uri": "https://localhost:8080/",
          "height": 34
        },
        "outputId": "b03cad3a-720d-4a25-e069-3955ebcc22f0"
      },
      "source": [
        "hr"
      ],
      "execution_count": null,
      "outputs": [
        {
          "output_type": "execute_result",
          "data": {
            "text/plain": [
              "array([ 4, 11,  7, ..., 14,  4, 12], dtype=int8)"
            ]
          },
          "metadata": {
            "tags": []
          },
          "execution_count": 27
        }
      ]
    },
    {
      "cell_type": "code",
      "metadata": {
        "id": "cezFY-jF0459",
        "colab": {
          "base_uri": "https://localhost:8080/",
          "height": 139
        },
        "outputId": "e82adb8c-1d71-49d9-cc58-9858171bef50"
      },
      "source": [
        "cats = np.stack([hr,am_pm,wkdy], axis=1)\n",
        "cats"
      ],
      "execution_count": null,
      "outputs": [
        {
          "output_type": "execute_result",
          "data": {
            "text/plain": [
              "array([[ 4,  0,  1],\n",
              "       [11,  0,  2],\n",
              "       [ 7,  0,  2],\n",
              "       ...,\n",
              "       [14,  1,  3],\n",
              "       [ 4,  0,  5],\n",
              "       [12,  1,  2]], dtype=int8)"
            ]
          },
          "metadata": {
            "tags": []
          },
          "execution_count": 28
        }
      ]
    },
    {
      "cell_type": "code",
      "metadata": {
        "id": "ajssuSqr046N"
      },
      "source": [
        "cats = torch.tensor(cats, dtype=torch.int64)"
      ],
      "execution_count": null,
      "outputs": []
    },
    {
      "cell_type": "code",
      "metadata": {
        "id": "wFNviR8l046V"
      },
      "source": [
        "### Stacking the continous columns\n",
        "\n",
        "conts = np.stack([df[col].values for col in cont_cols], axis=1)"
      ],
      "execution_count": null,
      "outputs": []
    },
    {
      "cell_type": "code",
      "metadata": {
        "id": "N6Eb905o046c",
        "colab": {
          "base_uri": "https://localhost:8080/",
          "height": 243
        },
        "outputId": "9fe66886-08b0-4df9-f302-ee0d30f05ff4"
      },
      "source": [
        "conts"
      ],
      "execution_count": null,
      "outputs": [
        {
          "output_type": "execute_result",
          "data": {
            "text/plain": [
              "array([[-73.992365  ,  40.730521  , -73.975499  ,  40.744746  ,\n",
              "          1.        ,   2.12631159],\n",
              "       [-73.990078  ,  40.740558  , -73.974232  ,  40.744114  ,\n",
              "          1.        ,   1.39230687],\n",
              "       [-73.994149  ,  40.751118  , -73.960064  ,  40.766235  ,\n",
              "          2.        ,   3.32676344],\n",
              "       ...,\n",
              "       [-73.988574  ,  40.749772  , -74.011541  ,  40.707799  ,\n",
              "          3.        ,   5.05252282],\n",
              "       [-74.004449  ,  40.724529  , -73.992697  ,  40.730765  ,\n",
              "          1.        ,   1.20892296],\n",
              "       [-73.955415  ,  40.77192   , -73.967623  ,  40.763015  ,\n",
              "          3.        ,   1.42739869]])"
            ]
          },
          "metadata": {
            "tags": []
          },
          "execution_count": 31
        }
      ]
    },
    {
      "cell_type": "code",
      "metadata": {
        "id": "0WYFUEtN046f",
        "colab": {
          "base_uri": "https://localhost:8080/",
          "height": 139
        },
        "outputId": "28a6ecc5-bc39-4104-ff1d-6bbe1ce82ad4"
      },
      "source": [
        "### Converting it into tensors\n",
        "\n",
        "conts = torch.tensor(conts, dtype=torch.float)\n",
        "conts"
      ],
      "execution_count": null,
      "outputs": [
        {
          "output_type": "execute_result",
          "data": {
            "text/plain": [
              "tensor([[-73.9924,  40.7305, -73.9755,  40.7447,   1.0000,   2.1263],\n",
              "        [-73.9901,  40.7406, -73.9742,  40.7441,   1.0000,   1.3923],\n",
              "        [-73.9941,  40.7511, -73.9601,  40.7662,   2.0000,   3.3268],\n",
              "        ...,\n",
              "        [-73.9886,  40.7498, -74.0115,  40.7078,   3.0000,   5.0525],\n",
              "        [-74.0044,  40.7245, -73.9927,  40.7308,   1.0000,   1.2089],\n",
              "        [-73.9554,  40.7719, -73.9676,  40.7630,   3.0000,   1.4274]])"
            ]
          },
          "metadata": {
            "tags": []
          },
          "execution_count": 32
        }
      ]
    },
    {
      "cell_type": "code",
      "metadata": {
        "id": "HEhFIwl6046j"
      },
      "source": [
        "### Converting the label column into tensor\n",
        "\n",
        "y = torch.tensor(df[y_col].values).flatten()"
      ],
      "execution_count": null,
      "outputs": []
    },
    {
      "cell_type": "code",
      "metadata": {
        "scrolled": true,
        "id": "QM56skqD046m",
        "colab": {
          "base_uri": "https://localhost:8080/",
          "height": 34
        },
        "outputId": "9ffaa790-88e1-464d-9360-808650378dd4"
      },
      "source": [
        "conts.shape"
      ],
      "execution_count": null,
      "outputs": [
        {
          "output_type": "execute_result",
          "data": {
            "text/plain": [
              "torch.Size([120000, 6])"
            ]
          },
          "metadata": {
            "tags": []
          },
          "execution_count": 34
        }
      ]
    },
    {
      "cell_type": "code",
      "metadata": {
        "id": "TtNVvdKl046q",
        "colab": {
          "base_uri": "https://localhost:8080/",
          "height": 34
        },
        "outputId": "cfe4adfd-e3bd-429b-cfb3-90d1c16e7ff0"
      },
      "source": [
        "y.shape"
      ],
      "execution_count": null,
      "outputs": [
        {
          "output_type": "execute_result",
          "data": {
            "text/plain": [
              "torch.Size([120000])"
            ]
          },
          "metadata": {
            "tags": []
          },
          "execution_count": 35
        }
      ]
    },
    {
      "cell_type": "code",
      "metadata": {
        "id": "hUs_eNeA0461",
        "colab": {
          "base_uri": "https://localhost:8080/",
          "height": 34
        },
        "outputId": "8b4c0e37-b280-4715-ab8a-1c8d8c6763b4"
      },
      "source": [
        "### Defining embedding sizes\n",
        "\n",
        "cat_sizes = [len(df[col].cat.categories) for col in cat_cols]\n",
        "cat_sizes"
      ],
      "execution_count": null,
      "outputs": [
        {
          "output_type": "execute_result",
          "data": {
            "text/plain": [
              "[24, 2, 7]"
            ]
          },
          "metadata": {
            "tags": []
          },
          "execution_count": 36
        }
      ]
    },
    {
      "cell_type": "markdown",
      "metadata": {
        "id": "_UQUpgEE0469"
      },
      "source": [
        "* 24 - 24 hours in a day\n",
        "* 2 - am or pm\n",
        "* 7 - 7 days a week"
      ]
    },
    {
      "cell_type": "code",
      "metadata": {
        "id": "9y5YXA3y046_",
        "colab": {
          "base_uri": "https://localhost:8080/",
          "height": 34
        },
        "outputId": "af13e663-22b0-488f-e61b-e56a6d8e305e"
      },
      "source": [
        "emb_sizes = [(size, min(50,(size+1)//2)) for size in cat_sizes]\n",
        "emb_sizes"
      ],
      "execution_count": null,
      "outputs": [
        {
          "output_type": "execute_result",
          "data": {
            "text/plain": [
              "[(24, 12), (2, 1), (7, 4)]"
            ]
          },
          "metadata": {
            "tags": []
          },
          "execution_count": 37
        }
      ]
    },
    {
      "cell_type": "code",
      "metadata": {
        "id": "QBgem3ya047H",
        "colab": {
          "base_uri": "https://localhost:8080/",
          "height": 104
        },
        "outputId": "e29f7b25-b7f5-4ab5-edee-20b26c93b016"
      },
      "source": [
        "### Creating the embedding layer\n",
        "\n",
        "selfembeds = nn.ModuleList([nn.Embedding(ni, nf) for ni,nf in emb_sizes])\n",
        "selfembeds"
      ],
      "execution_count": null,
      "outputs": [
        {
          "output_type": "execute_result",
          "data": {
            "text/plain": [
              "ModuleList(\n",
              "  (0): Embedding(24, 12)\n",
              "  (1): Embedding(2, 1)\n",
              "  (2): Embedding(7, 4)\n",
              ")"
            ]
          },
          "metadata": {
            "tags": []
          },
          "execution_count": 38
        }
      ]
    },
    {
      "cell_type": "code",
      "metadata": {
        "id": "_PF9jFXU047N"
      },
      "source": [
        "class TabularModel(nn.Module):\n",
        "    \n",
        "    def __init__(self, emb_sizes, n_cont, out_szs, layers, p=0.4):\n",
        "        super().__init__()\n",
        "        \n",
        "        self.embeds = nn.ModuleList([nn.Embedding(ni, nf) for ni,nf in emb_sizes])\n",
        "        self.emb_drop = nn.Dropout(p)\n",
        "        self.bn_cont = nn.BatchNorm1d(n_cont)\n",
        "        \n",
        "        layer_list = []\n",
        "        n_emb = sum([nf for ni,nf in emb_sizes])\n",
        "        n_in = n_emb + n_cont\n",
        "        \n",
        "        for i in layers:\n",
        "            layer_list.append(nn.Linear(n_in, i))\n",
        "            layer_list.append(nn.ReLU(inplace=True))\n",
        "            layer_list.append(nn.BatchNorm1d(i))\n",
        "            layer_list.append(nn.Dropout(p))\n",
        "            n_in = i\n",
        "            \n",
        "        layer_list.append(nn.Linear(layers[-1], out_szs))\n",
        "        \n",
        "        self.layers = nn.Sequential(*layer_list)\n",
        "        \n",
        "    def forward(self, x_cat, x_cont):\n",
        "        embeddings = []\n",
        "        \n",
        "        for i,e in enumerate(self.embeds):\n",
        "            embeddings.append(e(x_cat[:,i]))\n",
        "            \n",
        "        x = torch.cat(embeddings, 1)\n",
        "        x = self.emb_drop(x)\n",
        "        \n",
        "        x_cont = self.bn_cont(x_cont)\n",
        "        x = torch.cat([x,x_cont], 1)\n",
        "        x = self.layers(x)\n",
        "        \n",
        "        return x"
      ],
      "execution_count": null,
      "outputs": []
    },
    {
      "cell_type": "code",
      "metadata": {
        "id": "ieCTz1MB047R"
      },
      "source": [
        "torch.manual_seed(33)\n",
        "model = TabularModel(emb_sizes, conts.shape[1], 2,[512,256,128,64,32,16,8,4], p=0.4)"
      ],
      "execution_count": null,
      "outputs": []
    },
    {
      "cell_type": "code",
      "metadata": {
        "id": "SAaUgWit047S",
        "colab": {
          "base_uri": "https://localhost:8080/",
          "height": 781
        },
        "outputId": "8287bfbf-283d-40fa-df48-8b1d1b463683"
      },
      "source": [
        "model"
      ],
      "execution_count": null,
      "outputs": [
        {
          "output_type": "execute_result",
          "data": {
            "text/plain": [
              "TabularModel(\n",
              "  (embeds): ModuleList(\n",
              "    (0): Embedding(24, 12)\n",
              "    (1): Embedding(2, 1)\n",
              "    (2): Embedding(7, 4)\n",
              "  )\n",
              "  (emb_drop): Dropout(p=0.4, inplace=False)\n",
              "  (bn_cont): BatchNorm1d(6, eps=1e-05, momentum=0.1, affine=True, track_running_stats=True)\n",
              "  (layers): Sequential(\n",
              "    (0): Linear(in_features=23, out_features=512, bias=True)\n",
              "    (1): ReLU(inplace=True)\n",
              "    (2): BatchNorm1d(512, eps=1e-05, momentum=0.1, affine=True, track_running_stats=True)\n",
              "    (3): Dropout(p=0.4, inplace=False)\n",
              "    (4): Linear(in_features=512, out_features=256, bias=True)\n",
              "    (5): ReLU(inplace=True)\n",
              "    (6): BatchNorm1d(256, eps=1e-05, momentum=0.1, affine=True, track_running_stats=True)\n",
              "    (7): Dropout(p=0.4, inplace=False)\n",
              "    (8): Linear(in_features=256, out_features=128, bias=True)\n",
              "    (9): ReLU(inplace=True)\n",
              "    (10): BatchNorm1d(128, eps=1e-05, momentum=0.1, affine=True, track_running_stats=True)\n",
              "    (11): Dropout(p=0.4, inplace=False)\n",
              "    (12): Linear(in_features=128, out_features=64, bias=True)\n",
              "    (13): ReLU(inplace=True)\n",
              "    (14): BatchNorm1d(64, eps=1e-05, momentum=0.1, affine=True, track_running_stats=True)\n",
              "    (15): Dropout(p=0.4, inplace=False)\n",
              "    (16): Linear(in_features=64, out_features=32, bias=True)\n",
              "    (17): ReLU(inplace=True)\n",
              "    (18): BatchNorm1d(32, eps=1e-05, momentum=0.1, affine=True, track_running_stats=True)\n",
              "    (19): Dropout(p=0.4, inplace=False)\n",
              "    (20): Linear(in_features=32, out_features=16, bias=True)\n",
              "    (21): ReLU(inplace=True)\n",
              "    (22): BatchNorm1d(16, eps=1e-05, momentum=0.1, affine=True, track_running_stats=True)\n",
              "    (23): Dropout(p=0.4, inplace=False)\n",
              "    (24): Linear(in_features=16, out_features=8, bias=True)\n",
              "    (25): ReLU(inplace=True)\n",
              "    (26): BatchNorm1d(8, eps=1e-05, momentum=0.1, affine=True, track_running_stats=True)\n",
              "    (27): Dropout(p=0.4, inplace=False)\n",
              "    (28): Linear(in_features=8, out_features=4, bias=True)\n",
              "    (29): ReLU(inplace=True)\n",
              "    (30): BatchNorm1d(4, eps=1e-05, momentum=0.1, affine=True, track_running_stats=True)\n",
              "    (31): Dropout(p=0.4, inplace=False)\n",
              "    (32): Linear(in_features=4, out_features=2, bias=True)\n",
              "  )\n",
              ")"
            ]
          },
          "metadata": {
            "tags": []
          },
          "execution_count": 41
        }
      ]
    },
    {
      "cell_type": "code",
      "metadata": {
        "id": "iiTMnztb047X"
      },
      "source": [
        "criterion = nn.CrossEntropyLoss()\n",
        "optimizer = torch.optim.Adam(model.parameters(), lr=0.01)"
      ],
      "execution_count": null,
      "outputs": []
    },
    {
      "cell_type": "code",
      "metadata": {
        "id": "KrJhUk9s047e"
      },
      "source": [
        "batch_size = 60000\n",
        "test_size = 12000\n",
        "\n",
        "cat_train = cats[:batch_size-test_size]\n",
        "cat_test = cats[batch_size-test_size:batch_size]\n",
        "con_train = conts[:batch_size-test_size]\n",
        "con_test = conts[batch_size-test_size:batch_size]\n",
        "y_train = y[:batch_size-test_size]\n",
        "y_test = y[batch_size-test_size:batch_size]"
      ],
      "execution_count": null,
      "outputs": []
    },
    {
      "cell_type": "code",
      "metadata": {
        "id": "pgwr2ov6047m",
        "colab": {
          "base_uri": "https://localhost:8080/",
          "height": 34
        },
        "outputId": "f7e9d63c-23c1-4986-a8bc-cc480de156d4"
      },
      "source": [
        "len(cat_train)"
      ],
      "execution_count": null,
      "outputs": [
        {
          "output_type": "execute_result",
          "data": {
            "text/plain": [
              "48000"
            ]
          },
          "metadata": {
            "tags": []
          },
          "execution_count": 44
        }
      ]
    },
    {
      "cell_type": "code",
      "metadata": {
        "id": "y59q6piX047r",
        "colab": {
          "base_uri": "https://localhost:8080/",
          "height": 34
        },
        "outputId": "d76b2fa3-89f0-42cc-de46-23a92f7adc22"
      },
      "source": [
        "len(con_train)"
      ],
      "execution_count": null,
      "outputs": [
        {
          "output_type": "execute_result",
          "data": {
            "text/plain": [
              "48000"
            ]
          },
          "metadata": {
            "tags": []
          },
          "execution_count": 45
        }
      ]
    },
    {
      "cell_type": "code",
      "metadata": {
        "id": "1r3Bt_x4047z",
        "colab": {
          "base_uri": "https://localhost:8080/",
          "height": 1000
        },
        "outputId": "ac5025dc-f8db-4ceb-dc78-95088622543d"
      },
      "source": [
        "import time\n",
        "\n",
        "start_time = time.time()\n",
        "\n",
        "final_losses = []\n",
        "\n",
        "for epochs in range(500):\n",
        "    optimizer.zero_grad()\n",
        "    y_pred = model(cat_train, con_train)\n",
        "    loss = criterion(y_pred, y_train)\n",
        "    final_losses.append(loss)\n",
        "    loss.backward()\n",
        "    optimizer.step()\n",
        "    print(f\"Epoch {epochs+1}, loss: {loss.item()}\")\n",
        "    \n",
        "duration = time.time() - start_time\n",
        "print(f\"Training took {duration/60} minutes\")"
      ],
      "execution_count": null,
      "outputs": [
        {
          "output_type": "stream",
          "text": [
            "Epoch 1, loss: 0.786492109298706\n",
            "Epoch 2, loss: 0.7599474191665649\n",
            "Epoch 3, loss: 0.7431825399398804\n",
            "Epoch 4, loss: 0.7289867997169495\n",
            "Epoch 5, loss: 0.7162765264511108\n",
            "Epoch 6, loss: 0.7018154263496399\n",
            "Epoch 7, loss: 0.6857132315635681\n",
            "Epoch 8, loss: 0.6677822470664978\n",
            "Epoch 9, loss: 0.6478736400604248\n",
            "Epoch 10, loss: 0.629460871219635\n",
            "Epoch 11, loss: 0.6097440123558044\n",
            "Epoch 12, loss: 0.5911988019943237\n",
            "Epoch 13, loss: 0.5713203549385071\n",
            "Epoch 14, loss: 0.5539056658744812\n",
            "Epoch 15, loss: 0.535883367061615\n",
            "Epoch 16, loss: 0.5182732939720154\n",
            "Epoch 17, loss: 0.5004512071609497\n",
            "Epoch 18, loss: 0.48439812660217285\n",
            "Epoch 19, loss: 0.47056108713150024\n",
            "Epoch 20, loss: 0.45794230699539185\n",
            "Epoch 21, loss: 0.4468759000301361\n",
            "Epoch 22, loss: 0.433726966381073\n",
            "Epoch 23, loss: 0.422888845205307\n",
            "Epoch 24, loss: 0.4141196012496948\n",
            "Epoch 25, loss: 0.4077257812023163\n",
            "Epoch 26, loss: 0.3997918665409088\n",
            "Epoch 27, loss: 0.39301785826683044\n",
            "Epoch 28, loss: 0.3859860897064209\n",
            "Epoch 29, loss: 0.38428324460983276\n",
            "Epoch 30, loss: 0.37963685393333435\n",
            "Epoch 31, loss: 0.3768872022628784\n",
            "Epoch 32, loss: 0.36757779121398926\n",
            "Epoch 33, loss: 0.3703646659851074\n",
            "Epoch 34, loss: 0.36212629079818726\n",
            "Epoch 35, loss: 0.36199185252189636\n",
            "Epoch 36, loss: 0.35939693450927734\n",
            "Epoch 37, loss: 0.3545220196247101\n",
            "Epoch 38, loss: 0.35763251781463623\n",
            "Epoch 39, loss: 0.35258564352989197\n",
            "Epoch 40, loss: 0.3507944643497467\n",
            "Epoch 41, loss: 0.3512275516986847\n",
            "Epoch 42, loss: 0.34694474935531616\n",
            "Epoch 43, loss: 0.34612080454826355\n",
            "Epoch 44, loss: 0.345939040184021\n",
            "Epoch 45, loss: 0.3473150134086609\n",
            "Epoch 46, loss: 0.34580132365226746\n",
            "Epoch 47, loss: 0.34580546617507935\n",
            "Epoch 48, loss: 0.34090033173561096\n",
            "Epoch 49, loss: 0.3407873809337616\n",
            "Epoch 50, loss: 0.34238138794898987\n",
            "Epoch 51, loss: 0.3395768105983734\n",
            "Epoch 52, loss: 0.33960452675819397\n",
            "Epoch 53, loss: 0.3414178490638733\n",
            "Epoch 54, loss: 0.33589208126068115\n",
            "Epoch 55, loss: 0.3412134349346161\n",
            "Epoch 56, loss: 0.33921054005622864\n",
            "Epoch 57, loss: 0.3364833891391754\n",
            "Epoch 58, loss: 0.3355332314968109\n",
            "Epoch 59, loss: 0.3348751962184906\n",
            "Epoch 60, loss: 0.33033275604248047\n",
            "Epoch 61, loss: 0.3327891528606415\n",
            "Epoch 62, loss: 0.33320480585098267\n",
            "Epoch 63, loss: 0.3320405185222626\n",
            "Epoch 64, loss: 0.3330552279949188\n",
            "Epoch 65, loss: 0.3278040289878845\n",
            "Epoch 66, loss: 0.3322204649448395\n",
            "Epoch 67, loss: 0.328298956155777\n",
            "Epoch 68, loss: 0.3288695216178894\n",
            "Epoch 69, loss: 0.326136976480484\n",
            "Epoch 70, loss: 0.3259558379650116\n",
            "Epoch 71, loss: 0.3234627842903137\n",
            "Epoch 72, loss: 0.32319772243499756\n",
            "Epoch 73, loss: 0.3216245174407959\n",
            "Epoch 74, loss: 0.3190559446811676\n",
            "Epoch 75, loss: 0.32010510563850403\n",
            "Epoch 76, loss: 0.3179302513599396\n",
            "Epoch 77, loss: 0.3186195194721222\n",
            "Epoch 78, loss: 0.3155767321586609\n",
            "Epoch 79, loss: 0.31787002086639404\n",
            "Epoch 80, loss: 0.31389084458351135\n",
            "Epoch 81, loss: 0.3124610483646393\n",
            "Epoch 82, loss: 0.31224027276039124\n",
            "Epoch 83, loss: 0.31052711606025696\n",
            "Epoch 84, loss: 0.309516578912735\n",
            "Epoch 85, loss: 0.30783987045288086\n",
            "Epoch 86, loss: 0.3074720501899719\n",
            "Epoch 87, loss: 0.3086104989051819\n",
            "Epoch 88, loss: 0.3079661428928375\n",
            "Epoch 89, loss: 0.3088887631893158\n",
            "Epoch 90, loss: 0.3067381978034973\n",
            "Epoch 91, loss: 0.30414462089538574\n",
            "Epoch 92, loss: 0.3045891225337982\n",
            "Epoch 93, loss: 0.30448174476623535\n",
            "Epoch 94, loss: 0.3037765622138977\n",
            "Epoch 95, loss: 0.3005679249763489\n",
            "Epoch 96, loss: 0.2997054159641266\n",
            "Epoch 97, loss: 0.3027122914791107\n",
            "Epoch 98, loss: 0.303345263004303\n",
            "Epoch 99, loss: 0.29705512523651123\n",
            "Epoch 100, loss: 0.2978743314743042\n",
            "Epoch 101, loss: 0.30122849345207214\n",
            "Epoch 102, loss: 0.2978043556213379\n",
            "Epoch 103, loss: 0.2943485975265503\n",
            "Epoch 104, loss: 0.29737383127212524\n",
            "Epoch 105, loss: 0.2954117953777313\n",
            "Epoch 106, loss: 0.29411908984184265\n",
            "Epoch 107, loss: 0.29543688893318176\n",
            "Epoch 108, loss: 0.29353463649749756\n",
            "Epoch 109, loss: 0.2895079553127289\n",
            "Epoch 110, loss: 0.2929990291595459\n",
            "Epoch 111, loss: 0.289829820394516\n",
            "Epoch 112, loss: 0.29293093085289\n",
            "Epoch 113, loss: 0.29391661286354065\n",
            "Epoch 114, loss: 0.29091569781303406\n",
            "Epoch 115, loss: 0.2898798882961273\n",
            "Epoch 116, loss: 0.28846120834350586\n",
            "Epoch 117, loss: 0.2904714047908783\n",
            "Epoch 118, loss: 0.28978121280670166\n",
            "Epoch 119, loss: 0.28989773988723755\n",
            "Epoch 120, loss: 0.28461363911628723\n",
            "Epoch 121, loss: 0.28318533301353455\n",
            "Epoch 122, loss: 0.2876760959625244\n",
            "Epoch 123, loss: 0.2869567573070526\n",
            "Epoch 124, loss: 0.28567418456077576\n",
            "Epoch 125, loss: 0.2885931134223938\n",
            "Epoch 126, loss: 0.2879185676574707\n",
            "Epoch 127, loss: 0.28576457500457764\n",
            "Epoch 128, loss: 0.2827942967414856\n",
            "Epoch 129, loss: 0.2837969660758972\n",
            "Epoch 130, loss: 0.2844580113887787\n",
            "Epoch 131, loss: 0.2831617295742035\n",
            "Epoch 132, loss: 0.28441596031188965\n",
            "Epoch 133, loss: 0.2847161591053009\n",
            "Epoch 134, loss: 0.282436728477478\n",
            "Epoch 135, loss: 0.2828865647315979\n",
            "Epoch 136, loss: 0.2842472195625305\n",
            "Epoch 137, loss: 0.2835492789745331\n",
            "Epoch 138, loss: 0.2832466959953308\n",
            "Epoch 139, loss: 0.2796344757080078\n",
            "Epoch 140, loss: 0.28127339482307434\n",
            "Epoch 141, loss: 0.27691593766212463\n",
            "Epoch 142, loss: 0.2814509868621826\n",
            "Epoch 143, loss: 0.28297126293182373\n",
            "Epoch 144, loss: 0.28204894065856934\n",
            "Epoch 145, loss: 0.27676886320114136\n",
            "Epoch 146, loss: 0.27867770195007324\n",
            "Epoch 147, loss: 0.2795121371746063\n",
            "Epoch 148, loss: 0.27879664301872253\n",
            "Epoch 149, loss: 0.2797958254814148\n",
            "Epoch 150, loss: 0.2814180552959442\n",
            "Epoch 151, loss: 0.27689453959465027\n",
            "Epoch 152, loss: 0.27969202399253845\n",
            "Epoch 153, loss: 0.2811278998851776\n",
            "Epoch 154, loss: 0.2802005708217621\n",
            "Epoch 155, loss: 0.27729806303977966\n",
            "Epoch 156, loss: 0.27880436182022095\n",
            "Epoch 157, loss: 0.27624887228012085\n",
            "Epoch 158, loss: 0.2785114645957947\n",
            "Epoch 159, loss: 0.2785351872444153\n",
            "Epoch 160, loss: 0.2751152813434601\n",
            "Epoch 161, loss: 0.27453646063804626\n",
            "Epoch 162, loss: 0.2787744402885437\n",
            "Epoch 163, loss: 0.27862095832824707\n",
            "Epoch 164, loss: 0.27565887570381165\n",
            "Epoch 165, loss: 0.27810949087142944\n",
            "Epoch 166, loss: 0.2742586135864258\n",
            "Epoch 167, loss: 0.2746705412864685\n",
            "Epoch 168, loss: 0.27510425448417664\n",
            "Epoch 169, loss: 0.27639997005462646\n",
            "Epoch 170, loss: 0.2757910192012787\n",
            "Epoch 171, loss: 0.2781795263290405\n",
            "Epoch 172, loss: 0.27446916699409485\n",
            "Epoch 173, loss: 0.2746392488479614\n",
            "Epoch 174, loss: 0.27684569358825684\n",
            "Epoch 175, loss: 0.27342262864112854\n",
            "Epoch 176, loss: 0.2756475508213043\n",
            "Epoch 177, loss: 0.2736625075340271\n",
            "Epoch 178, loss: 0.2729477286338806\n",
            "Epoch 179, loss: 0.2748897075653076\n",
            "Epoch 180, loss: 0.2714250981807709\n",
            "Epoch 181, loss: 0.2720603942871094\n",
            "Epoch 182, loss: 0.2710927426815033\n",
            "Epoch 183, loss: 0.27578508853912354\n",
            "Epoch 184, loss: 0.27187031507492065\n",
            "Epoch 185, loss: 0.27165743708610535\n",
            "Epoch 186, loss: 0.2726471424102783\n",
            "Epoch 187, loss: 0.27278319001197815\n",
            "Epoch 188, loss: 0.2693238854408264\n",
            "Epoch 189, loss: 0.2688084542751312\n",
            "Epoch 190, loss: 0.2704011797904968\n",
            "Epoch 191, loss: 0.2715635597705841\n",
            "Epoch 192, loss: 0.27119287848472595\n",
            "Epoch 193, loss: 0.2703704237937927\n",
            "Epoch 194, loss: 0.272087424993515\n",
            "Epoch 195, loss: 0.27017369866371155\n",
            "Epoch 196, loss: 0.2712502181529999\n",
            "Epoch 197, loss: 0.27112194895744324\n",
            "Epoch 198, loss: 0.2697196900844574\n",
            "Epoch 199, loss: 0.27228954434394836\n",
            "Epoch 200, loss: 0.27007192373275757\n",
            "Epoch 201, loss: 0.27235740423202515\n",
            "Epoch 202, loss: 0.27046892046928406\n",
            "Epoch 203, loss: 0.26963627338409424\n",
            "Epoch 204, loss: 0.2689651548862457\n",
            "Epoch 205, loss: 0.2727338373661041\n",
            "Epoch 206, loss: 0.26797056198120117\n",
            "Epoch 207, loss: 0.269329309463501\n",
            "Epoch 208, loss: 0.27023035287857056\n",
            "Epoch 209, loss: 0.2694452106952667\n",
            "Epoch 210, loss: 0.2708337903022766\n",
            "Epoch 211, loss: 0.26917001605033875\n",
            "Epoch 212, loss: 0.2672751545906067\n",
            "Epoch 213, loss: 0.2704545259475708\n",
            "Epoch 214, loss: 0.26695653796195984\n",
            "Epoch 215, loss: 0.26721641421318054\n",
            "Epoch 216, loss: 0.26911261677742004\n",
            "Epoch 217, loss: 0.2683317959308624\n",
            "Epoch 218, loss: 0.2688218653202057\n",
            "Epoch 219, loss: 0.26668334007263184\n",
            "Epoch 220, loss: 0.26934054493904114\n",
            "Epoch 221, loss: 0.26343151926994324\n",
            "Epoch 222, loss: 0.26832082867622375\n",
            "Epoch 223, loss: 0.2667924761772156\n",
            "Epoch 224, loss: 0.2643182873725891\n",
            "Epoch 225, loss: 0.2644388973712921\n",
            "Epoch 226, loss: 0.26661550998687744\n",
            "Epoch 227, loss: 0.26621830463409424\n",
            "Epoch 228, loss: 0.26471400260925293\n",
            "Epoch 229, loss: 0.2671129107475281\n",
            "Epoch 230, loss: 0.2659448981285095\n",
            "Epoch 231, loss: 0.26527470350265503\n",
            "Epoch 232, loss: 0.26318010687828064\n",
            "Epoch 233, loss: 0.2657696604728699\n",
            "Epoch 234, loss: 0.26310911774635315\n",
            "Epoch 235, loss: 0.2615126371383667\n",
            "Epoch 236, loss: 0.2657370865345001\n",
            "Epoch 237, loss: 0.2646060883998871\n",
            "Epoch 238, loss: 0.2644909620285034\n",
            "Epoch 239, loss: 0.2625928223133087\n",
            "Epoch 240, loss: 0.26506736874580383\n",
            "Epoch 241, loss: 0.2689327895641327\n",
            "Epoch 242, loss: 0.2651347219944\n",
            "Epoch 243, loss: 0.26516690850257874\n",
            "Epoch 244, loss: 0.26569655537605286\n",
            "Epoch 245, loss: 0.26441070437431335\n",
            "Epoch 246, loss: 0.2639976739883423\n",
            "Epoch 247, loss: 0.2623772621154785\n",
            "Epoch 248, loss: 0.2650245428085327\n",
            "Epoch 249, loss: 0.26531490683555603\n",
            "Epoch 250, loss: 0.26263663172721863\n",
            "Epoch 251, loss: 0.2652224600315094\n",
            "Epoch 252, loss: 0.26418444514274597\n",
            "Epoch 253, loss: 0.26213619112968445\n",
            "Epoch 254, loss: 0.26394495368003845\n",
            "Epoch 255, loss: 0.2622416913509369\n",
            "Epoch 256, loss: 0.26245254278182983\n",
            "Epoch 257, loss: 0.2644155025482178\n",
            "Epoch 258, loss: 0.2637239098548889\n",
            "Epoch 259, loss: 0.26263782382011414\n",
            "Epoch 260, loss: 0.26351213455200195\n",
            "Epoch 261, loss: 0.2629946172237396\n",
            "Epoch 262, loss: 0.26509585976600647\n",
            "Epoch 263, loss: 0.26204216480255127\n",
            "Epoch 264, loss: 0.26135608553886414\n",
            "Epoch 265, loss: 0.2626800239086151\n",
            "Epoch 266, loss: 0.26072028279304504\n",
            "Epoch 267, loss: 0.26118800044059753\n",
            "Epoch 268, loss: 0.26103177666664124\n",
            "Epoch 269, loss: 0.2614264190196991\n",
            "Epoch 270, loss: 0.26254332065582275\n",
            "Epoch 271, loss: 0.26024407148361206\n",
            "Epoch 272, loss: 0.2609251141548157\n",
            "Epoch 273, loss: 0.26208895444869995\n",
            "Epoch 274, loss: 0.2590561807155609\n",
            "Epoch 275, loss: 0.2600487768650055\n",
            "Epoch 276, loss: 0.2621806859970093\n",
            "Epoch 277, loss: 0.26169851422309875\n",
            "Epoch 278, loss: 0.2606256604194641\n",
            "Epoch 279, loss: 0.25927630066871643\n",
            "Epoch 280, loss: 0.26037395000457764\n",
            "Epoch 281, loss: 0.25948965549468994\n",
            "Epoch 282, loss: 0.26156267523765564\n",
            "Epoch 283, loss: 0.26276475191116333\n",
            "Epoch 284, loss: 0.2581097483634949\n",
            "Epoch 285, loss: 0.25971537828445435\n",
            "Epoch 286, loss: 0.2583710551261902\n",
            "Epoch 287, loss: 0.26278120279312134\n",
            "Epoch 288, loss: 0.2583175003528595\n",
            "Epoch 289, loss: 0.2597635090351105\n",
            "Epoch 290, loss: 0.25984805822372437\n",
            "Epoch 291, loss: 0.26330265402793884\n",
            "Epoch 292, loss: 0.2612210512161255\n",
            "Epoch 293, loss: 0.25816404819488525\n",
            "Epoch 294, loss: 0.2589285969734192\n",
            "Epoch 295, loss: 0.2613348662853241\n",
            "Epoch 296, loss: 0.25860512256622314\n",
            "Epoch 297, loss: 0.25738009810447693\n",
            "Epoch 298, loss: 0.25973308086395264\n",
            "Epoch 299, loss: 0.2599000930786133\n",
            "Epoch 300, loss: 0.2602934241294861\n",
            "Epoch 301, loss: 0.256522536277771\n",
            "Epoch 302, loss: 0.2574407458305359\n",
            "Epoch 303, loss: 0.25653767585754395\n",
            "Epoch 304, loss: 0.25983625650405884\n",
            "Epoch 305, loss: 0.2586980164051056\n",
            "Epoch 306, loss: 0.25624755024909973\n",
            "Epoch 307, loss: 0.25570738315582275\n",
            "Epoch 308, loss: 0.25754818320274353\n",
            "Epoch 309, loss: 0.2584611773490906\n",
            "Epoch 310, loss: 0.26041993498802185\n",
            "Epoch 311, loss: 0.2603360414505005\n",
            "Epoch 312, loss: 0.25785502791404724\n",
            "Epoch 313, loss: 0.2577435374259949\n",
            "Epoch 314, loss: 0.2571205496788025\n",
            "Epoch 315, loss: 0.2571522891521454\n",
            "Epoch 316, loss: 0.2555113434791565\n",
            "Epoch 317, loss: 0.2584872543811798\n",
            "Epoch 318, loss: 0.25831329822540283\n",
            "Epoch 319, loss: 0.2576785683631897\n",
            "Epoch 320, loss: 0.2570669949054718\n",
            "Epoch 321, loss: 0.25985410809516907\n",
            "Epoch 322, loss: 0.2609812319278717\n",
            "Epoch 323, loss: 0.25608453154563904\n",
            "Epoch 324, loss: 0.2554675340652466\n",
            "Epoch 325, loss: 0.2567274868488312\n",
            "Epoch 326, loss: 0.25634339451789856\n",
            "Epoch 327, loss: 0.255230575799942\n",
            "Epoch 328, loss: 0.2553721070289612\n",
            "Epoch 329, loss: 0.25637000799179077\n",
            "Epoch 330, loss: 0.2593652009963989\n",
            "Epoch 331, loss: 0.2561117708683014\n",
            "Epoch 332, loss: 0.2600904703140259\n",
            "Epoch 333, loss: 0.25571349263191223\n",
            "Epoch 334, loss: 0.25617271661758423\n",
            "Epoch 335, loss: 0.25490111112594604\n",
            "Epoch 336, loss: 0.25669172406196594\n",
            "Epoch 337, loss: 0.2531525790691376\n",
            "Epoch 338, loss: 0.25447118282318115\n",
            "Epoch 339, loss: 0.2550540268421173\n",
            "Epoch 340, loss: 0.25694674253463745\n",
            "Epoch 341, loss: 0.2577759325504303\n",
            "Epoch 342, loss: 0.25697752833366394\n",
            "Epoch 343, loss: 0.2525348663330078\n",
            "Epoch 344, loss: 0.25770795345306396\n",
            "Epoch 345, loss: 0.25759562849998474\n",
            "Epoch 346, loss: 0.25484853982925415\n",
            "Epoch 347, loss: 0.2548619508743286\n",
            "Epoch 348, loss: 0.25324004888534546\n",
            "Epoch 349, loss: 0.2566385567188263\n",
            "Epoch 350, loss: 0.2553136348724365\n",
            "Epoch 351, loss: 0.253481924533844\n",
            "Epoch 352, loss: 0.25525081157684326\n",
            "Epoch 353, loss: 0.25490227341651917\n",
            "Epoch 354, loss: 0.25303345918655396\n",
            "Epoch 355, loss: 0.25855815410614014\n",
            "Epoch 356, loss: 0.25412797927856445\n",
            "Epoch 357, loss: 0.25482994318008423\n",
            "Epoch 358, loss: 0.2561642527580261\n",
            "Epoch 359, loss: 0.25410136580467224\n",
            "Epoch 360, loss: 0.2539050579071045\n",
            "Epoch 361, loss: 0.25356703996658325\n",
            "Epoch 362, loss: 0.2544125020503998\n",
            "Epoch 363, loss: 0.2543194890022278\n",
            "Epoch 364, loss: 0.2550983130931854\n",
            "Epoch 365, loss: 0.2543869912624359\n",
            "Epoch 366, loss: 0.25464171171188354\n",
            "Epoch 367, loss: 0.2557505667209625\n",
            "Epoch 368, loss: 0.25185635685920715\n",
            "Epoch 369, loss: 0.2527025640010834\n",
            "Epoch 370, loss: 0.2544689476490021\n",
            "Epoch 371, loss: 0.2517565190792084\n",
            "Epoch 372, loss: 0.25248217582702637\n",
            "Epoch 373, loss: 0.25328323245048523\n",
            "Epoch 374, loss: 0.2550048232078552\n",
            "Epoch 375, loss: 0.253102570772171\n",
            "Epoch 376, loss: 0.254901647567749\n",
            "Epoch 377, loss: 0.2530826926231384\n",
            "Epoch 378, loss: 0.25510621070861816\n",
            "Epoch 379, loss: 0.25245246291160583\n",
            "Epoch 380, loss: 0.2548021972179413\n",
            "Epoch 381, loss: 0.25478795170783997\n",
            "Epoch 382, loss: 0.2528373897075653\n",
            "Epoch 383, loss: 0.2522767186164856\n",
            "Epoch 384, loss: 0.25327154994010925\n",
            "Epoch 385, loss: 0.2545647919178009\n",
            "Epoch 386, loss: 0.25517916679382324\n",
            "Epoch 387, loss: 0.2559692859649658\n",
            "Epoch 388, loss: 0.2543347477912903\n",
            "Epoch 389, loss: 0.2545638978481293\n",
            "Epoch 390, loss: 0.25301724672317505\n",
            "Epoch 391, loss: 0.2542877793312073\n",
            "Epoch 392, loss: 0.25178202986717224\n",
            "Epoch 393, loss: 0.2524852156639099\n",
            "Epoch 394, loss: 0.2522693872451782\n",
            "Epoch 395, loss: 0.25390300154685974\n",
            "Epoch 396, loss: 0.2546323537826538\n",
            "Epoch 397, loss: 0.254256933927536\n",
            "Epoch 398, loss: 0.2523443102836609\n",
            "Epoch 399, loss: 0.2537209987640381\n",
            "Epoch 400, loss: 0.25226786732673645\n",
            "Epoch 401, loss: 0.2525229752063751\n",
            "Epoch 402, loss: 0.25118184089660645\n",
            "Epoch 403, loss: 0.25231626629829407\n",
            "Epoch 404, loss: 0.25074347853660583\n",
            "Epoch 405, loss: 0.25416383147239685\n",
            "Epoch 406, loss: 0.25269821286201477\n",
            "Epoch 407, loss: 0.2550572454929352\n",
            "Epoch 408, loss: 0.2523174583911896\n",
            "Epoch 409, loss: 0.2539256513118744\n",
            "Epoch 410, loss: 0.2514449656009674\n",
            "Epoch 411, loss: 0.25327131152153015\n",
            "Epoch 412, loss: 0.25346246361732483\n",
            "Epoch 413, loss: 0.25047823786735535\n",
            "Epoch 414, loss: 0.25145959854125977\n",
            "Epoch 415, loss: 0.25123903155326843\n",
            "Epoch 416, loss: 0.25254184007644653\n",
            "Epoch 417, loss: 0.25264331698417664\n",
            "Epoch 418, loss: 0.25259020924568176\n",
            "Epoch 419, loss: 0.25096797943115234\n",
            "Epoch 420, loss: 0.2492375522851944\n",
            "Epoch 421, loss: 0.25245970487594604\n",
            "Epoch 422, loss: 0.25122639536857605\n",
            "Epoch 423, loss: 0.2549094557762146\n",
            "Epoch 424, loss: 0.2524860203266144\n",
            "Epoch 425, loss: 0.24800315499305725\n",
            "Epoch 426, loss: 0.2523825168609619\n",
            "Epoch 427, loss: 0.24951761960983276\n",
            "Epoch 428, loss: 0.2525954246520996\n",
            "Epoch 429, loss: 0.25099486112594604\n",
            "Epoch 430, loss: 0.2521991729736328\n",
            "Epoch 431, loss: 0.25202035903930664\n",
            "Epoch 432, loss: 0.25302305817604065\n",
            "Epoch 433, loss: 0.24933306872844696\n",
            "Epoch 434, loss: 0.2501274347305298\n",
            "Epoch 435, loss: 0.24808239936828613\n",
            "Epoch 436, loss: 0.2531248927116394\n",
            "Epoch 437, loss: 0.2520495355129242\n",
            "Epoch 438, loss: 0.2512862980365753\n",
            "Epoch 439, loss: 0.25117096304893494\n",
            "Epoch 440, loss: 0.2530953288078308\n",
            "Epoch 441, loss: 0.2509079873561859\n",
            "Epoch 442, loss: 0.2507365643978119\n",
            "Epoch 443, loss: 0.25306347012519836\n",
            "Epoch 444, loss: 0.25295183062553406\n",
            "Epoch 445, loss: 0.2510208487510681\n",
            "Epoch 446, loss: 0.25057294964790344\n",
            "Epoch 447, loss: 0.25207608938217163\n",
            "Epoch 448, loss: 0.2510220408439636\n",
            "Epoch 449, loss: 0.2512284219264984\n",
            "Epoch 450, loss: 0.25407421588897705\n",
            "Epoch 451, loss: 0.24902911484241486\n",
            "Epoch 452, loss: 0.2520673871040344\n",
            "Epoch 453, loss: 0.2502667307853699\n",
            "Epoch 454, loss: 0.2507309317588806\n",
            "Epoch 455, loss: 0.24869342148303986\n",
            "Epoch 456, loss: 0.24922913312911987\n",
            "Epoch 457, loss: 0.2521524429321289\n",
            "Epoch 458, loss: 0.2485511302947998\n",
            "Epoch 459, loss: 0.2519950568675995\n",
            "Epoch 460, loss: 0.24921445548534393\n",
            "Epoch 461, loss: 0.2477165162563324\n",
            "Epoch 462, loss: 0.2502371668815613\n",
            "Epoch 463, loss: 0.25023412704467773\n",
            "Epoch 464, loss: 0.24936944246292114\n"
          ],
          "name": "stdout"
        }
      ]
    },
    {
      "cell_type": "code",
      "metadata": {
        "id": "PJTiQt3b0479"
      },
      "source": [
        "### PLotting the loss function\n",
        "\n",
        "plt.plot(range(epochs), final_losses)\n",
        "plt.ylabel('Cross Entropy Loss')\n",
        "plt.xlabel('epoch');"
      ],
      "execution_count": null,
      "outputs": []
    },
    {
      "cell_type": "code",
      "metadata": {
        "id": "P_d7-hLb7C9C"
      },
      "source": [
        "# TO EVALUATE THE ENTIRE TEST SET\n",
        "with torch.no_grad():\n",
        "    y_val = model(cat_test, con_test)\n",
        "    loss = criterion(y_val, y_test)\n",
        "print(f'CE Loss: {loss:.8f}')"
      ],
      "execution_count": null,
      "outputs": []
    },
    {
      "cell_type": "code",
      "metadata": {
        "id": "-eLf5i6zHsJd"
      },
      "source": [
        "rows = 50\n",
        "correct = 0\n",
        "print(f'{\"MODEL OUTPUT\":26} ARGMAX  Y_TEST')\n",
        "for i in range(rows):\n",
        "    print(f'{str(y_val[i]):26} {y_val[i].argmax():^7}{y_test[i]:^7}')\n",
        "    if y_val[i].argmax().item() == y_test[i]:\n",
        "        correct += 1\n",
        "print(f'\\n{correct} out of {rows} = {100*correct/rows:.2f}% correct')"
      ],
      "execution_count": null,
      "outputs": []
    },
    {
      "cell_type": "code",
      "metadata": {
        "id": "SVvIq6WSKnKE"
      },
      "source": [
        ""
      ],
      "execution_count": null,
      "outputs": []
    }
  ]
}